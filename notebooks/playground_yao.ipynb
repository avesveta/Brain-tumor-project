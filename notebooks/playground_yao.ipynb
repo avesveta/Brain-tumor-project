{
 "cells": [
  {
   "cell_type": "code",
   "execution_count": 7,
   "metadata": {},
   "outputs": [],
   "source": [
    "%load_ext autoreload\n",
    "%autoreload 2\n",
    "\n",
    "import os\n",
    "import numpy as np\n",
    "from nibabel.viewers import OrthoSlicer3D\n",
    "from nibabel import nifti1\n",
    "import nibabel as nib\n",
    "from matplotlib import pylab as plt\n",
    "import matplotlib\n",
    "#from backend.ml_logic.data import load_nii_from_gcp\n",
    "\n",
    "from google.cloud import storage\n",
    "\n"
   ]
  },
  {
   "cell_type": "code",
   "execution_count": 2,
   "metadata": {},
   "outputs": [],
   "source": [
    "import os\n",
    "# make a lockal cach folder\n",
    "directory = \"cache\" \n",
    "\n",
    "#need to change the '/home/yaoyx001/code/' to your folder location\n",
    "parent_dir = \"/home/yaoyx001/code/\" \n",
    "# Path\n",
    "path = os.path.join(parent_dir, directory)\n",
    "  \n",
    "# Create the directory\n",
    "if not os.path.exists(path):\n",
    "    os.makedirs(path)\n",
    "    print(\"Directory '% s' created\" % directory)\n",
    "\n"
   ]
  },
  {
   "cell_type": "code",
   "execution_count": 3,
   "metadata": {},
   "outputs": [],
   "source": [
    "from google.cloud import storage\n",
    "import os\n",
    "\n",
    "#check the connection to GCP\n",
    "client = storage.Client()\n",
    "\n",
    "#get the Bucket Name from .env\n",
    "bucket_name = 'row_data_bucket'\n",
    "bucket = client.get_bucket(bucket_name)\n",
    "\n",
    "blob_name='BraTS20_Training_001_seg.nii'\n",
    "#get the blob(file)\n",
    "blob = bucket.blob(blob_name)\n",
    "\n",
    "cache_file = os.path.join(path, blob_name)\n",
    "#save the file in cache_folder\n",
    "\n",
    "if not os.path.isfile(cache_file):\n",
    "    blob.download_to_filename(cache_file)"
   ]
  },
  {
   "cell_type": "code",
   "execution_count": 12,
   "metadata": {},
   "outputs": [],
   "source": [
    "from google.cloud import storage\n",
    "import os\n",
    "\n",
    "\n",
    "client = storage.Client()\n",
    "\n",
    "#get the Bucket Name from .env\n",
    "bucket_name = 'row_data_bucket'\n",
    "#set bucket\n",
    "bucket = client.get_bucket(bucket_name)\n",
    "#give the blob_name that you want to access\n",
    "blob_name='BraTS20_Training_005_seg.nii'\n",
    "#get the blob(file)\n",
    "blob = bucket.blob(blob_name)\n",
    "# make a lockal cach folder\n",
    "directory = \"cache\" \n",
    "parent_dir = \"/home/yaoyx001/code/\" #need to change the yaoyx001 to your username\n",
    "# Path\n",
    "path = os.path.join(parent_dir, directory)\n",
    "  \n",
    "# Create the directory\n",
    "if not os.path.exists(path):\n",
    "    os.makedirs(path)\n",
    "    print(\"Directory '% s' created\" % directory)\n",
    "\n",
    "cache_file = os.path.join(path, blob_name)\n",
    "#save the file in cache_folder\n",
    "\n",
    "if not os.path.isfile(cache_file):\n",
    "    blob.download_to_filename(cache_file)"
   ]
  },
  {
   "cell_type": "code",
   "execution_count": 2,
   "metadata": {},
   "outputs": [
    {
     "ename": "NameError",
     "evalue": "name 'path' is not defined",
     "output_type": "error",
     "traceback": [
      "\u001b[0;31m---------------------------------------------------------------------------\u001b[0m",
      "\u001b[0;31mNameError\u001b[0m                                 Traceback (most recent call last)",
      "Cell \u001b[0;32mIn[2], line 1\u001b[0m\n\u001b[0;32m----> 1\u001b[0m \u001b[39mdef\u001b[39;00m \u001b[39mload_nii_from_gcp2\u001b[39m(filename:\u001b[39mstr\u001b[39m,cache_folder_path:path):\n\u001b[1;32m      2\u001b[0m     \u001b[39mfrom\u001b[39;00m \u001b[39mgoogle\u001b[39;00m\u001b[39m.\u001b[39;00m\u001b[39mcloud\u001b[39;00m \u001b[39mimport\u001b[39;00m storage\n\u001b[1;32m      3\u001b[0m     \u001b[39mimport\u001b[39;00m \u001b[39mos\u001b[39;00m\n",
      "\u001b[0;31mNameError\u001b[0m: name 'path' is not defined"
     ]
    }
   ],
   "source": [
    "def load_nii_from_gcp2(filename:str,cache_folder_path:path):\n",
    "    from google.cloud import storage\n",
    "    import os\n",
    "    import nibabel as nib\n",
    "    \n",
    "    \n",
    "    #make the connection to GCP\n",
    "    client = storage.Client()\n",
    "    #get the Bucket Name from .env\n",
    "    bucket_name = 'row_data_bucket'\n",
    "    #set bucket\n",
    "    bucket = client.get_bucket(bucket_name)\n",
    "    #give the blob_name that you want to access\n",
    "    blob_name= filename\n",
    "    #get the blob(file)\n",
    "    blob = bucket.blob(blob_name)\n",
    "    \n",
    "    cache_file_path = os.path.join(cache_folder_path, blob_name)\n",
    "    #save the file in cache_folder\n",
    "    if not os.path.isfile(cache_file_path):\n",
    "        blob.download_to_filename(cache_file_path)\n",
    "        \n",
    "    img =nib.load(cache_file_path)\n",
    "    return img"
   ]
  },
  {
   "cell_type": "code",
   "execution_count": 8,
   "metadata": {},
   "outputs": [
    {
     "name": "stdout",
     "output_type": "stream",
     "text": [
      "\n",
      "<class 'nibabel.nifti1.Nifti1Image'>\n",
      "data shape (240, 240, 155)\n",
      "affine:\n",
      "[[ -1.  -0.  -0.   0.]\n",
      " [ -0.  -1.  -0. 239.]\n",
      " [  0.   0.   1.   0.]\n",
      " [  0.   0.   0.   1.]]\n",
      "metadata:\n",
      "<class 'nibabel.nifti1.Nifti1Header'> object, endian='<'\n",
      "sizeof_hdr      : 348\n",
      "data_type       : b''\n",
      "db_name         : b''\n",
      "extents         : 0\n",
      "session_error   : 0\n",
      "regular         : b'r'\n",
      "dim_info        : 0\n",
      "dim             : [  3 240 240 155   1   1   1   1]\n",
      "intent_p1       : 0.0\n",
      "intent_p2       : 0.0\n",
      "intent_p3       : 0.0\n",
      "intent_code     : none\n",
      "datatype        : uint8\n",
      "bitpix          : 8\n",
      "slice_start     : 0\n",
      "pixdim          : [1. 1. 1. 1. 0. 0. 0. 0.]\n",
      "vox_offset      : 0.0\n",
      "scl_slope       : nan\n",
      "scl_inter       : nan\n",
      "slice_end       : 0\n",
      "slice_code      : unknown\n",
      "xyzt_units      : 2\n",
      "cal_max         : 0.0\n",
      "cal_min         : 0.0\n",
      "slice_duration  : 0.0\n",
      "toffset         : 0.0\n",
      "glmax           : 0\n",
      "glmin           : 0\n",
      "descrip         : b''\n",
      "aux_file        : b''\n",
      "qform_code      : scanner\n",
      "sform_code      : scanner\n",
      "quatern_b       : 0.0\n",
      "quatern_c       : 0.0\n",
      "quatern_d       : 1.0\n",
      "qoffset_x       : 0.0\n",
      "qoffset_y       : 239.0\n",
      "qoffset_z       : 0.0\n",
      "srow_x          : [-1. -0. -0.  0.]\n",
      "srow_y          : [ -0.  -1.  -0. 239.]\n",
      "srow_z          : [0. 0. 1. 0.]\n",
      "intent_name     : b''\n",
      "magic           : b'n+1'\n",
      "\n",
      "(240, 240, 155)\n"
     ]
    },
    {
     "data": {
      "image/png": "[encoded data removed]",
      "text/plain": [
       "<Figure size 640x480 with 16 Axes>"
      ]
     },
     "metadata": {},
     "output_type": "display_data"
    }
   ],
   "source": [
    "#load the \n",
    "img = nib.load('BraTS20_Training_001_seg.nii')\n",
    "\n",
    "# print the img\n",
    "print(img)\n",
    "print(img.dataobj.shape)\n",
    "\n",
    "\n",
    "# 由文件本身维度确定，可能是3维，也可能是4维 \n",
    "width,height,queue=img.dataobj.shape\n",
    "  \n",
    "num = 1\n",
    "for i in range(0,queue,10):\n",
    " \n",
    "    img_arr = img.dataobj[:,:,i]\n",
    "    plt.subplot(5,4,num)\n",
    "    plt.imshow(img_arr,cmap='gray')\n",
    "    num +=1\n",
    " \n",
    "plt.show()\n"
   ]
  },
  {
   "cell_type": "code",
   "execution_count": 12,
   "metadata": {},
   "outputs": [],
   "source": [
    "\n",
    "def preprocess_nii_for_test(nii_file):\n",
    "    \n",
    "    img = nib.load(nii_file)\n",
    "    img_data = img.dataobj\n",
    "    img_data_choped = img_data[MIN_HEIGHT:MAX_HEIGHT,\n",
    "                               MIN_WIDTH:MAX_WIDTH,\n",
    "                               MIN_DEPTH:MAX_DEPTH]\n",
    "\n",
    "    img_data_choped = np.array(img_data_choped) # not sure if that works\n",
    "    print(img_data_choped.shape)\n",
    "    img_data_choped[img_data_choped>840]=840 # set the max value to 840\n",
    "    img_data_choped = (img_data_choped - 0)/840 # Min-Max Scaler\n",
    "    return img_data_choped"
   ]
  },
  {
   "cell_type": "code",
   "execution_count": 13,
   "metadata": {},
   "outputs": [
    {
     "name": "stdout",
     "output_type": "stream",
     "text": [
      "(190, 190, 128)\n"
     ]
    },
    {
     "name": "stderr",
     "output_type": "stream",
     "text": [
      "/tmp/ipykernel_29604/100830122.py:11: DeprecationWarning: NumPy will stop allowing conversion of out-of-bound Python integers to integer arrays.  The conversion of 840 to uint8 will fail in the future.\n",
      "For the old behavior, usually:\n",
      "    np.array(value).astype(dtype)`\n",
      "will give the desired result (the cast overflows).\n",
      "  img_data_choped[img_data_choped>840]=840 # set the max value to 840\n"
     ]
    },
    {
     "data": {
      "text/plain": [
       "array([[[0., 0., 0., ..., 0., 0., 0.],\n",
       "        [0., 0., 0., ..., 0., 0., 0.],\n",
       "        [0., 0., 0., ..., 0., 0., 0.],\n",
       "        ...,\n",
       "        [0., 0., 0., ..., 0., 0., 0.],\n",
       "        [0., 0., 0., ..., 0., 0., 0.],\n",
       "        [0., 0., 0., ..., 0., 0., 0.]],\n",
       "\n",
       "       [[0., 0., 0., ..., 0., 0., 0.],\n",
       "        [0., 0., 0., ..., 0., 0., 0.],\n",
       "        [0., 0., 0., ..., 0., 0., 0.],\n",
       "        ...,\n",
       "        [0., 0., 0., ..., 0., 0., 0.],\n",
       "        [0., 0., 0., ..., 0., 0., 0.],\n",
       "        [0., 0., 0., ..., 0., 0., 0.]],\n",
       "\n",
       "       [[0., 0., 0., ..., 0., 0., 0.],\n",
       "        [0., 0., 0., ..., 0., 0., 0.],\n",
       "        [0., 0., 0., ..., 0., 0., 0.],\n",
       "        ...,\n",
       "        [0., 0., 0., ..., 0., 0., 0.],\n",
       "        [0., 0., 0., ..., 0., 0., 0.],\n",
       "        [0., 0., 0., ..., 0., 0., 0.]],\n",
       "\n",
       "       ...,\n",
       "\n",
       "       [[0., 0., 0., ..., 0., 0., 0.],\n",
       "        [0., 0., 0., ..., 0., 0., 0.],\n",
       "        [0., 0., 0., ..., 0., 0., 0.],\n",
       "        ...,\n",
       "        [0., 0., 0., ..., 0., 0., 0.],\n",
       "        [0., 0., 0., ..., 0., 0., 0.],\n",
       "        [0., 0., 0., ..., 0., 0., 0.]],\n",
       "\n",
       "       [[0., 0., 0., ..., 0., 0., 0.],\n",
       "        [0., 0., 0., ..., 0., 0., 0.],\n",
       "        [0., 0., 0., ..., 0., 0., 0.],\n",
       "        ...,\n",
       "        [0., 0., 0., ..., 0., 0., 0.],\n",
       "        [0., 0., 0., ..., 0., 0., 0.],\n",
       "        [0., 0., 0., ..., 0., 0., 0.]],\n",
       "\n",
       "       [[0., 0., 0., ..., 0., 0., 0.],\n",
       "        [0., 0., 0., ..., 0., 0., 0.],\n",
       "        [0., 0., 0., ..., 0., 0., 0.],\n",
       "        ...,\n",
       "        [0., 0., 0., ..., 0., 0., 0.],\n",
       "        [0., 0., 0., ..., 0., 0., 0.],\n",
       "        [0., 0., 0., ..., 0., 0., 0.]]])"
      ]
     },
     "execution_count": 13,
     "metadata": {},
     "output_type": "execute_result"
    }
   ],
   "source": [
    "MIN_WIDTH = 25 # 40\n",
    "MAX_WIDTH = 215 # 195\n",
    "\n",
    "MIN_HEIGHT = 35 # 35\n",
    "MAX_HEIGHT = 225 # 225\n",
    "\n",
    "MIN_DEPTH = 15 # 26\n",
    "MAX_DEPTH = 143 # 137\n",
    "preprocess_nii_for_test('BraTS20_Training_001_seg.nii')"
   ]
  },
  {
   "cell_type": "code",
   "execution_count": 4,
   "metadata": {},
   "outputs": [],
   "source": [
    "def upload_blob(bucket_name, source_file_name, destination_blob_name):\n",
    "    \"\"\"Uploads a file to the bucket.\"\"\"\n",
    "    # The ID of your GCS bucket\n",
    "    # bucket_name = \"your-bucket-name\"\n",
    "    # The path to your file to upload\n",
    "    # source_file_name = \"local/path/to/file\"\n",
    "    # The ID of your GCS object\n",
    "    # destination_blob_name = \"storage-object-name\"\n",
    "\n",
    "    storage_client = storage.Client()\n",
    "    bucket = storage_client.bucket(bucket_name)\n",
    "    blob = bucket.blob(destination_blob_name)\n",
    "\n",
    "    # Optional: set a generation-match precondition to avoid potential race conditions\n",
    "    # and data corruptions. The request to upload is aborted if the object's\n",
    "    # generation number does not match your precondition. For a destination\n",
    "    # object that does not yet exist, set the if_generation_match precondition to 0.\n",
    "    # If the destination object already exists in your bucket, set instead a\n",
    "    # generation-match precondition using its generation number.\n",
    "    generation_match_precondition = 0\n",
    "\n",
    "    blob.upload_from_filename(source_file_name, if_generation_match=generation_match_precondition)\n",
    "\n",
    "    print(\n",
    "        f\"File {source_file_name} uploaded to {destination_blob_name}.\"\n",
    "    )\n"
   ]
  },
  {
   "cell_type": "code",
   "execution_count": 7,
   "metadata": {},
   "outputs": [
    {
     "name": "stdout",
     "output_type": "stream",
     "text": [
      "File Grade_ID_nii.pkl uploaded to Grade_ID_nii.pkl.\n"
     ]
    }
   ],
   "source": [
    "upload_blob(bucket_name='row_data_bucket', source_file_name=\"Grade_ID_nii.pkl\",destination_blob_name=\"Grade_ID_nii.pkl\")"
   ]
  },
  {
   "cell_type": "code",
   "execution_count": 4,
   "metadata": {},
   "outputs": [
    {
     "name": "stdout",
     "output_type": "stream",
     "text": [
      "loading nii from cloud as save it in raw_data folder\n"
     ]
    },
    {
     "ename": "EOFError",
     "evalue": "Ran out of input",
     "output_type": "error",
     "traceback": [
      "\u001b[0;31m---------------------------------------------------------------------------\u001b[0m",
      "\u001b[0;31mEOFError\u001b[0m                                  Traceback (most recent call last)",
      "Cell \u001b[0;32mIn[4], line 12\u001b[0m\n\u001b[1;32m      8\u001b[0m \u001b[39mif\u001b[39;00m \u001b[39mnot\u001b[39;00m os\u001b[39m.\u001b[39mpath\u001b[39m.\u001b[39misfile(pkl_file):\n\u001b[1;32m     10\u001b[0m     \u001b[39mprint\u001b[39m(\u001b[39mf\u001b[39m\u001b[39m'\u001b[39m\u001b[39m{\u001b[39;00mpkl_file\u001b[39m}\u001b[39;00m\u001b[39m is saved into raw_data\u001b[39m\u001b[39m'\u001b[39m)\n\u001b[0;32m---> 12\u001b[0m df \u001b[39m=\u001b[39m pd\u001b[39m.\u001b[39;49mread_pickle(pkl_file)\n",
      "File \u001b[0;32m~/.pyenv/versions/3.10.6/envs/brain-tumor-project/lib/python3.10/site-packages/pandas/io/pickle.py:208\u001b[0m, in \u001b[0;36mread_pickle\u001b[0;34m(filepath_or_buffer, compression, storage_options)\u001b[0m\n\u001b[1;32m    205\u001b[0m     \u001b[39mwith\u001b[39;00m warnings\u001b[39m.\u001b[39mcatch_warnings(record\u001b[39m=\u001b[39m\u001b[39mTrue\u001b[39;00m):\n\u001b[1;32m    206\u001b[0m         \u001b[39m# We want to silence any warnings about, e.g. moved modules.\u001b[39;00m\n\u001b[1;32m    207\u001b[0m         warnings\u001b[39m.\u001b[39msimplefilter(\u001b[39m\"\u001b[39m\u001b[39mignore\u001b[39m\u001b[39m\"\u001b[39m, \u001b[39mWarning\u001b[39;00m)\n\u001b[0;32m--> 208\u001b[0m         \u001b[39mreturn\u001b[39;00m pickle\u001b[39m.\u001b[39;49mload(handles\u001b[39m.\u001b[39;49mhandle)\n\u001b[1;32m    209\u001b[0m \u001b[39mexcept\u001b[39;00m excs_to_catch:\n\u001b[1;32m    210\u001b[0m     \u001b[39m# e.g.\u001b[39;00m\n\u001b[1;32m    211\u001b[0m     \u001b[39m#  \"No module named 'pandas.core.sparse.series'\"\u001b[39;00m\n\u001b[1;32m    212\u001b[0m     \u001b[39m#  \"Can't get attribute '__nat_unpickle' on <module 'pandas._libs.tslib\"\u001b[39;00m\n\u001b[1;32m    213\u001b[0m     \u001b[39mreturn\u001b[39;00m pc\u001b[39m.\u001b[39mload(handles\u001b[39m.\u001b[39mhandle, encoding\u001b[39m=\u001b[39m\u001b[39mNone\u001b[39;00m)\n",
      "\u001b[0;31mEOFError\u001b[0m: Ran out of input"
     ]
    }
   ],
   "source": [
    "import os\n",
    "import pandas as pd\n",
    "channel = 't1'\n",
    "#load nii file from cloud or local cach folder and save it as pkl in /raw_data\n",
    "\n",
    "pkl_file= f\"raw_data/Grade_ID_{channel}_nii.pkl\"\n",
    "print('loading nii from cloud as save it in raw_data folder')\n",
    "if not os.path.isfile(pkl_file):\n",
    "    \n",
    "    print(f'{pkl_file} is saved into raw_data')\n",
    "\n",
    "df = pd.read_pickle(pkl_file)"
   ]
  }
 ],
 "metadata": {
  "kernelspec": {
   "display_name": "brain-tumor-project",
   "language": "python",
   "name": "python3"
  },
  "language_info": {
   "codemirror_mode": {
    "name": "ipython",
    "version": 3
   },
   "file_extension": ".py",
   "mimetype": "text/x-python",
   "name": "python",
   "nbconvert_exporter": "python",
   "pygments_lexer": "ipython3",
   "version": "3.10.6"
  },
  "orig_nbformat": 4
 },
 "nbformat": 4,
 "nbformat_minor": 2
}
