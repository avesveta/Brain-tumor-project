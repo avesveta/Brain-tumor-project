{
 "cells": [
  {
   "attachments": {},
   "cell_type": "markdown",
   "metadata": {},
   "source": [
    "## Step 1: Import libraries"
   ]
  },
  {
   "cell_type": "code",
   "execution_count": 1,
   "metadata": {},
   "outputs": [
    {
     "name": "stderr",
     "output_type": "stream",
     "text": [
      "2023-03-16 10:04:33.631150: I tensorflow/core/platform/cpu_feature_guard.cc:193] This TensorFlow binary is optimized with oneAPI Deep Neural Network Library (oneDNN) to use the following CPU instructions in performance-critical operations:  AVX2 AVX512F AVX512_VNNI FMA\n",
      "To enable them in other operations, rebuild TensorFlow with the appropriate compiler flags.\n",
      "2023-03-16 10:04:33.734130: I tensorflow/core/util/port.cc:104] oneDNN custom operations are on. You may see slightly different numerical results due to floating-point round-off errors from different computation orders. To turn them off, set the environment variable `TF_ENABLE_ONEDNN_OPTS=0`.\n",
      "2023-03-16 10:04:33.737836: W tensorflow/compiler/xla/stream_executor/platform/default/dso_loader.cc:64] Could not load dynamic library 'libcudart.so.11.0'; dlerror: libcudart.so.11.0: cannot open shared object file: No such file or directory\n",
      "2023-03-16 10:04:33.737850: I tensorflow/compiler/xla/stream_executor/cuda/cudart_stub.cc:29] Ignore above cudart dlerror if you do not have a GPU set up on your machine.\n",
      "2023-03-16 10:04:34.454010: W tensorflow/compiler/xla/stream_executor/platform/default/dso_loader.cc:64] Could not load dynamic library 'libnvinfer.so.7'; dlerror: libnvinfer.so.7: cannot open shared object file: No such file or directory\n",
      "2023-03-16 10:04:34.454066: W tensorflow/compiler/xla/stream_executor/platform/default/dso_loader.cc:64] Could not load dynamic library 'libnvinfer_plugin.so.7'; dlerror: libnvinfer_plugin.so.7: cannot open shared object file: No such file or directory\n",
      "2023-03-16 10:04:34.454073: W tensorflow/compiler/tf2tensorrt/utils/py_utils.cc:38] TF-TRT Warning: Cannot dlopen some TensorRT libraries. If you would like to use Nvidia GPU with TensorRT, please make sure the missing libraries mentioned above are installed properly.\n"
     ]
    }
   ],
   "source": [
    "import matplotlib.pyplot as plt\n",
    "import os\n",
    "import numpy as np\n",
    "import pandas as pd\n",
    "import random\n",
    "import tensorflow as tf\n",
    "\n",
    "from scipy import ndimage\n",
    "from sklearn.model_selection import train_test_split\n",
    "from sklearn import metrics\n",
    "from sklearn.metrics import classification_report\n",
    "\n",
    "from tensorflow.keras.layers import Conv3D, MaxPooling3D, Dense, \\\n",
    "    GlobalAveragePooling3D, BatchNormalization, Dropout, \\\n",
    "        UpSampling3D, concatenate, Flatten, ConvLSTM2D, Bidirectional, \\\n",
    "            Cropping3D, ZeroPadding3D, Activation, Input, UpSampling3D, \\\n",
    "                Conv3DTranspose\n",
    "from tensorflow.keras.models import Sequential, save_model, load_model, Model\n",
    "from tensorflow.keras.callbacks import EarlyStopping\n",
    "from tensorflow.keras.optimizers import Adam\n",
    "\n",
    "\n",
    "%matplotlib inline"
   ]
  },
  {
   "attachments": {},
   "cell_type": "markdown",
   "metadata": {},
   "source": [
    "## Step 2: Set Constants"
   ]
  },
  {
   "cell_type": "code",
   "execution_count": 2,
   "metadata": {},
   "outputs": [],
   "source": [
    "SEED = 137\n",
    "# using the range from segmentation\n",
    "# [40:195,35:225,26:137]\n",
    "# constants to crop images\n",
    "\n",
    "MIN_WIDTH = 25 # 40\n",
    "MAX_WIDTH = 215 # 195\n",
    "\n",
    "MIN_HEIGHT = 35 # 35\n",
    "MAX_HEIGHT = 225 # 225\n",
    "\n",
    "MIN_DEPTH = 15 # 26\n",
    "MAX_DEPTH = 143 # 137"
   ]
  },
  {
   "cell_type": "markdown",
   "metadata": {},
   "source": []
  },
  {
   "cell_type": "code",
   "execution_count": 3,
   "metadata": {},
   "outputs": [],
   "source": [
    "#channel \n",
    "channel = 't1'"
   ]
  },
  {
   "attachments": {},
   "cell_type": "markdown",
   "metadata": {},
   "source": [
    "## Step 3: Load Data"
   ]
  },
  {
   "cell_type": "code",
   "execution_count": 4,
   "metadata": {},
   "outputs": [],
   "source": [
    "# load data\n",
    "df = pd.read_pickle(f\"../../raw_data/Grade_ID_{channel}_nii.pkl\")\n",
    "\n",
    "# the target columns have to be updated, it's only the fremework\n",
    "df['Grade'] = df['Grade'].apply(lambda x: 1 if x == 'HGG' else 0)"
   ]
  },
  {
   "attachments": {},
   "cell_type": "markdown",
   "metadata": {},
   "source": [
    "## Step 4: EDA"
   ]
  },
  {
   "cell_type": "code",
   "execution_count": 5,
   "metadata": {},
   "outputs": [
    {
     "name": "stdout",
     "output_type": "stream",
     "text": [
      "Number of samples: 369\n",
      "Negative examples: (76, 3)\n",
      "Positive examples: (293, 3)\n",
      "\n",
      "Single example Shape:\n",
      "Height: 240\n",
      "Width: 240\n",
      "Depth: 155\n"
     ]
    }
   ],
   "source": [
    "print(f\"Number of samples: {df[f'{channel}_nii'].shape[0]}\")\n",
    "print(f\"Negative examples: {df[df['Grade'] == 0].shape}\")\n",
    "print(f\"Positive examples: {df[df['Grade'] == 1].shape}\")\n",
    "\n",
    "print(\"\")\n",
    "print(\"Single example Shape:\")\n",
    "print(f\"Height: {df[f'{channel}_nii'][0].shape[0]}\")\n",
    "print(f\"Width: {df[f'{channel}_nii'][0].shape[1]}\")\n",
    "print(f\"Depth: {df[f'{channel}_nii'][0].shape[2]}\")"
   ]
  },
  {
   "attachments": {},
   "cell_type": "markdown",
   "metadata": {},
   "source": [
    "## Step 5: Crop Images and run Augmentation"
   ]
  },
  {
   "cell_type": "code",
   "execution_count": 6,
   "metadata": {},
   "outputs": [],
   "source": [
    "# crop images\n",
    "df[f'{channel}_nii'] = df[f'{channel}_nii'].apply(lambda x: np.array(x[MIN_HEIGHT:MAX_HEIGHT,MIN_WIDTH:MAX_WIDTH,MIN_DEPTH:MAX_DEPTH]))\n",
    "X = df[f'{channel}_nii']\n",
    "y = df['Grade']"
   ]
  },
  {
   "cell_type": "code",
   "execution_count": 7,
   "metadata": {},
   "outputs": [],
   "source": [
    "# reshape input data\n",
    "X = np.array([np.array(val) for val in X])\n",
    "if channel != 'seg':\n",
    "    X[X>840]=840 # set the max value to 840\n",
    "    X = (X - 0)/840 # Min-Max Scaler\n",
    "#reshape the X to fit the input of Model\n",
    "X = X.reshape(len(X), X[0].shape[0], X[0].shape[1], X[0].shape[2], 1)"
   ]
  },
  {
   "cell_type": "code",
   "execution_count": 8,
   "metadata": {},
   "outputs": [],
   "source": [
    "# create train test split\n",
    "X_train, X_test, y_train, y_test = train_test_split(X, y, stratify=y, test_size=0.2, random_state=SEED)\n",
    "# reset the index of y, so that the indexes of X and y match\n",
    "y_train = y_train.reset_index(drop=True)\n",
    "\n",
    "y_test = y_test.reset_index(drop=True)"
   ]
  },
  {
   "cell_type": "code",
   "execution_count": 9,
   "metadata": {},
   "outputs": [
    {
     "data": {
      "text/plain": [
       "0"
      ]
     },
     "execution_count": 9,
     "metadata": {},
     "output_type": "execute_result"
    }
   ],
   "source": [
    "# delete the not used variables and release RAM\n",
    "del [df,X]\n",
    "import gc\n",
    "gc.collect()"
   ]
  },
  {
   "cell_type": "code",
   "execution_count": 10,
   "metadata": {},
   "outputs": [],
   "source": [
    "# find indices of positive examples\n",
    "pos_indices = np.where(y_train == 0)[0]\n",
    "\n",
    "# perform data augmentation on positive examples\n",
    "rotated_examples1 = np.rot90(X_train[pos_indices], axes=(1, 2))\n",
    "rotated_examples2 = np.rot90(rotated_examples1, axes=(1, 2))\n",
    "\n",
    "# append new images and labels to the training set\n",
    "X_train = np.concatenate([X_train, rotated_examples1, rotated_examples2], axis=0)\n",
    "y_train = np.concatenate([y_train, np.repeat(y_train[pos_indices], 2)], axis=0) "
   ]
  },
  {
   "cell_type": "code",
   "execution_count": 11,
   "metadata": {},
   "outputs": [
    {
     "data": {
      "text/plain": [
       "(417, 190, 190, 128, 1)"
      ]
     },
     "execution_count": 11,
     "metadata": {},
     "output_type": "execute_result"
    }
   ],
   "source": [
    "X_train.shape"
   ]
  },
  {
   "attachments": {},
   "cell_type": "markdown",
   "metadata": {},
   "source": [
    "## Step 6: Define Model"
   ]
  },
  {
   "cell_type": "code",
   "execution_count": 12,
   "metadata": {},
   "outputs": [
    {
     "name": "stderr",
     "output_type": "stream",
     "text": [
      "2023-03-16 10:05:00.630940: W tensorflow/compiler/xla/stream_executor/platform/default/dso_loader.cc:64] Could not load dynamic library 'libcuda.so.1'; dlerror: libcuda.so.1: cannot open shared object file: No such file or directory\n",
      "2023-03-16 10:05:00.630959: W tensorflow/compiler/xla/stream_executor/cuda/cuda_driver.cc:265] failed call to cuInit: UNKNOWN ERROR (303)\n",
      "2023-03-16 10:05:00.630976: I tensorflow/compiler/xla/stream_executor/cuda/cuda_diagnostics.cc:156] kernel driver does not appear to be running on this host (brain-project-cpu): /proc/driver/nvidia/version does not exist\n",
      "2023-03-16 10:05:00.631180: I tensorflow/core/platform/cpu_feature_guard.cc:193] This TensorFlow binary is optimized with oneAPI Deep Neural Network Library (oneDNN) to use the following CPU instructions in performance-critical operations:  AVX2 AVX512F AVX512_VNNI FMA\n",
      "To enable them in other operations, rebuild TensorFlow with the appropriate compiler flags.\n"
     ]
    },
    {
     "name": "stdout",
     "output_type": "stream",
     "text": [
      "Model: \"model\"\n",
      "__________________________________________________________________________________________________\n",
      " Layer (type)                   Output Shape         Param #     Connected to                     \n",
      "==================================================================================================\n",
      " input_1 (InputLayer)           [(None, 190, 190, 1  0           []                               \n",
      "                                28, 1)]                                                           \n",
      "                                                                                                  \n",
      " batch_normalization (BatchNorm  (None, 190, 190, 12  4          ['input_1[0][0]']                \n",
      " alization)                     8, 1)                                                             \n",
      "                                                                                                  \n",
      " conv3d (Conv3D)                (None, 190, 190, 12  208         ['batch_normalization[0][0]']    \n",
      "                                8, 8)                                                             \n",
      "                                                                                                  \n",
      " batch_normalization_1 (BatchNo  (None, 190, 190, 12  32         ['conv3d[0][0]']                 \n",
      " rmalization)                   8, 8)                                                             \n",
      "                                                                                                  \n",
      " activation (Activation)        (None, 190, 190, 12  0           ['batch_normalization_1[0][0]']  \n",
      "                                8, 8)                                                             \n",
      "                                                                                                  \n",
      " max_pooling3d (MaxPooling3D)   (None, 95, 95, 64,   0           ['activation[0][0]']             \n",
      "                                8)                                                                \n",
      "                                                                                                  \n",
      " conv3d_1 (Conv3D)              (None, 95, 95, 64,   3472        ['max_pooling3d[0][0]']          \n",
      "                                16)                                                               \n",
      "                                                                                                  \n",
      " batch_normalization_2 (BatchNo  (None, 95, 95, 64,   64         ['conv3d_1[0][0]']               \n",
      " rmalization)                   16)                                                               \n",
      "                                                                                                  \n",
      " activation_1 (Activation)      (None, 95, 95, 64,   0           ['batch_normalization_2[0][0]']  \n",
      "                                16)                                                               \n",
      "                                                                                                  \n",
      " max_pooling3d_1 (MaxPooling3D)  (None, 95, 47, 32,   0          ['activation_1[0][0]']           \n",
      "                                16)                                                               \n",
      "                                                                                                  \n",
      " conv3d_2 (Conv3D)              (None, 95, 47, 32,   13856       ['max_pooling3d_1[0][0]']        \n",
      "                                32)                                                               \n",
      "                                                                                                  \n",
      " batch_normalization_3 (BatchNo  (None, 95, 47, 32,   128        ['conv3d_2[0][0]']               \n",
      " rmalization)                   32)                                                               \n",
      "                                                                                                  \n",
      " activation_2 (Activation)      (None, 95, 47, 32,   0           ['batch_normalization_3[0][0]']  \n",
      "                                32)                                                               \n",
      "                                                                                                  \n",
      " conv3d_transpose (Conv3DTransp  (None, 95, 94, 64,   13840      ['activation_2[0][0]']           \n",
      " ose)                           16)                                                               \n",
      "                                                                                                  \n",
      " concatenate (Concatenate)      (None, 95, 189, 64,  0           ['conv3d_transpose[0][0]',       \n",
      "                                 16)                              'activation_1[0][0]']           \n",
      "                                                                                                  \n",
      " conv3d_transpose_1 (Conv3DTran  (None, 190, 378, 12  3464       ['concatenate[0][0]']            \n",
      " spose)                         8, 8)                                                             \n",
      "                                                                                                  \n",
      " concatenate_1 (Concatenate)    (None, 190, 568, 12  0           ['conv3d_transpose_1[0][0]',     \n",
      "                                8, 8)                             'activation[0][0]']             \n",
      "                                                                                                  \n",
      " conv3d_3 (Conv3D)              (None, 190, 568, 12  9           ['concatenate_1[0][0]']          \n",
      "                                8, 1)                                                             \n",
      "                                                                                                  \n",
      " flatten (Flatten)              (None, 13813760)     0           ['conv3d_3[0][0]']               \n",
      "                                                                                                  \n",
      " dense (Dense)                  (None, 32)           442040352   ['flatten[0][0]']                \n",
      "                                                                                                  \n",
      " dense_1 (Dense)                (None, 1)            33          ['dense[0][0]']                  \n",
      "                                                                                                  \n",
      "==================================================================================================\n",
      "Total params: 442,075,462\n",
      "Trainable params: 442,075,348\n",
      "Non-trainable params: 114\n",
      "__________________________________________________________________________________________________\n"
     ]
    }
   ],
   "source": [
    "#define a 3D Unet modell\n",
    "in_layer = Input((190, 190, 128, 1))\n",
    "bn = BatchNormalization()(in_layer)\n",
    "cn1 = Conv3D(8, \n",
    "             kernel_size = (1, 5, 5), \n",
    "             padding = 'same',\n",
    "             activation = 'relu')(bn)\n",
    "bn2 = Activation('relu')(BatchNormalization()(cn1))\n",
    "\n",
    "dn1 = MaxPooling3D((2, 2, 2))(bn2)\n",
    "cn3 = Conv3D(16, \n",
    "             kernel_size = (3, 3, 3),\n",
    "             padding = 'same',\n",
    "             activation = 'relu')(dn1)\n",
    "bn3 = Activation('relu')(BatchNormalization()(cn3))\n",
    "\n",
    "dn2 = MaxPooling3D((1, 2, 2))(bn3)\n",
    "cn4 = Conv3D(32, \n",
    "             kernel_size = (3, 3, 3),\n",
    "             padding = 'same',\n",
    "             activation = 'relu')(dn2)\n",
    "bn4 = Activation('relu')(BatchNormalization()(cn4))\n",
    "\n",
    "up1 = Conv3DTranspose(16, \n",
    "                      kernel_size = (3, 3, 3),\n",
    "                      strides = (1, 2, 2),\n",
    "                     padding = 'same')(bn4)\n",
    "\n",
    "cat1 = concatenate([up1, bn3], axis=2)\n",
    "\n",
    "up2 = Conv3DTranspose(8, \n",
    "                      kernel_size = (3, 3, 3),\n",
    "                      strides = (2, 2, 2),\n",
    "                     padding = 'same')(cat1)\n",
    "\n",
    "pre_out = concatenate([up2, bn2], axis=2)\n",
    "\n",
    "#pre_out\n",
    "pre_out = Conv3D(1, \n",
    "             kernel_size = (1, 1, 1), \n",
    "             padding = 'same',\n",
    "             activation = 'relu')(pre_out)\n",
    "\n",
    "#pre_out = Cropping3D((1, 2, 2))(pre_out) # avoid skewing boundaries\n",
    "#out = ZeroPadding3D((1, 2, 2))(pre_out)\n",
    "#pre_out = Dense(512, activation = 'relu')(pre_out)    \n",
    "\n",
    "pre_out = Flatten()(pre_out)\n",
    "\n",
    "pre_out = Dense(32, activation = 'relu')(pre_out) \n",
    "out = Dense(1, activation='sigmoid')(pre_out)\n",
    "sim_model = Model(inputs = [in_layer], outputs = [out])\n",
    "sim_model.summary()"
   ]
  },
  {
   "cell_type": "code",
   "execution_count": 13,
   "metadata": {},
   "outputs": [],
   "source": [
    "optim=Adam(learning_rate= 0.001)\n",
    "sim_model.compile(loss = 'binary_crossentropy',\n",
    "                  optimizer = optim,\n",
    "                  metrics = ['accuracy'])"
   ]
  },
  {
   "cell_type": "code",
   "execution_count": 14,
   "metadata": {},
   "outputs": [
    {
     "name": "stdout",
     "output_type": "stream",
     "text": [
      " Size of X_train: 7.7074944 Gb\n"
     ]
    }
   ],
   "source": [
    "print(f\" Size of X_train: {(X_train.size * X_train.itemsize) / 1e9} Gb\")"
   ]
  },
  {
   "attachments": {},
   "cell_type": "markdown",
   "metadata": {},
   "source": [
    "## Step 7: Train Model"
   ]
  },
  {
   "cell_type": "code",
   "execution_count": 16,
   "metadata": {},
   "outputs": [
    {
     "name": "stdout",
     "output_type": "stream",
     "text": [
      "Epoch 1/30\n",
      "105/105 [==============================] - 231s 2s/step - loss: 34.0803 - accuracy: 0.7794 - val_loss: 1.2625 - val_accuracy: 0.5676\n",
      "Epoch 2/30\n",
      "105/105 [==============================] - 230s 2s/step - loss: 1.8887 - accuracy: 0.9592 - val_loss: 1.8588 - val_accuracy: 0.7973\n",
      "Epoch 3/30\n",
      "105/105 [==============================] - 228s 2s/step - loss: 0.0813 - accuracy: 0.9856 - val_loss: 3.9857 - val_accuracy: 0.8243\n",
      "Epoch 4/30\n",
      "105/105 [==============================] - 227s 2s/step - loss: 0.0064 - accuracy: 1.0000 - val_loss: 6.4846 - val_accuracy: 0.8514\n",
      "Epoch 5/30\n",
      "105/105 [==============================] - 226s 2s/step - loss: 0.0020 - accuracy: 1.0000 - val_loss: 8.1499 - val_accuracy: 0.8514\n",
      "Epoch 6/30\n",
      "105/105 [==============================] - 226s 2s/step - loss: 6.3981e-04 - accuracy: 1.0000 - val_loss: 8.9883 - val_accuracy: 0.8378\n",
      "Epoch 7/30\n",
      "105/105 [==============================] - 225s 2s/step - loss: 1.9685e-04 - accuracy: 1.0000 - val_loss: 9.3639 - val_accuracy: 0.8378\n",
      "Epoch 8/30\n",
      "105/105 [==============================] - 225s 2s/step - loss: 1.0392e-05 - accuracy: 1.0000 - val_loss: 9.2812 - val_accuracy: 0.8378\n",
      "Epoch 9/30\n",
      "105/105 [==============================] - 225s 2s/step - loss: 6.5717e-06 - accuracy: 1.0000 - val_loss: 9.3114 - val_accuracy: 0.8378\n"
     ]
    },
    {
     "name": "stderr",
     "output_type": "stream",
     "text": [
      "WARNING:absl:Found untraced functions such as _jit_compiled_convolution_op, _jit_compiled_convolution_op, _jit_compiled_convolution_op, _jit_compiled_convolution_op, _jit_compiled_convolution_op while saving (showing 5 of 7). These functions will not be directly callable after loading.\n"
     ]
    },
    {
     "name": "stdout",
     "output_type": "stream",
     "text": [
      "INFO:tensorflow:Assets written to: model_glioma_t1_nii_3dUnet/assets\n"
     ]
    },
    {
     "name": "stderr",
     "output_type": "stream",
     "text": [
      "INFO:tensorflow:Assets written to: model_glioma_t1_nii_3dUnet/assets\n"
     ]
    }
   ],
   "source": [
    "es = EarlyStopping(patience=5, restore_best_weights = True,monitor='loss', min_delta=0.01)\n",
    "history = sim_model.fit(X_train, y_train,\n",
    "                        epochs = 30,\n",
    "                        batch_size = 4,\n",
    "                        callbacks = [es],\n",
    "                        validation_data=(X_test, y_test),\n",
    "                        shuffle =True,\n",
    "                        verbose = 1)\n",
    "sim_model.save(f'model_glioma_{channel}_nii_3dUnet.h5')\n"
   ]
  },
  {
   "cell_type": "code",
   "execution_count": 17,
   "metadata": {},
   "outputs": [],
   "source": [
    "sim_model.save(f'model_glioma_{channel}_nii_3dUnet.h5')"
   ]
  },
  {
   "cell_type": "code",
   "execution_count": 18,
   "metadata": {},
   "outputs": [
    {
     "data": {
      "text/plain": [
       "23490"
      ]
     },
     "execution_count": 18,
     "metadata": {},
     "output_type": "execute_result"
    }
   ],
   "source": [
    "# delete the not used variables and release RAM\n",
    "del [X_train]\n",
    "\n",
    "gc.collect()"
   ]
  },
  {
   "cell_type": "code",
   "execution_count": 19,
   "metadata": {},
   "outputs": [],
   "source": [
    "#plot the learning curve\n",
    "def plot_loss(history):\n",
    "    fig, (ax1, ax2) = plt.subplots(1,2, figsize=(13,4))\n",
    "    ax1.plot(history.history['loss'])\n",
    "    ax1.plot(history.history['val_loss'])\n",
    "    ax1.set_title('Model loss')\n",
    "    ax1.set_ylabel('Loss')\n",
    "    ax1.set_xlabel('Epoch')\n",
    "    ax1.set_ylim(ymin=0, ymax=1)\n",
    "    ax1.legend(['Train', 'Validation'], loc='best')\n",
    "    ax1.grid(axis=\"x\",linewidth=0.2)\n",
    "    ax1.grid(axis=\"y\",linewidth=0.2)    \n",
    "    \n",
    "    ax2.plot(history.history['accuracy'])\n",
    "    ax2.plot(history.history['val_accuracy'])\n",
    "    ax2.set_title('Accuracy')\n",
    "    ax2.set_ylabel('Accuracy')\n",
    "    ax2.set_xlabel('Epoch')\n",
    "    ax2.set_ylim(ymin=0, ymax=1)\n",
    "    ax2.legend(['Train', 'Validation'], loc='best')\n",
    "    ax2.grid(axis=\"x\",linewidth=0.2)\n",
    "    ax2.grid(axis=\"y\",linewidth=0.2)    \n",
    "\n",
    "    plt.show()    "
   ]
  },
  {
   "cell_type": "code",
   "execution_count": 20,
   "metadata": {},
   "outputs": [
    {
     "data": {
      "image/png": "[encoded data removed]",
      "text/plain": [
       "<Figure size 1300x400 with 2 Axes>"
      ]
     },
     "metadata": {},
     "output_type": "display_data"
    }
   ],
   "source": [
    "plot_loss(history)"
   ]
  },
  {
   "cell_type": "code",
   "execution_count": 21,
   "metadata": {},
   "outputs": [
    {
     "name": "stdout",
     "output_type": "stream",
     "text": [
      "3/3 [==============================] - 7s 2s/step\n",
      "              precision    recall  f1-score   support\n",
      "\n",
      "     class 0       1.00      0.27      0.42        15\n",
      "     class 1       0.84      1.00      0.91        59\n",
      "\n",
      "    accuracy                           0.85        74\n",
      "   macro avg       0.92      0.63      0.67        74\n",
      "weighted avg       0.87      0.85      0.81        74\n",
      "\n"
     ]
    }
   ],
   "source": [
    "predictions = (sim_model.predict(X_test) > 0.5).astype(\"int32\")\n",
    "predictions = pd.DataFrame(predictions)\n",
    "\n",
    "from sklearn.metrics import classification_report\n",
    "\n",
    "target_names = ['class 0', 'class 1']\n",
    "print(classification_report(y_test, predictions, target_names=target_names))"
   ]
  },
  {
   "cell_type": "code",
   "execution_count": 22,
   "metadata": {},
   "outputs": [
    {
     "data": {
      "image/png": "[encoded data removed]",
      "text/plain": [
       "<Figure size 640x480 with 2 Axes>"
      ]
     },
     "metadata": {},
     "output_type": "display_data"
    }
   ],
   "source": [
    "confusion_matrix = metrics.confusion_matrix(y_test, predictions)\n",
    "\n",
    "cm_display = metrics.ConfusionMatrixDisplay(confusion_matrix = confusion_matrix, display_labels = [False, True])\n",
    "\n",
    "cm_display.plot()\n",
    "plt.show()"
   ]
  }
 ],
 "metadata": {
  "kernelspec": {
   "display_name": "Python 3",
   "language": "python",
   "name": "python3"
  },
  "language_info": {
   "codemirror_mode": {
    "name": "ipython",
    "version": 3
   },
   "file_extension": ".py",
   "mimetype": "text/x-python",
   "name": "python",
   "nbconvert_exporter": "python",
   "pygments_lexer": "ipython3",
   "version": "3.10.6"
  },
  "orig_nbformat": 4
 },
 "nbformat": 4,
 "nbformat_minor": 2
}
