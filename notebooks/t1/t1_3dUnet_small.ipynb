{
 "cells": [
  {
   "attachments": {},
   "cell_type": "markdown",
   "metadata": {},
   "source": [
    "## Step 1: Import libraries"
   ]
  },
  {
   "cell_type": "code",
   "execution_count": 1,
   "metadata": {},
   "outputs": [
    {
     "name": "stderr",
     "output_type": "stream",
     "text": [
      "2023-03-15 15:54:18.348777: I tensorflow/core/platform/cpu_feature_guard.cc:193] This TensorFlow binary is optimized with oneAPI Deep Neural Network Library (oneDNN) to use the following CPU instructions in performance-critical operations:  AVX2 AVX512F AVX512_VNNI FMA\n",
      "To enable them in other operations, rebuild TensorFlow with the appropriate compiler flags.\n",
      "2023-03-15 15:54:18.497582: I tensorflow/core/util/port.cc:104] oneDNN custom operations are on. You may see slightly different numerical results due to floating-point round-off errors from different computation orders. To turn them off, set the environment variable `TF_ENABLE_ONEDNN_OPTS=0`.\n",
      "2023-03-15 15:54:18.502896: W tensorflow/compiler/xla/stream_executor/platform/default/dso_loader.cc:64] Could not load dynamic library 'libcudart.so.11.0'; dlerror: libcudart.so.11.0: cannot open shared object file: No such file or directory\n",
      "2023-03-15 15:54:18.502913: I tensorflow/compiler/xla/stream_executor/cuda/cudart_stub.cc:29] Ignore above cudart dlerror if you do not have a GPU set up on your machine.\n",
      "2023-03-15 15:54:19.723921: W tensorflow/compiler/xla/stream_executor/platform/default/dso_loader.cc:64] Could not load dynamic library 'libnvinfer.so.7'; dlerror: libnvinfer.so.7: cannot open shared object file: No such file or directory\n",
      "2023-03-15 15:54:19.723986: W tensorflow/compiler/xla/stream_executor/platform/default/dso_loader.cc:64] Could not load dynamic library 'libnvinfer_plugin.so.7'; dlerror: libnvinfer_plugin.so.7: cannot open shared object file: No such file or directory\n",
      "2023-03-15 15:54:19.723994: W tensorflow/compiler/tf2tensorrt/utils/py_utils.cc:38] TF-TRT Warning: Cannot dlopen some TensorRT libraries. If you would like to use Nvidia GPU with TensorRT, please make sure the missing libraries mentioned above are installed properly.\n"
     ]
    }
   ],
   "source": [
    "import matplotlib.pyplot as plt\n",
    "import os\n",
    "import numpy as np\n",
    "import pandas as pd\n",
    "import random\n",
    "import tensorflow as tf\n",
    "\n",
    "from scipy import ndimage\n",
    "from sklearn.model_selection import train_test_split\n",
    "from sklearn import metrics\n",
    "from sklearn.metrics import classification_report\n",
    "\n",
    "from tensorflow.keras.layers import Conv3D, MaxPooling3D, Dense, \\\n",
    "    GlobalAveragePooling3D, BatchNormalization, Dropout, \\\n",
    "        UpSampling3D, concatenate, Flatten, ConvLSTM2D, Bidirectional, \\\n",
    "            Cropping3D, ZeroPadding3D, Activation, Input, UpSampling3D, \\\n",
    "                Conv3DTranspose\n",
    "from tensorflow.keras.models import Sequential, save_model, load_model, Model\n",
    "from tensorflow.keras.callbacks import EarlyStopping\n",
    "from tensorflow.keras.optimizers import Adam\n",
    "\n",
    "\n",
    "%matplotlib inline"
   ]
  },
  {
   "attachments": {},
   "cell_type": "markdown",
   "metadata": {},
   "source": [
    "## Step 2: Set Constants"
   ]
  },
  {
   "cell_type": "code",
   "execution_count": 2,
   "metadata": {},
   "outputs": [],
   "source": [
    "SEED = 137\n",
    "# using the range from segmentation\n",
    "# [40:195,35:225,26:137]\n",
    "# constants to crop images\n",
    "\n",
    "MIN_WIDTH = 25 # 40\n",
    "MAX_WIDTH = 215 # 195\n",
    "\n",
    "MIN_HEIGHT = 35 # 35\n",
    "MAX_HEIGHT = 225 # 225\n",
    "\n",
    "MIN_DEPTH = 15 # 26\n",
    "MAX_DEPTH = 143 # 137"
   ]
  },
  {
   "cell_type": "markdown",
   "metadata": {},
   "source": []
  },
  {
   "cell_type": "code",
   "execution_count": 3,
   "metadata": {},
   "outputs": [],
   "source": [
    "#channel \n",
    "channel = 't1'"
   ]
  },
  {
   "attachments": {},
   "cell_type": "markdown",
   "metadata": {},
   "source": [
    "## Step 3: Load Data"
   ]
  },
  {
   "cell_type": "code",
   "execution_count": 4,
   "metadata": {},
   "outputs": [],
   "source": [
    "# load data\n",
    "df = pd.read_pickle(f\"../../raw_data/Grade_ID_{channel}_nii.pkl\")\n",
    "\n",
    "# the target columns have to be updated, it's only the fremework\n",
    "df['Grade'] = df['Grade'].apply(lambda x: 1 if x == 'HGG' else 0)"
   ]
  },
  {
   "attachments": {},
   "cell_type": "markdown",
   "metadata": {},
   "source": [
    "## Step 4: EDA"
   ]
  },
  {
   "cell_type": "code",
   "execution_count": 5,
   "metadata": {},
   "outputs": [
    {
     "name": "stdout",
     "output_type": "stream",
     "text": [
      "Number of samples: 369\n",
      "Negative examples: (76, 3)\n",
      "Positive examples: (293, 3)\n",
      "\n",
      "Single example Shape:\n",
      "Height: 240\n",
      "Width: 240\n",
      "Depth: 155\n"
     ]
    }
   ],
   "source": [
    "print(f\"Number of samples: {df[f'{channel}_nii'].shape[0]}\")\n",
    "print(f\"Negative examples: {df[df['Grade'] == 0].shape}\")\n",
    "print(f\"Positive examples: {df[df['Grade'] == 1].shape}\")\n",
    "\n",
    "print(\"\")\n",
    "print(\"Single example Shape:\")\n",
    "print(f\"Height: {df[f'{channel}_nii'][0].shape[0]}\")\n",
    "print(f\"Width: {df[f'{channel}_nii'][0].shape[1]}\")\n",
    "print(f\"Depth: {df[f'{channel}_nii'][0].shape[2]}\")"
   ]
  },
  {
   "attachments": {},
   "cell_type": "markdown",
   "metadata": {},
   "source": [
    "## Step 5: Crop Images and run Augmentation"
   ]
  },
  {
   "cell_type": "code",
   "execution_count": 6,
   "metadata": {},
   "outputs": [],
   "source": [
    "# crop images\n",
    "df[f'{channel}_nii'] = df[f'{channel}_nii'].apply(lambda x: np.array(x[MIN_HEIGHT:MAX_HEIGHT,MIN_WIDTH:MAX_WIDTH,MIN_DEPTH:MAX_DEPTH]))\n",
    "X = df[f'{channel}_nii']\n",
    "y = df['Grade']"
   ]
  },
  {
   "cell_type": "code",
   "execution_count": 7,
   "metadata": {},
   "outputs": [],
   "source": [
    "# reshape input data\n",
    "X = np.array([np.array(val) for val in X])\n",
    "if channel != 'seg':\n",
    "    X[X>840]=840 # set the max value to 840\n",
    "    X = (X - 0)/840 # Min-Max Scaler\n",
    "#reshape the X to fit the input of Model\n",
    "X = X.reshape(len(X), X[0].shape[0], X[0].shape[1], X[0].shape[2], 1)"
   ]
  },
  {
   "cell_type": "code",
   "execution_count": 8,
   "metadata": {},
   "outputs": [],
   "source": [
    "# create train test split\n",
    "X_train, X_test, y_train, y_test = train_test_split(X, y, stratify=y, test_size=0.2, random_state=SEED)\n",
    "# reset the index of y, so that the indexes of X and y match\n",
    "y_train = y_train.reset_index(drop=True)\n",
    "\n",
    "y_test = y_test.reset_index(drop=True)"
   ]
  },
  {
   "cell_type": "code",
   "execution_count": 9,
   "metadata": {},
   "outputs": [
    {
     "data": {
      "text/plain": [
       "0"
      ]
     },
     "execution_count": 9,
     "metadata": {},
     "output_type": "execute_result"
    }
   ],
   "source": [
    "# delete the not used variables and release RAM\n",
    "del [df,X]\n",
    "import gc\n",
    "gc.collect()"
   ]
  },
  {
   "cell_type": "code",
   "execution_count": 10,
   "metadata": {},
   "outputs": [],
   "source": [
    "# find indices of positive examples\n",
    "# pos_indices_0 = np.where(y_train == 0)[0]\n",
    "# pos_indices_1 = random.sample(list(np.where(y_train == 1)[0]), 70)\n",
    "\n",
    "# # perform data augmentation on positive examples\n",
    "# rotated_examples_0_1 = np.rot90(X_train[pos_indices_0], axes=(1, 2))\n",
    "# rotated_examples_0_2 = np.rot90(rotated_examples_0_1, axes=(1, 2))\n",
    "# rotated_examples_0_3 = np.flip(np.concatenate([rotated_examples_0_1, rotated_examples_0_2], axis=0))\n",
    "# rotated_examples_1_1 = np.rot90(X_train[pos_indices_1], axes=(1, 2))\n",
    "\n",
    "# # append new images and labels to the training set\n",
    "# X_train = np.concatenate([X_train, rotated_examples_0_1, rotated_examples_0_2,rotated_examples_0_3,\n",
    "#                           rotated_examples_1_1], axis=0)\n",
    "# y_train = np.concatenate([y_train, np.repeat(y_train[pos_indices_0], 4),y_train[pos_indices_1]], axis=0) "
   ]
  },
  {
   "cell_type": "code",
   "execution_count": 11,
   "metadata": {},
   "outputs": [
    {
     "data": {
      "text/plain": [
       "(295, 190, 190, 128, 1)"
      ]
     },
     "execution_count": 11,
     "metadata": {},
     "output_type": "execute_result"
    }
   ],
   "source": [
    "X_train.shape"
   ]
  },
  {
   "cell_type": "code",
   "execution_count": 14,
   "metadata": {},
   "outputs": [
    {
     "data": {
      "text/plain": [
       "(array([0, 1]), array([ 61, 234]))"
      ]
     },
     "execution_count": 14,
     "metadata": {},
     "output_type": "execute_result"
    }
   ],
   "source": [
    "np.unique(y_train,return_counts=True)"
   ]
  },
  {
   "attachments": {},
   "cell_type": "markdown",
   "metadata": {},
   "source": [
    "## Step 6: Define Model"
   ]
  },
  {
   "cell_type": "code",
   "execution_count": 13,
   "metadata": {},
   "outputs": [
    {
     "name": "stdout",
     "output_type": "stream",
     "text": [
      "Model: \"model\"\n",
      "__________________________________________________________________________________________________\n",
      " Layer (type)                   Output Shape         Param #     Connected to                     \n",
      "==================================================================================================\n",
      " input_1 (InputLayer)           [(None, 190, 190, 1  0           []                               \n",
      "                                28, 1)]                                                           \n",
      "                                                                                                  \n",
      " batch_normalization (BatchNorm  (None, 190, 190, 12  4          ['input_1[0][0]']                \n",
      " alization)                     8, 1)                                                             \n",
      "                                                                                                  \n",
      " conv3d (Conv3D)                (None, 190, 190, 12  208         ['batch_normalization[0][0]']    \n",
      "                                8, 8)                                                             \n",
      "                                                                                                  \n",
      " batch_normalization_1 (BatchNo  (None, 190, 190, 12  32         ['conv3d[0][0]']                 \n",
      " rmalization)                   8, 8)                                                             \n",
      "                                                                                                  \n",
      " activation (Activation)        (None, 190, 190, 12  0           ['batch_normalization_1[0][0]']  \n",
      "                                8, 8)                                                             \n",
      "                                                                                                  \n",
      " max_pooling3d (MaxPooling3D)   (None, 95, 95, 64,   0           ['activation[0][0]']             \n",
      "                                8)                                                                \n",
      "                                                                                                  \n",
      " conv3d_1 (Conv3D)              (None, 95, 95, 64,   3472        ['max_pooling3d[0][0]']          \n",
      "                                16)                                                               \n",
      "                                                                                                  \n",
      " batch_normalization_2 (BatchNo  (None, 95, 95, 64,   64         ['conv3d_1[0][0]']               \n",
      " rmalization)                   16)                                                               \n",
      "                                                                                                  \n",
      " activation_1 (Activation)      (None, 95, 95, 64,   0           ['batch_normalization_2[0][0]']  \n",
      "                                16)                                                               \n",
      "                                                                                                  \n",
      " max_pooling3d_1 (MaxPooling3D)  (None, 95, 47, 32,   0          ['activation_1[0][0]']           \n",
      "                                16)                                                               \n",
      "                                                                                                  \n",
      " conv3d_2 (Conv3D)              (None, 95, 47, 32,   13856       ['max_pooling3d_1[0][0]']        \n",
      "                                32)                                                               \n",
      "                                                                                                  \n",
      " batch_normalization_3 (BatchNo  (None, 95, 47, 32,   128        ['conv3d_2[0][0]']               \n",
      " rmalization)                   32)                                                               \n",
      "                                                                                                  \n",
      " activation_2 (Activation)      (None, 95, 47, 32,   0           ['batch_normalization_3[0][0]']  \n",
      "                                32)                                                               \n",
      "                                                                                                  \n",
      " conv3d_transpose (Conv3DTransp  (None, 95, 94, 64,   13840      ['activation_2[0][0]']           \n",
      " ose)                           16)                                                               \n",
      "                                                                                                  \n",
      " concatenate (Concatenate)      (None, 95, 189, 64,  0           ['conv3d_transpose[0][0]',       \n",
      "                                 16)                              'activation_1[0][0]']           \n",
      "                                                                                                  \n",
      " conv3d_transpose_1 (Conv3DTran  (None, 190, 378, 12  3464       ['concatenate[0][0]']            \n",
      " spose)                         8, 8)                                                             \n",
      "                                                                                                  \n",
      " concatenate_1 (Concatenate)    (None, 190, 568, 12  0           ['conv3d_transpose_1[0][0]',     \n",
      "                                8, 8)                             'activation[0][0]']             \n",
      "                                                                                                  \n",
      " conv3d_3 (Conv3D)              (None, 190, 568, 12  9           ['concatenate_1[0][0]']          \n",
      "                                8, 1)                                                             \n",
      "                                                                                                  \n",
      " flatten (Flatten)              (None, 13813760)     0           ['conv3d_3[0][0]']               \n",
      "                                                                                                  \n",
      " dense (Dense)                  (None, 32)           442040352   ['flatten[0][0]']                \n",
      "                                                                                                  \n",
      " dense_1 (Dense)                (None, 1)            33          ['dense[0][0]']                  \n",
      "                                                                                                  \n",
      "==================================================================================================\n",
      "Total params: 442,075,462\n",
      "Trainable params: 442,075,348\n",
      "Non-trainable params: 114\n",
      "__________________________________________________________________________________________________\n"
     ]
    }
   ],
   "source": [
    "#define a 3D Unet modell\n",
    "in_layer = Input((190, 190, 128, 1))\n",
    "bn = BatchNormalization()(in_layer)\n",
    "cn1 = Conv3D(8, \n",
    "             kernel_size = (1, 5, 5), \n",
    "             padding = 'same',\n",
    "             activation = 'relu')(bn)\n",
    "bn2 = Activation('relu')(BatchNormalization()(cn1))\n",
    "\n",
    "dn1 = MaxPooling3D((2, 2, 2))(bn2)\n",
    "cn3 = Conv3D(16, \n",
    "             kernel_size = (3, 3, 3),\n",
    "             padding = 'same',\n",
    "             activation = 'relu')(dn1)\n",
    "bn3 = Activation('relu')(BatchNormalization()(cn3))\n",
    "\n",
    "dn2 = MaxPooling3D((1, 2, 2))(bn3)\n",
    "cn4 = Conv3D(32, \n",
    "             kernel_size = (3, 3, 3),\n",
    "             padding = 'same',\n",
    "             activation = 'relu')(dn2)\n",
    "bn4 = Activation('relu')(BatchNormalization()(cn4))\n",
    "\n",
    "up1 = Conv3DTranspose(16, \n",
    "                      kernel_size = (3, 3, 3),\n",
    "                      strides = (1, 2, 2),\n",
    "                     padding = 'same')(bn4)\n",
    "\n",
    "cat1 = concatenate([up1, bn3], axis=2)\n",
    "\n",
    "up2 = Conv3DTranspose(8, \n",
    "                      kernel_size = (3, 3, 3),\n",
    "                      strides = (2, 2, 2),\n",
    "                     padding = 'same')(cat1)\n",
    "\n",
    "pre_out = concatenate([up2, bn2], axis=2)\n",
    "\n",
    "#pre_out\n",
    "pre_out = Conv3D(1, \n",
    "             kernel_size = (1, 1, 1), \n",
    "             padding = 'same',\n",
    "             activation = 'relu')(pre_out)\n",
    "\n",
    "#pre_out = Cropping3D((1, 2, 2))(pre_out) # avoid skewing boundaries\n",
    "#out = ZeroPadding3D((1, 2, 2))(pre_out)\n",
    "#pre_out = Dense(512, activation = 'relu')(pre_out)    \n",
    "\n",
    "pre_out = Flatten()(pre_out)\n",
    "\n",
    "pre_out = Dense(32, activation = 'relu')(pre_out) \n",
    "out = Dense(1, activation='sigmoid')(pre_out)\n",
    "sim_model = Model(inputs = [in_layer], outputs = [out])\n",
    "sim_model.summary()"
   ]
  },
  {
   "cell_type": "code",
   "execution_count": 15,
   "metadata": {},
   "outputs": [],
   "source": [
    "optim=Adam(learning_rate= 0.001)\n",
    "sim_model.compile(loss = 'binary_crossentropy',\n",
    "                  optimizer = optim,\n",
    "                  metrics = ['accuracy'])"
   ]
  },
  {
   "cell_type": "code",
   "execution_count": 16,
   "metadata": {},
   "outputs": [
    {
     "name": "stdout",
     "output_type": "stream",
     "text": [
      " Size of X_train: 5.452544 Gb\n"
     ]
    }
   ],
   "source": [
    "print(f\" Size of X_train: {(X_train.size * X_train.itemsize) / 1e9} Gb\")"
   ]
  },
  {
   "attachments": {},
   "cell_type": "markdown",
   "metadata": {},
   "source": [
    "## Step 7: Train Model"
   ]
  },
  {
   "cell_type": "code",
   "execution_count": 17,
   "metadata": {},
   "outputs": [
    {
     "name": "stdout",
     "output_type": "stream",
     "text": [
      "Epoch 1/30\n",
      "74/74 [==============================] - 168s 2s/step - loss: 64.6027 - accuracy: 0.7695 - val_loss: 0.6838 - val_accuracy: 0.7973\n",
      "Epoch 2/30\n",
      "74/74 [==============================] - 163s 2s/step - loss: 0.7952 - accuracy: 0.7932 - val_loss: 0.6719 - val_accuracy: 0.7973\n",
      "Epoch 3/30\n",
      "74/74 [==============================] - 163s 2s/step - loss: 0.5648 - accuracy: 0.8034 - val_loss: 0.6642 - val_accuracy: 0.7973\n",
      "Epoch 4/30\n",
      "74/74 [==============================] - 163s 2s/step - loss: 0.4716 - accuracy: 0.8034 - val_loss: 0.6095 - val_accuracy: 0.7973\n",
      "Epoch 5/30\n",
      "74/74 [==============================] - 164s 2s/step - loss: 0.3603 - accuracy: 0.8034 - val_loss: 0.5356 - val_accuracy: 0.7973\n",
      "Epoch 6/30\n",
      "74/74 [==============================] - 162s 2s/step - loss: 0.2769 - accuracy: 0.8068 - val_loss: 0.5465 - val_accuracy: 0.7973\n",
      "Epoch 7/30\n",
      "74/74 [==============================] - 162s 2s/step - loss: 0.2638 - accuracy: 0.8169 - val_loss: 0.5384 - val_accuracy: 0.7973\n",
      "Epoch 8/30\n",
      "74/74 [==============================] - 162s 2s/step - loss: 0.2649 - accuracy: 0.8136 - val_loss: 0.8066 - val_accuracy: 0.7973\n",
      "Epoch 9/30\n",
      " 9/74 [==>...........................] - ETA: 2:16 - loss: 0.2534 - accuracy: 0.8056"
     ]
    },
    {
     "ename": "KeyboardInterrupt",
     "evalue": "",
     "output_type": "error",
     "traceback": [
      "\u001b[0;31m---------------------------------------------------------------------------\u001b[0m",
      "\u001b[0;31mKeyboardInterrupt\u001b[0m                         Traceback (most recent call last)",
      "Cell \u001b[0;32mIn[17], line 2\u001b[0m\n\u001b[1;32m      1\u001b[0m es \u001b[39m=\u001b[39m EarlyStopping(patience\u001b[39m=\u001b[39m\u001b[39m5\u001b[39m, restore_best_weights \u001b[39m=\u001b[39m \u001b[39mTrue\u001b[39;00m)\n\u001b[0;32m----> 2\u001b[0m history \u001b[39m=\u001b[39m sim_model\u001b[39m.\u001b[39;49mfit(X_train, y_train,\n\u001b[1;32m      3\u001b[0m                         epochs \u001b[39m=\u001b[39;49m \u001b[39m30\u001b[39;49m,\n\u001b[1;32m      4\u001b[0m                         batch_size \u001b[39m=\u001b[39;49m \u001b[39m4\u001b[39;49m,\n\u001b[1;32m      5\u001b[0m                         callbacks \u001b[39m=\u001b[39;49m [es],\n\u001b[1;32m      6\u001b[0m                         validation_data\u001b[39m=\u001b[39;49m(X_test, y_test),\n\u001b[1;32m      7\u001b[0m                         shuffle \u001b[39m=\u001b[39;49m\u001b[39mTrue\u001b[39;49;00m,\n\u001b[1;32m      8\u001b[0m                         verbose \u001b[39m=\u001b[39;49m \u001b[39m1\u001b[39;49m)\n\u001b[1;32m      9\u001b[0m sim_model\u001b[39m.\u001b[39msave(\u001b[39mf\u001b[39m\u001b[39m'\u001b[39m\u001b[39mmodel_glioma_\u001b[39m\u001b[39m{\u001b[39;00mchannel\u001b[39m}\u001b[39;00m\u001b[39m_nii_3dUnet\u001b[39m\u001b[39m'\u001b[39m)\n",
      "File \u001b[0;32m~/.pyenv/versions/3.10.6/envs/brain-tumor-project/lib/python3.10/site-packages/keras/utils/traceback_utils.py:65\u001b[0m, in \u001b[0;36mfilter_traceback.<locals>.error_handler\u001b[0;34m(*args, **kwargs)\u001b[0m\n\u001b[1;32m     63\u001b[0m filtered_tb \u001b[39m=\u001b[39m \u001b[39mNone\u001b[39;00m\n\u001b[1;32m     64\u001b[0m \u001b[39mtry\u001b[39;00m:\n\u001b[0;32m---> 65\u001b[0m     \u001b[39mreturn\u001b[39;00m fn(\u001b[39m*\u001b[39;49margs, \u001b[39m*\u001b[39;49m\u001b[39m*\u001b[39;49mkwargs)\n\u001b[1;32m     66\u001b[0m \u001b[39mexcept\u001b[39;00m \u001b[39mException\u001b[39;00m \u001b[39mas\u001b[39;00m e:\n\u001b[1;32m     67\u001b[0m     filtered_tb \u001b[39m=\u001b[39m _process_traceback_frames(e\u001b[39m.\u001b[39m__traceback__)\n",
      "File \u001b[0;32m~/.pyenv/versions/3.10.6/envs/brain-tumor-project/lib/python3.10/site-packages/keras/engine/training.py:1650\u001b[0m, in \u001b[0;36mModel.fit\u001b[0;34m(self, x, y, batch_size, epochs, verbose, callbacks, validation_split, validation_data, shuffle, class_weight, sample_weight, initial_epoch, steps_per_epoch, validation_steps, validation_batch_size, validation_freq, max_queue_size, workers, use_multiprocessing)\u001b[0m\n\u001b[1;32m   1642\u001b[0m \u001b[39mwith\u001b[39;00m tf\u001b[39m.\u001b[39mprofiler\u001b[39m.\u001b[39mexperimental\u001b[39m.\u001b[39mTrace(\n\u001b[1;32m   1643\u001b[0m     \u001b[39m\"\u001b[39m\u001b[39mtrain\u001b[39m\u001b[39m\"\u001b[39m,\n\u001b[1;32m   1644\u001b[0m     epoch_num\u001b[39m=\u001b[39mepoch,\n\u001b[0;32m   (...)\u001b[0m\n\u001b[1;32m   1647\u001b[0m     _r\u001b[39m=\u001b[39m\u001b[39m1\u001b[39m,\n\u001b[1;32m   1648\u001b[0m ):\n\u001b[1;32m   1649\u001b[0m     callbacks\u001b[39m.\u001b[39mon_train_batch_begin(step)\n\u001b[0;32m-> 1650\u001b[0m     tmp_logs \u001b[39m=\u001b[39m \u001b[39mself\u001b[39;49m\u001b[39m.\u001b[39;49mtrain_function(iterator)\n\u001b[1;32m   1651\u001b[0m     \u001b[39mif\u001b[39;00m data_handler\u001b[39m.\u001b[39mshould_sync:\n\u001b[1;32m   1652\u001b[0m         context\u001b[39m.\u001b[39masync_wait()\n",
      "File \u001b[0;32m~/.pyenv/versions/3.10.6/envs/brain-tumor-project/lib/python3.10/site-packages/tensorflow/python/util/traceback_utils.py:150\u001b[0m, in \u001b[0;36mfilter_traceback.<locals>.error_handler\u001b[0;34m(*args, **kwargs)\u001b[0m\n\u001b[1;32m    148\u001b[0m filtered_tb \u001b[39m=\u001b[39m \u001b[39mNone\u001b[39;00m\n\u001b[1;32m    149\u001b[0m \u001b[39mtry\u001b[39;00m:\n\u001b[0;32m--> 150\u001b[0m   \u001b[39mreturn\u001b[39;00m fn(\u001b[39m*\u001b[39;49margs, \u001b[39m*\u001b[39;49m\u001b[39m*\u001b[39;49mkwargs)\n\u001b[1;32m    151\u001b[0m \u001b[39mexcept\u001b[39;00m \u001b[39mException\u001b[39;00m \u001b[39mas\u001b[39;00m e:\n\u001b[1;32m    152\u001b[0m   filtered_tb \u001b[39m=\u001b[39m _process_traceback_frames(e\u001b[39m.\u001b[39m__traceback__)\n",
      "File \u001b[0;32m~/.pyenv/versions/3.10.6/envs/brain-tumor-project/lib/python3.10/site-packages/tensorflow/python/eager/polymorphic_function/polymorphic_function.py:880\u001b[0m, in \u001b[0;36mFunction.__call__\u001b[0;34m(self, *args, **kwds)\u001b[0m\n\u001b[1;32m    877\u001b[0m compiler \u001b[39m=\u001b[39m \u001b[39m\"\u001b[39m\u001b[39mxla\u001b[39m\u001b[39m\"\u001b[39m \u001b[39mif\u001b[39;00m \u001b[39mself\u001b[39m\u001b[39m.\u001b[39m_jit_compile \u001b[39melse\u001b[39;00m \u001b[39m\"\u001b[39m\u001b[39mnonXla\u001b[39m\u001b[39m\"\u001b[39m\n\u001b[1;32m    879\u001b[0m \u001b[39mwith\u001b[39;00m OptionalXlaContext(\u001b[39mself\u001b[39m\u001b[39m.\u001b[39m_jit_compile):\n\u001b[0;32m--> 880\u001b[0m   result \u001b[39m=\u001b[39m \u001b[39mself\u001b[39;49m\u001b[39m.\u001b[39;49m_call(\u001b[39m*\u001b[39;49margs, \u001b[39m*\u001b[39;49m\u001b[39m*\u001b[39;49mkwds)\n\u001b[1;32m    882\u001b[0m new_tracing_count \u001b[39m=\u001b[39m \u001b[39mself\u001b[39m\u001b[39m.\u001b[39mexperimental_get_tracing_count()\n\u001b[1;32m    883\u001b[0m without_tracing \u001b[39m=\u001b[39m (tracing_count \u001b[39m==\u001b[39m new_tracing_count)\n",
      "File \u001b[0;32m~/.pyenv/versions/3.10.6/envs/brain-tumor-project/lib/python3.10/site-packages/tensorflow/python/eager/polymorphic_function/polymorphic_function.py:912\u001b[0m, in \u001b[0;36mFunction._call\u001b[0;34m(self, *args, **kwds)\u001b[0m\n\u001b[1;32m    909\u001b[0m   \u001b[39mself\u001b[39m\u001b[39m.\u001b[39m_lock\u001b[39m.\u001b[39mrelease()\n\u001b[1;32m    910\u001b[0m   \u001b[39m# In this case we have created variables on the first call, so we run the\u001b[39;00m\n\u001b[1;32m    911\u001b[0m   \u001b[39m# defunned version which is guaranteed to never create variables.\u001b[39;00m\n\u001b[0;32m--> 912\u001b[0m   \u001b[39mreturn\u001b[39;00m \u001b[39mself\u001b[39;49m\u001b[39m.\u001b[39;49m_no_variable_creation_fn(\u001b[39m*\u001b[39;49margs, \u001b[39m*\u001b[39;49m\u001b[39m*\u001b[39;49mkwds)  \u001b[39m# pylint: disable=not-callable\u001b[39;00m\n\u001b[1;32m    913\u001b[0m \u001b[39melif\u001b[39;00m \u001b[39mself\u001b[39m\u001b[39m.\u001b[39m_variable_creation_fn \u001b[39mis\u001b[39;00m \u001b[39mnot\u001b[39;00m \u001b[39mNone\u001b[39;00m:\n\u001b[1;32m    914\u001b[0m   \u001b[39m# Release the lock early so that multiple threads can perform the call\u001b[39;00m\n\u001b[1;32m    915\u001b[0m   \u001b[39m# in parallel.\u001b[39;00m\n\u001b[1;32m    916\u001b[0m   \u001b[39mself\u001b[39m\u001b[39m.\u001b[39m_lock\u001b[39m.\u001b[39mrelease()\n",
      "File \u001b[0;32m~/.pyenv/versions/3.10.6/envs/brain-tumor-project/lib/python3.10/site-packages/tensorflow/python/eager/polymorphic_function/tracing_compiler.py:134\u001b[0m, in \u001b[0;36mTracingCompiler.__call__\u001b[0;34m(self, *args, **kwargs)\u001b[0m\n\u001b[1;32m    131\u001b[0m \u001b[39mwith\u001b[39;00m \u001b[39mself\u001b[39m\u001b[39m.\u001b[39m_lock:\n\u001b[1;32m    132\u001b[0m   (concrete_function,\n\u001b[1;32m    133\u001b[0m    filtered_flat_args) \u001b[39m=\u001b[39m \u001b[39mself\u001b[39m\u001b[39m.\u001b[39m_maybe_define_function(args, kwargs)\n\u001b[0;32m--> 134\u001b[0m \u001b[39mreturn\u001b[39;00m concrete_function\u001b[39m.\u001b[39;49m_call_flat(\n\u001b[1;32m    135\u001b[0m     filtered_flat_args, captured_inputs\u001b[39m=\u001b[39;49mconcrete_function\u001b[39m.\u001b[39;49mcaptured_inputs)\n",
      "File \u001b[0;32m~/.pyenv/versions/3.10.6/envs/brain-tumor-project/lib/python3.10/site-packages/tensorflow/python/eager/polymorphic_function/monomorphic_function.py:1745\u001b[0m, in \u001b[0;36mConcreteFunction._call_flat\u001b[0;34m(self, args, captured_inputs, cancellation_manager)\u001b[0m\n\u001b[1;32m   1741\u001b[0m possible_gradient_type \u001b[39m=\u001b[39m gradients_util\u001b[39m.\u001b[39mPossibleTapeGradientTypes(args)\n\u001b[1;32m   1742\u001b[0m \u001b[39mif\u001b[39;00m (possible_gradient_type \u001b[39m==\u001b[39m gradients_util\u001b[39m.\u001b[39mPOSSIBLE_GRADIENT_TYPES_NONE\n\u001b[1;32m   1743\u001b[0m     \u001b[39mand\u001b[39;00m executing_eagerly):\n\u001b[1;32m   1744\u001b[0m   \u001b[39m# No tape is watching; skip to running the function.\u001b[39;00m\n\u001b[0;32m-> 1745\u001b[0m   \u001b[39mreturn\u001b[39;00m \u001b[39mself\u001b[39m\u001b[39m.\u001b[39m_build_call_outputs(\u001b[39mself\u001b[39;49m\u001b[39m.\u001b[39;49m_inference_function\u001b[39m.\u001b[39;49mcall(\n\u001b[1;32m   1746\u001b[0m       ctx, args, cancellation_manager\u001b[39m=\u001b[39;49mcancellation_manager))\n\u001b[1;32m   1747\u001b[0m forward_backward \u001b[39m=\u001b[39m \u001b[39mself\u001b[39m\u001b[39m.\u001b[39m_select_forward_and_backward_functions(\n\u001b[1;32m   1748\u001b[0m     args,\n\u001b[1;32m   1749\u001b[0m     possible_gradient_type,\n\u001b[1;32m   1750\u001b[0m     executing_eagerly)\n\u001b[1;32m   1751\u001b[0m forward_function, args_with_tangents \u001b[39m=\u001b[39m forward_backward\u001b[39m.\u001b[39mforward()\n",
      "File \u001b[0;32m~/.pyenv/versions/3.10.6/envs/brain-tumor-project/lib/python3.10/site-packages/tensorflow/python/eager/polymorphic_function/monomorphic_function.py:378\u001b[0m, in \u001b[0;36m_EagerDefinedFunction.call\u001b[0;34m(self, ctx, args, cancellation_manager)\u001b[0m\n\u001b[1;32m    376\u001b[0m \u001b[39mwith\u001b[39;00m _InterpolateFunctionError(\u001b[39mself\u001b[39m):\n\u001b[1;32m    377\u001b[0m   \u001b[39mif\u001b[39;00m cancellation_manager \u001b[39mis\u001b[39;00m \u001b[39mNone\u001b[39;00m:\n\u001b[0;32m--> 378\u001b[0m     outputs \u001b[39m=\u001b[39m execute\u001b[39m.\u001b[39;49mexecute(\n\u001b[1;32m    379\u001b[0m         \u001b[39mstr\u001b[39;49m(\u001b[39mself\u001b[39;49m\u001b[39m.\u001b[39;49msignature\u001b[39m.\u001b[39;49mname),\n\u001b[1;32m    380\u001b[0m         num_outputs\u001b[39m=\u001b[39;49m\u001b[39mself\u001b[39;49m\u001b[39m.\u001b[39;49m_num_outputs,\n\u001b[1;32m    381\u001b[0m         inputs\u001b[39m=\u001b[39;49margs,\n\u001b[1;32m    382\u001b[0m         attrs\u001b[39m=\u001b[39;49mattrs,\n\u001b[1;32m    383\u001b[0m         ctx\u001b[39m=\u001b[39;49mctx)\n\u001b[1;32m    384\u001b[0m   \u001b[39melse\u001b[39;00m:\n\u001b[1;32m    385\u001b[0m     outputs \u001b[39m=\u001b[39m execute\u001b[39m.\u001b[39mexecute_with_cancellation(\n\u001b[1;32m    386\u001b[0m         \u001b[39mstr\u001b[39m(\u001b[39mself\u001b[39m\u001b[39m.\u001b[39msignature\u001b[39m.\u001b[39mname),\n\u001b[1;32m    387\u001b[0m         num_outputs\u001b[39m=\u001b[39m\u001b[39mself\u001b[39m\u001b[39m.\u001b[39m_num_outputs,\n\u001b[0;32m   (...)\u001b[0m\n\u001b[1;32m    390\u001b[0m         ctx\u001b[39m=\u001b[39mctx,\n\u001b[1;32m    391\u001b[0m         cancellation_manager\u001b[39m=\u001b[39mcancellation_manager)\n",
      "File \u001b[0;32m~/.pyenv/versions/3.10.6/envs/brain-tumor-project/lib/python3.10/site-packages/tensorflow/python/eager/execute.py:52\u001b[0m, in \u001b[0;36mquick_execute\u001b[0;34m(op_name, num_outputs, inputs, attrs, ctx, name)\u001b[0m\n\u001b[1;32m     50\u001b[0m \u001b[39mtry\u001b[39;00m:\n\u001b[1;32m     51\u001b[0m   ctx\u001b[39m.\u001b[39mensure_initialized()\n\u001b[0;32m---> 52\u001b[0m   tensors \u001b[39m=\u001b[39m pywrap_tfe\u001b[39m.\u001b[39;49mTFE_Py_Execute(ctx\u001b[39m.\u001b[39;49m_handle, device_name, op_name,\n\u001b[1;32m     53\u001b[0m                                       inputs, attrs, num_outputs)\n\u001b[1;32m     54\u001b[0m \u001b[39mexcept\u001b[39;00m core\u001b[39m.\u001b[39m_NotOkStatusException \u001b[39mas\u001b[39;00m e:\n\u001b[1;32m     55\u001b[0m   \u001b[39mif\u001b[39;00m name \u001b[39mis\u001b[39;00m \u001b[39mnot\u001b[39;00m \u001b[39mNone\u001b[39;00m:\n",
      "\u001b[0;31mKeyboardInterrupt\u001b[0m: "
     ]
    }
   ],
   "source": [
    "es = EarlyStopping(patience=5, restore_best_weights = True)\n",
    "history = sim_model.fit(X_train, y_train,\n",
    "                        epochs = 30,\n",
    "                        batch_size = 4,\n",
    "                        callbacks = [es],\n",
    "                        validation_data=(X_test, y_test),\n",
    "                        shuffle =True,\n",
    "                        verbose = 1)\n",
    "sim_model.save(f'model_glioma_{channel}_nii_3dUnet')"
   ]
  },
  {
   "cell_type": "code",
   "execution_count": 44,
   "metadata": {},
   "outputs": [
    {
     "data": {
      "text/plain": [
       "23490"
      ]
     },
     "execution_count": 44,
     "metadata": {},
     "output_type": "execute_result"
    }
   ],
   "source": [
    "# delete the not used variables and release RAM\n",
    "del [X_train]\n",
    "\n",
    "gc.collect()"
   ]
  },
  {
   "cell_type": "code",
   "execution_count": 20,
   "metadata": {},
   "outputs": [],
   "source": [
    "new_model = tf.keras.models.load_model(f'model_glioma_{channel}_nii_3dUnet')"
   ]
  },
  {
   "cell_type": "code",
   "execution_count": 45,
   "metadata": {},
   "outputs": [],
   "source": [
    "#plot the learning curve\n",
    "def plot_loss(history):\n",
    "    fig, (ax1, ax2) = plt.subplots(1,2, figsize=(13,4))\n",
    "    ax1.plot(history.history['loss'])\n",
    "    ax1.plot(history.history['val_loss'])\n",
    "    ax1.set_title('Model loss')\n",
    "    ax1.set_ylabel('Loss')\n",
    "    ax1.set_xlabel('Epoch')\n",
    "    ax1.set_ylim(ymin=0, ymax=1)\n",
    "    ax1.legend(['Train', 'Validation'], loc='best')\n",
    "    ax1.grid(axis=\"x\",linewidth=0.2)\n",
    "    ax1.grid(axis=\"y\",linewidth=0.2)    \n",
    "    \n",
    "    ax2.plot(history.history['accuracy'])\n",
    "    ax2.plot(history.history['val_accuracy'])\n",
    "    ax2.set_title('Accuracy')\n",
    "    ax2.set_ylabel('Accuracy')\n",
    "    ax2.set_xlabel('Epoch')\n",
    "    ax2.set_ylim(ymin=0, ymax=1)\n",
    "    ax2.legend(['Train', 'Validation'], loc='best')\n",
    "    ax2.grid(axis=\"x\",linewidth=0.2)\n",
    "    ax2.grid(axis=\"y\",linewidth=0.2)    \n",
    "\n",
    "    plt.show()    "
   ]
  },
  {
   "cell_type": "code",
   "execution_count": 46,
   "metadata": {},
   "outputs": [
    {
     "data": {
      "image/png": "[encoded data removed]",
      "text/plain": [
       "<Figure size 1300x400 with 2 Axes>"
      ]
     },
     "metadata": {},
     "output_type": "display_data"
    }
   ],
   "source": [
    "plot_loss(history)"
   ]
  },
  {
   "cell_type": "code",
   "execution_count": 21,
   "metadata": {},
   "outputs": [
    {
     "name": "stdout",
     "output_type": "stream",
     "text": [
      "3/3 [==============================] - 9s 2s/step\n",
      "              precision    recall  f1-score   support\n",
      "\n",
      "     class 0       0.00      0.00      0.00        15\n",
      "     class 1       0.80      1.00      0.89        59\n",
      "\n",
      "    accuracy                           0.80        74\n",
      "   macro avg       0.40      0.50      0.44        74\n",
      "weighted avg       0.64      0.80      0.71        74\n",
      "\n"
     ]
    },
    {
     "name": "stderr",
     "output_type": "stream",
     "text": [
      "/home/yaoyx001/.pyenv/versions/3.10.6/envs/brain-tumor-project/lib/python3.10/site-packages/sklearn/metrics/_classification.py:1344: UndefinedMetricWarning: Precision and F-score are ill-defined and being set to 0.0 in labels with no predicted samples. Use `zero_division` parameter to control this behavior.\n",
      "  _warn_prf(average, modifier, msg_start, len(result))\n",
      "/home/yaoyx001/.pyenv/versions/3.10.6/envs/brain-tumor-project/lib/python3.10/site-packages/sklearn/metrics/_classification.py:1344: UndefinedMetricWarning: Precision and F-score are ill-defined and being set to 0.0 in labels with no predicted samples. Use `zero_division` parameter to control this behavior.\n",
      "  _warn_prf(average, modifier, msg_start, len(result))\n",
      "/home/yaoyx001/.pyenv/versions/3.10.6/envs/brain-tumor-project/lib/python3.10/site-packages/sklearn/metrics/_classification.py:1344: UndefinedMetricWarning: Precision and F-score are ill-defined and being set to 0.0 in labels with no predicted samples. Use `zero_division` parameter to control this behavior.\n",
      "  _warn_prf(average, modifier, msg_start, len(result))\n"
     ]
    }
   ],
   "source": [
    "predictions = (sim_model.predict(X_test) > 0.5).astype(\"int32\")\n",
    "predictions = pd.DataFrame(predictions)\n",
    "\n",
    "from sklearn.metrics import classification_report\n",
    "\n",
    "target_names = ['class 0', 'class 1']\n",
    "print(classification_report(y_test, predictions, target_names=target_names))"
   ]
  },
  {
   "cell_type": "code",
   "execution_count": 22,
   "metadata": {},
   "outputs": [
    {
     "data": {
      "image/png": "[encoded data removed]",
      "text/plain": [
       "<Figure size 640x480 with 2 Axes>"
      ]
     },
     "metadata": {},
     "output_type": "display_data"
    }
   ],
   "source": [
    "confusion_matrix = metrics.confusion_matrix(y_test, predictions)\n",
    "\n",
    "cm_display = metrics.ConfusionMatrixDisplay(confusion_matrix = confusion_matrix, display_labels = [False, True])\n",
    "\n",
    "cm_display.plot()\n",
    "plt.show()"
   ]
  }
 ],
 "metadata": {
  "kernelspec": {
   "display_name": "Python 3",
   "language": "python",
   "name": "python3"
  },
  "language_info": {
   "codemirror_mode": {
    "name": "ipython",
    "version": 3
   },
   "file_extension": ".py",
   "mimetype": "text/x-python",
   "name": "python",
   "nbconvert_exporter": "python",
   "pygments_lexer": "ipython3",
   "version": "3.10.6"
  },
  "orig_nbformat": 4
 },
 "nbformat": 4,
 "nbformat_minor": 2
}
