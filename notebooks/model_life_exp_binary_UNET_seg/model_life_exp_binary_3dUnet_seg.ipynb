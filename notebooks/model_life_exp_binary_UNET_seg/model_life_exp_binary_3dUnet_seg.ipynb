{
 "cells": [
  {
   "attachments": {},
   "cell_type": "markdown",
   "metadata": {},
   "source": [
    "## Step 1: Import libraries"
   ]
  },
  {
   "cell_type": "code",
   "execution_count": 1,
   "metadata": {},
   "outputs": [
    {
     "name": "stderr",
     "output_type": "stream",
     "text": [
      "2023-03-15 11:21:35.226917: I tensorflow/stream_executor/platform/default/dso_loader.cc:49] Successfully opened dynamic library libcudart.so.10.1\n"
     ]
    }
   ],
   "source": [
    "import matplotlib.pyplot as plt\n",
    "import seaborn as sns\n",
    "import os\n",
    "import numpy as np\n",
    "import pandas as pd\n",
    "import random\n",
    "import tensorflow as tf\n",
    "\n",
    "from scipy import ndimage\n",
    "from sklearn.model_selection import train_test_split\n",
    "from sklearn.preprocessing import RobustScaler\n",
    "from tensorflow.keras.layers import Conv3D, MaxPooling3D, Dense, \\\n",
    "    GlobalAveragePooling3D, BatchNormalization, Dropout, \\\n",
    "        UpSampling3D, concatenate, Flatten, ConvLSTM2D, Bidirectional, \\\n",
    "            Cropping3D, ZeroPadding3D, Activation, Input, UpSampling3D, \\\n",
    "                Conv3DTranspose\n",
    "from tensorflow.keras.models import Sequential, save_model, load_model, Model\n",
    "from tensorflow.keras.callbacks import EarlyStopping\n",
    "from tensorflow.keras.optimizers import Adam\n",
    "\n",
    "\n",
    "%matplotlib inline"
   ]
  },
  {
   "attachments": {},
   "cell_type": "markdown",
   "metadata": {},
   "source": [
    "## Step 2: Set Constants"
   ]
  },
  {
   "cell_type": "code",
   "execution_count": 2,
   "metadata": {},
   "outputs": [],
   "source": [
    "SEED = 137\n",
    "# using the range from segmentation\n",
    "# [40:195,35:225,26:137]\n",
    "# constants to crop images\n",
    "\n",
    "MIN_WIDTH = 25 # 40\n",
    "MAX_WIDTH = 215 # 195\n",
    "\n",
    "MIN_HEIGHT = 35 # 35\n",
    "MAX_HEIGHT = 225 # 225\n",
    "\n",
    "MIN_DEPTH = 15 # 26\n",
    "MAX_DEPTH = 143 # 137"
   ]
  },
  {
   "cell_type": "markdown",
   "metadata": {},
   "source": []
  },
  {
   "cell_type": "code",
   "execution_count": 3,
   "metadata": {},
   "outputs": [],
   "source": [
    "#channel \n",
    "channel = 'seg'"
   ]
  },
  {
   "attachments": {},
   "cell_type": "markdown",
   "metadata": {},
   "source": [
    "## Step 3: Load Data"
   ]
  },
  {
   "cell_type": "code",
   "execution_count": 3,
   "metadata": {},
   "outputs": [],
   "source": [
    "%load_ext autoreload\n",
    "%autoreload 2\n",
    "import os\n",
    "import numpy as np\n",
    "\n",
    "import pandas as pd\n",
    "\n",
    "from google.cloud import storage\n",
    "\n",
    "#need to change the '/home/yaoyx001/code/' to your folder location\n",
    "parent_dir = \"/home/svetlana.s.averina/code/avesveta/brain-tumor-project\" \n",
    "#change to the channel that you need\n",
    "channel = 'seg' \n",
    "\n",
    "directory = \"raw_data\" \n",
    "\n",
    "# Path\n",
    "path = os.path.join(parent_dir, directory)\n",
    "  \n",
    "# Create the directory\n",
    "if not os.path.exists(path):\n",
    "    os.makedirs(path)\n",
    "    print(\"Directory '% s' created\" % directory)\n",
    "\n",
    "#check the connection to GCP\n",
    "client = storage.Client()\n",
    "\n",
    "#get the Bucket Name from .env\n",
    "bucket_name = 'row_data_bucket'\n",
    "bucket = client.get_bucket(bucket_name)\n",
    "\n",
    "blob_name=f\"Grade_ID_{channel}_nii.pkl\"\n",
    "#get the blob(file)\n",
    "blob = bucket.blob(blob_name)\n",
    "\n",
    "cache_file = os.path.join(path, blob_name)\n",
    "#save the file in cache_folder\n",
    "\n",
    "if not os.path.isfile(cache_file):\n",
    "    blob.download_to_filename(cache_file)"
   ]
  },
  {
   "cell_type": "code",
   "execution_count": 4,
   "metadata": {},
   "outputs": [],
   "source": [
    "# load data\n",
    "df = pd.read_pickle(f\"../../raw_data/Grade_ID_{channel}_nii.pkl\")\n",
    "\n",
    "# the target columns have to be updated, it's only the fremework\n",
    "df['Grade'] = df['Grade'].apply(lambda x: 1 if x == 'HGG' else 0)"
   ]
  },
  {
   "cell_type": "code",
   "execution_count": 6,
   "metadata": {},
   "outputs": [
    {
     "data": {
      "text/plain": [
       "<bound method DataFrame.info of      Grade BraTS_2020_subject_ID  \\\n",
       "0        0  BraTS20_Training_001   \n",
       "1        0  BraTS20_Training_002   \n",
       "2        0  BraTS20_Training_003   \n",
       "3        0  BraTS20_Training_004   \n",
       "4        0  BraTS20_Training_005   \n",
       "..     ...                   ...   \n",
       "364      0  BraTS20_Training_365   \n",
       "365      0  BraTS20_Training_366   \n",
       "366      0  BraTS20_Training_367   \n",
       "367      0  BraTS20_Training_368   \n",
       "368      0  BraTS20_Training_369   \n",
       "\n",
       "                                                t1_nii  \n",
       "0    [[[0, 0, 0, 0, 0, 0, 0, 0, 0, 0, 0, 0, 0, 0, 0...  \n",
       "1    [[[0, 0, 0, 0, 0, 0, 0, 0, 0, 0, 0, 0, 0, 0, 0...  \n",
       "2    [[[0, 0, 0, 0, 0, 0, 0, 0, 0, 0, 0, 0, 0, 0, 0...  \n",
       "3    [[[0, 0, 0, 0, 0, 0, 0, 0, 0, 0, 0, 0, 0, 0, 0...  \n",
       "4    [[[0, 0, 0, 0, 0, 0, 0, 0, 0, 0, 0, 0, 0, 0, 0...  \n",
       "..                                                 ...  \n",
       "364  [[[0.0, 0.0, 0.0, 0.0, 0.0, 0.0, 0.0, 0.0, 0.0...  \n",
       "365  [[[0.0, 0.0, 0.0, 0.0, 0.0, 0.0, 0.0, 0.0, 0.0...  \n",
       "366  [[[0.0, 0.0, 0.0, 0.0, 0.0, 0.0, 0.0, 0.0, 0.0...  \n",
       "367  [[[0.0, 0.0, 0.0, 0.0, 0.0, 0.0, 0.0, 0.0, 0.0...  \n",
       "368  [[[0.0, 0.0, 0.0, 0.0, 0.0, 0.0, 0.0, 0.0, 0.0...  \n",
       "\n",
       "[369 rows x 3 columns]>"
      ]
     },
     "execution_count": 6,
     "metadata": {},
     "output_type": "execute_result"
    }
   ],
   "source": [
    "df.info"
   ]
  },
  {
   "cell_type": "code",
   "execution_count": 5,
   "metadata": {},
   "outputs": [
    {
     "data": {
      "text/html": [
       "<div>\n",
       "<style scoped>\n",
       "    .dataframe tbody tr th:only-of-type {\n",
       "        vertical-align: middle;\n",
       "    }\n",
       "\n",
       "    .dataframe tbody tr th {\n",
       "        vertical-align: top;\n",
       "    }\n",
       "\n",
       "    .dataframe thead th {\n",
       "        text-align: right;\n",
       "    }\n",
       "</style>\n",
       "<table border=\"1\" class=\"dataframe\">\n",
       "  <thead>\n",
       "    <tr style=\"text-align: right;\">\n",
       "      <th></th>\n",
       "      <th>Brats20ID</th>\n",
       "      <th>Age</th>\n",
       "      <th>Survival_days</th>\n",
       "      <th>Extent_of_Resection</th>\n",
       "    </tr>\n",
       "  </thead>\n",
       "  <tbody>\n",
       "    <tr>\n",
       "      <th>0</th>\n",
       "      <td>BraTS20_Training_001</td>\n",
       "      <td>60.463</td>\n",
       "      <td>289</td>\n",
       "      <td>GTR</td>\n",
       "    </tr>\n",
       "    <tr>\n",
       "      <th>1</th>\n",
       "      <td>BraTS20_Training_002</td>\n",
       "      <td>52.263</td>\n",
       "      <td>616</td>\n",
       "      <td>GTR</td>\n",
       "    </tr>\n",
       "    <tr>\n",
       "      <th>2</th>\n",
       "      <td>BraTS20_Training_003</td>\n",
       "      <td>54.301</td>\n",
       "      <td>464</td>\n",
       "      <td>GTR</td>\n",
       "    </tr>\n",
       "  </tbody>\n",
       "</table>\n",
       "</div>"
      ],
      "text/plain": [
       "              Brats20ID     Age Survival_days Extent_of_Resection\n",
       "0  BraTS20_Training_001  60.463           289                 GTR\n",
       "1  BraTS20_Training_002  52.263           616                 GTR\n",
       "2  BraTS20_Training_003  54.301           464                 GTR"
      ]
     },
     "execution_count": 5,
     "metadata": {},
     "output_type": "execute_result"
    }
   ],
   "source": [
    "#load surv data\n",
    "life_exp_df = pd.read_csv('../../raw_data/survival_info_2020.csv')\n",
    "life_exp_df.head(3)"
   ]
  },
  {
   "cell_type": "code",
   "execution_count": 6,
   "metadata": {},
   "outputs": [],
   "source": [
    "#doing left merge on two df\n",
    "life_exp_df = life_exp_df.merge(df, how='left', left_on='Brats20ID', right_on='BraTS_2020_subject_ID')"
   ]
  },
  {
   "cell_type": "code",
   "execution_count": 7,
   "metadata": {},
   "outputs": [
    {
     "name": "stderr",
     "output_type": "stream",
     "text": [
      "/tmp/ipykernel_10669/3266487694.py:1: SettingWithCopyWarning: \n",
      "A value is trying to be set on a copy of a slice from a DataFrame\n",
      "\n",
      "See the caveats in the documentation: https://pandas.pydata.org/pandas-docs/stable/user_guide/indexing.html#returning-a-view-versus-a-copy\n",
      "  life_exp_df['Survival_days'][83] = '1767'\n"
     ]
    }
   ],
   "source": [
    "life_exp_df['Survival_days'][83] = '1767'"
   ]
  },
  {
   "cell_type": "code",
   "execution_count": 8,
   "metadata": {},
   "outputs": [],
   "source": [
    "life_exp_df['Survival_days'] = life_exp_df['Survival_days'].astype('int32')"
   ]
  },
  {
   "cell_type": "code",
   "execution_count": 18,
   "metadata": {},
   "outputs": [
    {
     "data": {
      "text/html": [
       "<div>\n",
       "<style scoped>\n",
       "    .dataframe tbody tr th:only-of-type {\n",
       "        vertical-align: middle;\n",
       "    }\n",
       "\n",
       "    .dataframe tbody tr th {\n",
       "        vertical-align: top;\n",
       "    }\n",
       "\n",
       "    .dataframe thead th {\n",
       "        text-align: right;\n",
       "    }\n",
       "</style>\n",
       "<table border=\"1\" class=\"dataframe\">\n",
       "  <thead>\n",
       "    <tr style=\"text-align: right;\">\n",
       "      <th></th>\n",
       "      <th>Brats20ID</th>\n",
       "      <th>Age</th>\n",
       "      <th>Survival_days</th>\n",
       "      <th>Extent_of_Resection</th>\n",
       "      <th>Grade</th>\n",
       "      <th>BraTS_2020_subject_ID</th>\n",
       "      <th>seg_nii</th>\n",
       "    </tr>\n",
       "  </thead>\n",
       "  <tbody>\n",
       "    <tr>\n",
       "      <th>0</th>\n",
       "      <td>BraTS20_Training_001</td>\n",
       "      <td>60.463</td>\n",
       "      <td>289</td>\n",
       "      <td>GTR</td>\n",
       "      <td>1</td>\n",
       "      <td>BraTS20_Training_001</td>\n",
       "      <td>[[[0, 0, 0, 0, 0, 0, 0, 0, 0, 0, 0, 0, 0, 0, 0...</td>\n",
       "    </tr>\n",
       "  </tbody>\n",
       "</table>\n",
       "</div>"
      ],
      "text/plain": [
       "              Brats20ID     Age  Survival_days Extent_of_Resection  Grade  \\\n",
       "0  BraTS20_Training_001  60.463            289                 GTR      1   \n",
       "\n",
       "  BraTS_2020_subject_ID                                            seg_nii  \n",
       "0  BraTS20_Training_001  [[[0, 0, 0, 0, 0, 0, 0, 0, 0, 0, 0, 0, 0, 0, 0...  "
      ]
     },
     "execution_count": 18,
     "metadata": {},
     "output_type": "execute_result"
    }
   ],
   "source": [
    "life_exp_df.head(1)"
   ]
  },
  {
   "cell_type": "code",
   "execution_count": 9,
   "metadata": {},
   "outputs": [],
   "source": [
    "#dropping the unused columns\n",
    "life_exp_df = life_exp_df.drop(columns=['BraTS_2020_subject_ID','Grade','Extent_of_Resection'])"
   ]
  },
  {
   "cell_type": "code",
   "execution_count": 10,
   "metadata": {},
   "outputs": [
    {
     "data": {
      "text/plain": [
       "<Axes: xlabel='Survival_days', ylabel='Count'>"
      ]
     },
     "execution_count": 10,
     "metadata": {},
     "output_type": "execute_result"
    },
    {
     "data": {
      "image/png": "[encoded data removed]",
      "text/plain": [
       "<Figure size 640x480 with 1 Axes>"
      ]
     },
     "metadata": {},
     "output_type": "display_data"
    }
   ],
   "source": [
    "sns.histplot(life_exp_df['Survival_days'], bins=[0, 365, 1750])\n",
    "#bins=[180, 365, 1750]"
   ]
  },
  {
   "cell_type": "code",
   "execution_count": 10,
   "metadata": {},
   "outputs": [
    {
     "data": {
      "text/plain": [
       "371.0"
      ]
     },
     "execution_count": 10,
     "metadata": {},
     "output_type": "execute_result"
    }
   ],
   "source": [
    "life_exp_df['Survival_days'].median()"
   ]
  },
  {
   "cell_type": "code",
   "execution_count": 11,
   "metadata": {},
   "outputs": [
    {
     "data": {
      "text/plain": [
       "365.3807523337576"
      ]
     },
     "execution_count": 11,
     "metadata": {},
     "output_type": "execute_result"
    }
   ],
   "source": [
    "life_exp_df['Survival_days'].std()"
   ]
  },
  {
   "cell_type": "code",
   "execution_count": 11,
   "metadata": {},
   "outputs": [],
   "source": [
    "#target encoding for life expectancy\n",
    "\n",
    "def survival_encoding(x):\n",
    "    if x <= 365.00:\n",
    "        return 0\n",
    "    else:\n",
    "        return 1\n",
    "\n",
    "# the target columns have to be updated, it's only the fremework\n",
    "life_exp_df['Survival_days'] = life_exp_df['Survival_days'].apply(survival_encoding)"
   ]
  },
  {
   "attachments": {},
   "cell_type": "markdown",
   "metadata": {},
   "source": [
    "## Step 4: EDA"
   ]
  },
  {
   "cell_type": "code",
   "execution_count": 12,
   "metadata": {},
   "outputs": [
    {
     "name": "stdout",
     "output_type": "stream",
     "text": [
      "Number of samples: 236\n",
      "Short-term life expectancy examples: (116, 4)\n",
      "Long-term life expectancy examples: (120, 4)\n",
      "\n",
      "Single example Shape:\n",
      "Height: 240\n",
      "Width: 240\n"
     ]
    }
   ],
   "source": [
    "print(f\"Number of samples: {life_exp_df[f'{channel}_nii'].shape[0]}\")\n",
    "print(f\"Short-term life expectancy examples: {life_exp_df[life_exp_df['Survival_days'] == 0].shape}\")\n",
    "print(f\"Long-term life expectancy examples: {life_exp_df[life_exp_df['Survival_days'] == 1].shape}\")\n",
    "\n",
    "\n",
    "print(\"\")\n",
    "print(\"Single example Shape:\")\n",
    "print(f\"Height: {life_exp_df[f'{channel}_nii'][0].shape[0]}\")\n",
    "print(f\"Width: {life_exp_df[f'{channel}_nii'][0].shape[1]}\")\n"
   ]
  },
  {
   "attachments": {},
   "cell_type": "markdown",
   "metadata": {},
   "source": [
    "## Step 5: Crop Images and run Augmentation"
   ]
  },
  {
   "cell_type": "code",
   "execution_count": 15,
   "metadata": {},
   "outputs": [],
   "source": [
    "# crop images\n",
    "life_exp_df[f'{channel}_nii'] = life_exp_df[f'{channel}_nii'].apply(lambda x: np.array(x[MIN_HEIGHT:MAX_HEIGHT,MIN_WIDTH:MAX_WIDTH,MIN_DEPTH:MAX_DEPTH]))\n",
    "X = life_exp_df[f'{channel}_nii']\n",
    "y = life_exp_df['Survival_days']"
   ]
  },
  {
   "cell_type": "code",
   "execution_count": 16,
   "metadata": {},
   "outputs": [
    {
     "data": {
      "text/plain": [
       "571"
      ]
     },
     "execution_count": 16,
     "metadata": {},
     "output_type": "execute_result"
    }
   ],
   "source": [
    "del [life_exp_df]\n",
    "import gc\n",
    "\n",
    "gc.collect()"
   ]
  },
  {
   "cell_type": "code",
   "execution_count": 17,
   "metadata": {},
   "outputs": [],
   "source": [
    "# reshape input data\n",
    "X = np.array([np.array(val) for val in X])\n"
   ]
  },
  {
   "cell_type": "code",
   "execution_count": 21,
   "metadata": {},
   "outputs": [],
   "source": [
    "#CHANGE IT IF WORK NOT WITH SEG\n",
    "#X[X>840]=840 # set the max value to 840"
   ]
  },
  {
   "cell_type": "code",
   "execution_count": 22,
   "metadata": {},
   "outputs": [],
   "source": [
    "#CHANGE IT IF WORK NOT WITH SEG\n",
    "# X = (X - 0)/840 # Min-Max Scaler"
   ]
  },
  {
   "cell_type": "code",
   "execution_count": 18,
   "metadata": {},
   "outputs": [],
   "source": [
    "X = X.reshape(len(X), X[0].shape[0], X[0].shape[1], X[0].shape[2], 1)"
   ]
  },
  {
   "cell_type": "code",
   "execution_count": 19,
   "metadata": {},
   "outputs": [],
   "source": [
    "# create train test split\n",
    "X_train, X_test, y_train, y_test = train_test_split(X, y, stratify=y, test_size=0.2, random_state=SEED)\n",
    "# reset the index of y, so that the indexes of X and y match\n",
    "y_train = y_train.reset_index(drop=True)\n",
    "\n",
    "y_test = y_test.reset_index(drop=True)"
   ]
  },
  {
   "cell_type": "code",
   "execution_count": 20,
   "metadata": {},
   "outputs": [
    {
     "data": {
      "text/plain": [
       "0"
      ]
     },
     "execution_count": 20,
     "metadata": {},
     "output_type": "execute_result"
    }
   ],
   "source": [
    "del [X, y]\n",
    "import gc\n",
    "\n",
    "gc.collect()"
   ]
  },
  {
   "cell_type": "code",
   "execution_count": 21,
   "metadata": {},
   "outputs": [],
   "source": [
    "# find indices of positive examples\n",
    "pos_indices = np.where(y_train == 0)[0]\n",
    "\n",
    "# perform data augmentation on positive examples\n",
    "rotated_examples1 = np.rot90(X_train[pos_indices], axes=(1, 2))\n",
    "rotated_examples2 = np.rot90(rotated_examples1, axes=(1, 2))\n",
    "\n",
    "# append new images and labels to the training set\n",
    "X_train = np.concatenate([X_train, rotated_examples1, rotated_examples2], axis=0)\n",
    "y_train = np.concatenate([y_train, np.repeat(y_train[pos_indices], 2)], axis=0)"
   ]
  },
  {
   "cell_type": "code",
   "execution_count": 23,
   "metadata": {},
   "outputs": [
    {
     "data": {
      "text/plain": [
       "0"
      ]
     },
     "execution_count": 23,
     "metadata": {},
     "output_type": "execute_result"
    }
   ],
   "source": [
    "y_test[0]"
   ]
  },
  {
   "cell_type": "code",
   "execution_count": 4,
   "metadata": {},
   "outputs": [],
   "source": [
    "# conduct augmentation on X_train for the life expectancy data\n",
    "if not os.path.isfile(f\"{channel}-X_train.npy\"):\n",
    "    \n",
    "    np.save(f\"{channel}-X_train.npy\", X_train) #save the channel-X so we don't need always augument the X\n",
    "    np.save(f\"{channel}-y_train.npy\", y_train)\n",
    "    np.save(f\"{channel}-X_test.npy\", X_test) \n",
    "    np.save(f\"{channel}-y_test.npy\", y_test)\n",
    "else:   #load the X direkly from npy file\n",
    "    X_train = np.load(f\"{channel}-X_train.npy\",\n",
    "                    mmap_mode='r')\n",
    "    y_train = np.load(f\"{channel}-y_train.npy\",\n",
    "                    mmap_mode='r')\n",
    "    X_test = np.load(f\"{channel}-X_test.npy\",\n",
    "                    mmap_mode='r')\n",
    "    y_test = np.load(f\"{channel}-y_test.npy\",\n",
    "                    mmap_mode='r')\n",
    "    \n",
    "    \n",
    "    "
   ]
  },
  {
   "cell_type": "code",
   "execution_count": 25,
   "metadata": {},
   "outputs": [
    {
     "data": {
      "text/plain": [
       "(372, 190, 190, 128, 1)"
      ]
     },
     "execution_count": 25,
     "metadata": {},
     "output_type": "execute_result"
    }
   ],
   "source": [
    "X_train.shape"
   ]
  },
  {
   "attachments": {},
   "cell_type": "markdown",
   "metadata": {},
   "source": [
    "## Step 6: Define Model"
   ]
  },
  {
   "cell_type": "code",
   "execution_count": 5,
   "metadata": {},
   "outputs": [
    {
     "name": "stderr",
     "output_type": "stream",
     "text": [
      "2023-03-15 11:22:06.902652: I tensorflow/compiler/jit/xla_cpu_device.cc:41] Not creating XLA devices, tf_xla_enable_xla_devices not set\n",
      "2023-03-15 11:22:06.903999: I tensorflow/stream_executor/platform/default/dso_loader.cc:49] Successfully opened dynamic library libcuda.so.1\n",
      "2023-03-15 11:22:07.023294: I tensorflow/stream_executor/cuda/cuda_gpu_executor.cc:941] successful NUMA node read from SysFS had negative value (-1), but there must be at least one NUMA node, so returning NUMA node zero\n",
      "2023-03-15 11:22:07.026203: I tensorflow/core/common_runtime/gpu/gpu_device.cc:1720] Found device 0 with properties: \n",
      "pciBusID: 0000:00:04.0 name: Tesla T4 computeCapability: 7.5\n",
      "coreClock: 1.59GHz coreCount: 40 deviceMemorySize: 14.62GiB deviceMemoryBandwidth: 298.08GiB/s\n",
      "2023-03-15 11:22:07.026295: I tensorflow/stream_executor/platform/default/dso_loader.cc:49] Successfully opened dynamic library libcudart.so.10.1\n",
      "2023-03-15 11:22:07.030302: I tensorflow/stream_executor/platform/default/dso_loader.cc:49] Successfully opened dynamic library libcublas.so.10\n",
      "2023-03-15 11:22:07.030420: I tensorflow/stream_executor/platform/default/dso_loader.cc:49] Successfully opened dynamic library libcublasLt.so.10\n",
      "2023-03-15 11:22:07.034979: I tensorflow/stream_executor/platform/default/dso_loader.cc:49] Successfully opened dynamic library libcufft.so.10\n",
      "2023-03-15 11:22:07.035694: I tensorflow/stream_executor/platform/default/dso_loader.cc:49] Successfully opened dynamic library libcurand.so.10\n",
      "2023-03-15 11:22:07.038464: I tensorflow/stream_executor/platform/default/dso_loader.cc:49] Successfully opened dynamic library libcusolver.so.10\n",
      "2023-03-15 11:22:07.039805: I tensorflow/stream_executor/platform/default/dso_loader.cc:49] Successfully opened dynamic library libcusparse.so.10\n",
      "2023-03-15 11:22:07.045417: I tensorflow/stream_executor/platform/default/dso_loader.cc:49] Successfully opened dynamic library libcudnn.so.7\n",
      "2023-03-15 11:22:07.045611: I tensorflow/stream_executor/cuda/cuda_gpu_executor.cc:941] successful NUMA node read from SysFS had negative value (-1), but there must be at least one NUMA node, so returning NUMA node zero\n",
      "2023-03-15 11:22:07.048068: I tensorflow/stream_executor/cuda/cuda_gpu_executor.cc:941] successful NUMA node read from SysFS had negative value (-1), but there must be at least one NUMA node, so returning NUMA node zero\n",
      "2023-03-15 11:22:07.050282: I tensorflow/core/common_runtime/gpu/gpu_device.cc:1862] Adding visible gpu devices: 0\n",
      "2023-03-15 11:22:07.050807: I tensorflow/core/platform/cpu_feature_guard.cc:142] This TensorFlow binary is optimized with oneAPI Deep Neural Network Library (oneDNN) to use the following CPU instructions in performance-critical operations:  SSE4.1 SSE4.2 AVX AVX2 FMA\n",
      "To enable them in other operations, rebuild TensorFlow with the appropriate compiler flags.\n",
      "2023-03-15 11:22:07.051882: I tensorflow/compiler/jit/xla_gpu_device.cc:99] Not creating XLA devices, tf_xla_enable_xla_devices not set\n",
      "2023-03-15 11:22:07.052040: I tensorflow/stream_executor/cuda/cuda_gpu_executor.cc:941] successful NUMA node read from SysFS had negative value (-1), but there must be at least one NUMA node, so returning NUMA node zero\n",
      "2023-03-15 11:22:07.054442: I tensorflow/core/common_runtime/gpu/gpu_device.cc:1720] Found device 0 with properties: \n",
      "pciBusID: 0000:00:04.0 name: Tesla T4 computeCapability: 7.5\n",
      "coreClock: 1.59GHz coreCount: 40 deviceMemorySize: 14.62GiB deviceMemoryBandwidth: 298.08GiB/s\n",
      "2023-03-15 11:22:07.054479: I tensorflow/stream_executor/platform/default/dso_loader.cc:49] Successfully opened dynamic library libcudart.so.10.1\n",
      "2023-03-15 11:22:07.054499: I tensorflow/stream_executor/platform/default/dso_loader.cc:49] Successfully opened dynamic library libcublas.so.10\n",
      "2023-03-15 11:22:07.054513: I tensorflow/stream_executor/platform/default/dso_loader.cc:49] Successfully opened dynamic library libcublasLt.so.10\n",
      "2023-03-15 11:22:07.054527: I tensorflow/stream_executor/platform/default/dso_loader.cc:49] Successfully opened dynamic library libcufft.so.10\n",
      "2023-03-15 11:22:07.054540: I tensorflow/stream_executor/platform/default/dso_loader.cc:49] Successfully opened dynamic library libcurand.so.10\n",
      "2023-03-15 11:22:07.054553: I tensorflow/stream_executor/platform/default/dso_loader.cc:49] Successfully opened dynamic library libcusolver.so.10\n",
      "2023-03-15 11:22:07.054572: I tensorflow/stream_executor/platform/default/dso_loader.cc:49] Successfully opened dynamic library libcusparse.so.10\n",
      "2023-03-15 11:22:07.054587: I tensorflow/stream_executor/platform/default/dso_loader.cc:49] Successfully opened dynamic library libcudnn.so.7\n",
      "2023-03-15 11:22:07.054684: I tensorflow/stream_executor/cuda/cuda_gpu_executor.cc:941] successful NUMA node read from SysFS had negative value (-1), but there must be at least one NUMA node, so returning NUMA node zero\n",
      "2023-03-15 11:22:07.057219: I tensorflow/stream_executor/cuda/cuda_gpu_executor.cc:941] successful NUMA node read from SysFS had negative value (-1), but there must be at least one NUMA node, so returning NUMA node zero\n",
      "2023-03-15 11:22:07.059397: I tensorflow/core/common_runtime/gpu/gpu_device.cc:1862] Adding visible gpu devices: 0\n",
      "2023-03-15 11:22:07.059462: I tensorflow/stream_executor/platform/default/dso_loader.cc:49] Successfully opened dynamic library libcudart.so.10.1\n",
      "2023-03-15 11:22:08.004014: I tensorflow/core/common_runtime/gpu/gpu_device.cc:1261] Device interconnect StreamExecutor with strength 1 edge matrix:\n",
      "2023-03-15 11:22:08.004046: I tensorflow/core/common_runtime/gpu/gpu_device.cc:1267]      0 \n",
      "2023-03-15 11:22:08.004053: I tensorflow/core/common_runtime/gpu/gpu_device.cc:1280] 0:   N \n",
      "2023-03-15 11:22:08.004375: I tensorflow/stream_executor/cuda/cuda_gpu_executor.cc:941] successful NUMA node read from SysFS had negative value (-1), but there must be at least one NUMA node, so returning NUMA node zero\n",
      "2023-03-15 11:22:08.006315: I tensorflow/stream_executor/cuda/cuda_gpu_executor.cc:941] successful NUMA node read from SysFS had negative value (-1), but there must be at least one NUMA node, so returning NUMA node zero\n",
      "2023-03-15 11:22:08.007883: I tensorflow/stream_executor/cuda/cuda_gpu_executor.cc:941] successful NUMA node read from SysFS had negative value (-1), but there must be at least one NUMA node, so returning NUMA node zero\n",
      "2023-03-15 11:22:08.009426: I tensorflow/core/common_runtime/gpu/gpu_device.cc:1406] Created TensorFlow device (/job:localhost/replica:0/task:0/device:GPU:0 with 13735 MB memory) -> physical GPU (device: 0, name: Tesla T4, pci bus id: 0000:00:04.0, compute capability: 7.5)\n"
     ]
    },
    {
     "name": "stdout",
     "output_type": "stream",
     "text": [
      "Model: \"model\"\n",
      "__________________________________________________________________________________________________\n",
      "Layer (type)                    Output Shape         Param #     Connected to                     \n",
      "==================================================================================================\n",
      "input_1 (InputLayer)            [(None, 190, 190, 12 0                                            \n",
      "__________________________________________________________________________________________________\n",
      "batch_normalization (BatchNorma (None, 190, 190, 128 4           input_1[0][0]                    \n",
      "__________________________________________________________________________________________________\n",
      "conv3d (Conv3D)                 (None, 190, 190, 128 208         batch_normalization[0][0]        \n",
      "__________________________________________________________________________________________________\n",
      "batch_normalization_1 (BatchNor (None, 190, 190, 128 32          conv3d[0][0]                     \n",
      "__________________________________________________________________________________________________\n",
      "activation (Activation)         (None, 190, 190, 128 0           batch_normalization_1[0][0]      \n",
      "__________________________________________________________________________________________________\n",
      "max_pooling3d (MaxPooling3D)    (None, 95, 95, 64, 8 0           activation[0][0]                 \n",
      "__________________________________________________________________________________________________\n",
      "conv3d_1 (Conv3D)               (None, 95, 95, 64, 1 3472        max_pooling3d[0][0]              \n",
      "__________________________________________________________________________________________________\n",
      "batch_normalization_2 (BatchNor (None, 95, 95, 64, 1 64          conv3d_1[0][0]                   \n",
      "__________________________________________________________________________________________________\n",
      "activation_1 (Activation)       (None, 95, 95, 64, 1 0           batch_normalization_2[0][0]      \n",
      "__________________________________________________________________________________________________\n",
      "max_pooling3d_1 (MaxPooling3D)  (None, 95, 47, 32, 1 0           activation_1[0][0]               \n",
      "__________________________________________________________________________________________________\n",
      "conv3d_2 (Conv3D)               (None, 95, 47, 32, 3 13856       max_pooling3d_1[0][0]            \n",
      "__________________________________________________________________________________________________\n",
      "batch_normalization_3 (BatchNor (None, 95, 47, 32, 3 128         conv3d_2[0][0]                   \n",
      "__________________________________________________________________________________________________\n",
      "activation_2 (Activation)       (None, 95, 47, 32, 3 0           batch_normalization_3[0][0]      \n",
      "__________________________________________________________________________________________________\n",
      "conv3d_transpose (Conv3DTranspo (None, 95, 94, 64, 1 13840       activation_2[0][0]               \n",
      "__________________________________________________________________________________________________\n",
      "concatenate (Concatenate)       (None, 95, 189, 64,  0           conv3d_transpose[0][0]           \n",
      "                                                                 activation_1[0][0]               \n",
      "__________________________________________________________________________________________________\n",
      "conv3d_transpose_1 (Conv3DTrans (None, 190, 378, 128 3464        concatenate[0][0]                \n",
      "__________________________________________________________________________________________________\n",
      "concatenate_1 (Concatenate)     (None, 190, 568, 128 0           conv3d_transpose_1[0][0]         \n",
      "                                                                 activation[0][0]                 \n",
      "__________________________________________________________________________________________________\n",
      "conv3d_3 (Conv3D)               (None, 190, 568, 128 9           concatenate_1[0][0]              \n",
      "__________________________________________________________________________________________________\n",
      "flatten (Flatten)               (None, 13813760)     0           conv3d_3[0][0]                   \n",
      "__________________________________________________________________________________________________\n",
      "dense (Dense)                   (None, 32)           442040352   flatten[0][0]                    \n",
      "__________________________________________________________________________________________________\n",
      "dense_1 (Dense)                 (None, 1)            33          dense[0][0]                      \n",
      "==================================================================================================\n",
      "Total params: 442,075,462\n",
      "Trainable params: 442,075,348\n",
      "Non-trainable params: 114\n",
      "__________________________________________________________________________________________________\n"
     ]
    }
   ],
   "source": [
    "##Sasha's but with sigmoid\n",
    "\n",
    "in_layer = Input((190, 190, 128, 1))\n",
    "bn = BatchNormalization()(in_layer)\n",
    "cn1 = Conv3D(8, \n",
    "             kernel_size = (1, 5, 5), \n",
    "             padding = 'same',\n",
    "             activation = 'relu')(bn)\n",
    "bn2 = Activation('relu')(BatchNormalization()(cn1))\n",
    "\n",
    "dn1 = MaxPooling3D((2, 2, 2))(bn2)\n",
    "cn3 = Conv3D(16, \n",
    "             kernel_size = (3, 3, 3),\n",
    "             padding = 'same',\n",
    "             activation = 'relu')(dn1)\n",
    "bn3 = Activation('relu')(BatchNormalization()(cn3))\n",
    "\n",
    "dn2 = MaxPooling3D((1, 2, 2))(bn3)\n",
    "cn4 = Conv3D(32, \n",
    "             kernel_size = (3, 3, 3),\n",
    "             padding = 'same',\n",
    "             activation = 'relu')(dn2)\n",
    "bn4 = Activation('relu')(BatchNormalization()(cn4))\n",
    "\n",
    "up1 = Conv3DTranspose(16, \n",
    "                      kernel_size = (3, 3, 3),\n",
    "                      strides = (1, 2, 2),\n",
    "                     padding = 'same')(bn4)\n",
    "\n",
    "cat1 = concatenate([up1, bn3], axis=2)\n",
    "\n",
    "up2 = Conv3DTranspose(8, \n",
    "                      kernel_size = (3, 3, 3),\n",
    "                      strides = (2, 2, 2),\n",
    "                     padding = 'same')(cat1)\n",
    "\n",
    "pre_out = concatenate([up2, bn2], axis=2)\n",
    "\n",
    "#pre_out\n",
    "pre_out = Conv3D(1, \n",
    "             kernel_size = (1, 1, 1), \n",
    "             padding = 'same',\n",
    "             activation = 'relu')(pre_out)\n",
    "\n",
    "#pre_out = Cropping3D((1, 2, 2))(pre_out) # avoid skewing boundaries\n",
    "#out = ZeroPadding3D((1, 2, 2))(pre_out)\n",
    "#pre_out = Dense(512, activation = 'relu')(pre_out)    \n",
    "\n",
    "pre_out = Flatten()(pre_out)\n",
    "\n",
    "pre_out = Dense(32, activation = 'relu')(pre_out) \n",
    "out = Dense(1, activation='sigmoid')(pre_out)\n",
    "sim_model = Model(inputs = [in_layer], outputs = [out])\n",
    "sim_model.summary()"
   ]
  },
  {
   "cell_type": "code",
   "execution_count": 6,
   "metadata": {},
   "outputs": [],
   "source": [
    "optim=Adam(learning_rate= 0.001)\n",
    "sim_model.compile(loss = 'binary_crossentropy',\n",
    "                  optimizer = optim,\n",
    "                  metrics = ['accuracy'])"
   ]
  },
  {
   "cell_type": "code",
   "execution_count": 7,
   "metadata": {},
   "outputs": [
    {
     "name": "stdout",
     "output_type": "stream",
     "text": [
      " Size of X_train: 6.8757504 Gb\n"
     ]
    }
   ],
   "source": [
    "print(f\" Size of X_train: {(X_train.size * X_train.itemsize) / 1e9} Gb\")"
   ]
  },
  {
   "attachments": {},
   "cell_type": "markdown",
   "metadata": {},
   "source": [
    "## Step 7: Train Model"
   ]
  },
  {
   "cell_type": "code",
   "execution_count": 8,
   "metadata": {},
   "outputs": [
    {
     "name": "stderr",
     "output_type": "stream",
     "text": [
      "2023-03-15 11:23:32.087319: I tensorflow/compiler/mlir/mlir_graph_optimization_pass.cc:116] None of the MLIR optimization passes are enabled (registered 2)\n",
      "2023-03-15 11:23:32.088124: I tensorflow/core/platform/profile_utils/cpu_utils.cc:112] CPU Frequency: 2199995000 Hz\n"
     ]
    },
    {
     "name": "stdout",
     "output_type": "stream",
     "text": [
      "Epoch 1/30\n"
     ]
    },
    {
     "name": "stderr",
     "output_type": "stream",
     "text": [
      "2023-03-15 11:23:33.160751: I tensorflow/stream_executor/platform/default/dso_loader.cc:49] Successfully opened dynamic library libcublas.so.10\n",
      "2023-03-15 11:23:33.598140: I tensorflow/stream_executor/platform/default/dso_loader.cc:49] Successfully opened dynamic library libcudnn.so.7\n",
      "2023-03-15 11:23:35.150236: W tensorflow/stream_executor/gpu/asm_compiler.cc:63] Running ptxas --version returned 256\n",
      "2023-03-15 11:23:35.267965: W tensorflow/stream_executor/gpu/redzone_allocator.cc:314] Internal: ptxas exited with non-zero error code 256, output: \n",
      "Relying on driver to perform ptx compilation. \n",
      "Modify $PATH to customize ptxas location.\n",
      "This message will be only logged once.\n"
     ]
    },
    {
     "name": "stdout",
     "output_type": "stream",
     "text": [
      "93/93 [==============================] - 129s 1s/step - loss: 203.7225 - accuracy: 0.6796 - val_loss: 1.9367 - val_accuracy: 0.5208\n",
      "Epoch 2/30\n",
      "93/93 [==============================] - 115s 1s/step - loss: 12.0202 - accuracy: 0.8924 - val_loss: 4.9047 - val_accuracy: 0.5208\n",
      "Epoch 3/30\n",
      "93/93 [==============================] - 115s 1s/step - loss: 1.4668 - accuracy: 0.9474 - val_loss: 14.6816 - val_accuracy: 0.5833\n",
      "Epoch 4/30\n",
      "93/93 [==============================] - 115s 1s/step - loss: 0.5246 - accuracy: 0.9879 - val_loss: 19.6359 - val_accuracy: 0.5625\n",
      "Epoch 5/30\n",
      "93/93 [==============================] - 115s 1s/step - loss: 0.1031 - accuracy: 0.9874 - val_loss: 56.8409 - val_accuracy: 0.4583\n",
      "Epoch 6/30\n",
      "93/93 [==============================] - 115s 1s/step - loss: 0.0390 - accuracy: 0.9949 - val_loss: 64.8267 - val_accuracy: 0.4583\n"
     ]
    },
    {
     "name": "stderr",
     "output_type": "stream",
     "text": [
      "2023-03-15 11:35:20.600913: W tensorflow/python/util/util.cc:348] Sets are not currently considered sequences, but this may change in the future, so consider avoiding using them.\n"
     ]
    },
    {
     "name": "stdout",
     "output_type": "stream",
     "text": [
      "INFO:tensorflow:Assets written to: model_life_exp_binary_seg_nii_3dUnet/assets\n"
     ]
    }
   ],
   "source": [
    "es = EarlyStopping(patience=5, restore_best_weights = True)\n",
    "history = sim_model.fit(X_train, y_train,\n",
    "                        epochs = 30,\n",
    "                        batch_size = 4,\n",
    "                        callbacks = [es],\n",
    "                        validation_data=(X_test, y_test),\n",
    "                        shuffle =True,\n",
    "                        verbose = 1)\n",
    "sim_model.save(f'model_life_exp_binary_{channel}_nii_3dUnet')"
   ]
  },
  {
   "cell_type": "code",
   "execution_count": 9,
   "metadata": {},
   "outputs": [
    {
     "data": {
      "text/plain": [
       "33658"
      ]
     },
     "execution_count": 9,
     "metadata": {},
     "output_type": "execute_result"
    }
   ],
   "source": [
    "del [X_train, y_train]\n",
    "import gc\n",
    "\n",
    "gc.collect()"
   ]
  },
  {
   "cell_type": "code",
   "execution_count": 10,
   "metadata": {},
   "outputs": [
    {
     "name": "stderr",
     "output_type": "stream",
     "text": [
      "2023-03-15 10:39:23.884645: I tensorflow/compiler/jit/xla_cpu_device.cc:41] Not creating XLA devices, tf_xla_enable_xla_devices not set\n",
      "2023-03-15 10:39:23.886194: I tensorflow/stream_executor/platform/default/dso_loader.cc:49] Successfully opened dynamic library libcuda.so.1\n",
      "2023-03-15 10:39:24.012764: I tensorflow/stream_executor/cuda/cuda_gpu_executor.cc:941] successful NUMA node read from SysFS had negative value (-1), but there must be at least one NUMA node, so returning NUMA node zero\n",
      "2023-03-15 10:39:24.015506: I tensorflow/core/common_runtime/gpu/gpu_device.cc:1720] Found device 0 with properties: \n",
      "pciBusID: 0000:00:04.0 name: Tesla T4 computeCapability: 7.5\n",
      "coreClock: 1.59GHz coreCount: 40 deviceMemorySize: 14.62GiB deviceMemoryBandwidth: 298.08GiB/s\n",
      "2023-03-15 10:39:24.015555: I tensorflow/stream_executor/platform/default/dso_loader.cc:49] Successfully opened dynamic library libcudart.so.10.1\n",
      "2023-03-15 10:39:24.020077: I tensorflow/stream_executor/platform/default/dso_loader.cc:49] Successfully opened dynamic library libcublas.so.10\n",
      "2023-03-15 10:39:24.020176: I tensorflow/stream_executor/platform/default/dso_loader.cc:49] Successfully opened dynamic library libcublasLt.so.10\n",
      "2023-03-15 10:39:24.025842: I tensorflow/stream_executor/platform/default/dso_loader.cc:49] Successfully opened dynamic library libcufft.so.10\n",
      "2023-03-15 10:39:24.026549: I tensorflow/stream_executor/platform/default/dso_loader.cc:49] Successfully opened dynamic library libcurand.so.10\n",
      "2023-03-15 10:39:24.029288: I tensorflow/stream_executor/platform/default/dso_loader.cc:49] Successfully opened dynamic library libcusolver.so.10\n",
      "2023-03-15 10:39:24.030701: I tensorflow/stream_executor/platform/default/dso_loader.cc:49] Successfully opened dynamic library libcusparse.so.10\n",
      "2023-03-15 10:39:24.036350: I tensorflow/stream_executor/platform/default/dso_loader.cc:49] Successfully opened dynamic library libcudnn.so.7\n",
      "2023-03-15 10:39:24.036541: I tensorflow/stream_executor/cuda/cuda_gpu_executor.cc:941] successful NUMA node read from SysFS had negative value (-1), but there must be at least one NUMA node, so returning NUMA node zero\n",
      "2023-03-15 10:39:24.038951: I tensorflow/stream_executor/cuda/cuda_gpu_executor.cc:941] successful NUMA node read from SysFS had negative value (-1), but there must be at least one NUMA node, so returning NUMA node zero\n",
      "2023-03-15 10:39:24.041086: I tensorflow/core/common_runtime/gpu/gpu_device.cc:1862] Adding visible gpu devices: 0\n",
      "2023-03-15 10:39:24.041662: I tensorflow/core/platform/cpu_feature_guard.cc:142] This TensorFlow binary is optimized with oneAPI Deep Neural Network Library (oneDNN) to use the following CPU instructions in performance-critical operations:  SSE4.1 SSE4.2 AVX AVX2 FMA\n",
      "To enable them in other operations, rebuild TensorFlow with the appropriate compiler flags.\n",
      "2023-03-15 10:39:24.042908: I tensorflow/compiler/jit/xla_gpu_device.cc:99] Not creating XLA devices, tf_xla_enable_xla_devices not set\n",
      "2023-03-15 10:39:24.043165: I tensorflow/stream_executor/cuda/cuda_gpu_executor.cc:941] successful NUMA node read from SysFS had negative value (-1), but there must be at least one NUMA node, so returning NUMA node zero\n",
      "2023-03-15 10:39:24.045500: I tensorflow/core/common_runtime/gpu/gpu_device.cc:1720] Found device 0 with properties: \n",
      "pciBusID: 0000:00:04.0 name: Tesla T4 computeCapability: 7.5\n",
      "coreClock: 1.59GHz coreCount: 40 deviceMemorySize: 14.62GiB deviceMemoryBandwidth: 298.08GiB/s\n",
      "2023-03-15 10:39:24.045543: I tensorflow/stream_executor/platform/default/dso_loader.cc:49] Successfully opened dynamic library libcudart.so.10.1\n",
      "2023-03-15 10:39:24.045572: I tensorflow/stream_executor/platform/default/dso_loader.cc:49] Successfully opened dynamic library libcublas.so.10\n",
      "2023-03-15 10:39:24.045585: I tensorflow/stream_executor/platform/default/dso_loader.cc:49] Successfully opened dynamic library libcublasLt.so.10\n",
      "2023-03-15 10:39:24.045598: I tensorflow/stream_executor/platform/default/dso_loader.cc:49] Successfully opened dynamic library libcufft.so.10\n",
      "2023-03-15 10:39:24.045610: I tensorflow/stream_executor/platform/default/dso_loader.cc:49] Successfully opened dynamic library libcurand.so.10\n",
      "2023-03-15 10:39:24.045623: I tensorflow/stream_executor/platform/default/dso_loader.cc:49] Successfully opened dynamic library libcusolver.so.10\n",
      "2023-03-15 10:39:24.045637: I tensorflow/stream_executor/platform/default/dso_loader.cc:49] Successfully opened dynamic library libcusparse.so.10\n",
      "2023-03-15 10:39:24.045650: I tensorflow/stream_executor/platform/default/dso_loader.cc:49] Successfully opened dynamic library libcudnn.so.7\n",
      "2023-03-15 10:39:24.045740: I tensorflow/stream_executor/cuda/cuda_gpu_executor.cc:941] successful NUMA node read from SysFS had negative value (-1), but there must be at least one NUMA node, so returning NUMA node zero\n",
      "2023-03-15 10:39:24.048110: I tensorflow/stream_executor/cuda/cuda_gpu_executor.cc:941] successful NUMA node read from SysFS had negative value (-1), but there must be at least one NUMA node, so returning NUMA node zero\n",
      "2023-03-15 10:39:24.050222: I tensorflow/core/common_runtime/gpu/gpu_device.cc:1862] Adding visible gpu devices: 0\n",
      "2023-03-15 10:39:24.050271: I tensorflow/stream_executor/platform/default/dso_loader.cc:49] Successfully opened dynamic library libcudart.so.10.1\n",
      "2023-03-15 10:39:25.039229: I tensorflow/core/common_runtime/gpu/gpu_device.cc:1261] Device interconnect StreamExecutor with strength 1 edge matrix:\n",
      "2023-03-15 10:39:25.039260: I tensorflow/core/common_runtime/gpu/gpu_device.cc:1267]      0 \n",
      "2023-03-15 10:39:25.039268: I tensorflow/core/common_runtime/gpu/gpu_device.cc:1280] 0:   N \n",
      "2023-03-15 10:39:25.039600: I tensorflow/stream_executor/cuda/cuda_gpu_executor.cc:941] successful NUMA node read from SysFS had negative value (-1), but there must be at least one NUMA node, so returning NUMA node zero\n",
      "2023-03-15 10:39:25.041649: I tensorflow/stream_executor/cuda/cuda_gpu_executor.cc:941] successful NUMA node read from SysFS had negative value (-1), but there must be at least one NUMA node, so returning NUMA node zero\n",
      "2023-03-15 10:39:25.043336: I tensorflow/stream_executor/cuda/cuda_gpu_executor.cc:941] successful NUMA node read from SysFS had negative value (-1), but there must be at least one NUMA node, so returning NUMA node zero\n",
      "2023-03-15 10:39:25.044893: I tensorflow/core/common_runtime/gpu/gpu_device.cc:1406] Created TensorFlow device (/job:localhost/replica:0/task:0/device:GPU:0 with 13735 MB memory) -> physical GPU (device: 0, name: Tesla T4, pci bus id: 0000:00:04.0, compute capability: 7.5)\n"
     ]
    }
   ],
   "source": [
    "#in case kernel died or need to upload the model\n",
    "sim_model = load_model(f'./model_life_exp_binary_seg_nii_3dUnet/')"
   ]
  },
  {
   "cell_type": "code",
   "execution_count": 10,
   "metadata": {},
   "outputs": [],
   "source": [
    "#plot the learning curve\n",
    "def plot_loss(history):\n",
    "    fig, (ax1, ax2) = plt.subplots(1,2, figsize=(13,4))\n",
    "    ax1.plot(history.history['loss'])\n",
    "    ax1.plot(history.history['val_loss'])\n",
    "    ax1.set_title('Model loss')\n",
    "    ax1.set_ylabel('Loss')\n",
    "    ax1.set_xlabel('Epoch')\n",
    "    ax1.set_ylim(ymin=0, ymax=1)\n",
    "    ax1.legend(['Train', 'Validation'], loc='best')\n",
    "    ax1.grid(axis=\"x\",linewidth=0.2)\n",
    "    ax1.grid(axis=\"y\",linewidth=0.2)    \n",
    "    \n",
    "    ax2.plot(history.history['accuracy'])\n",
    "    ax2.plot(history.history['val_accuracy'])\n",
    "    ax2.set_title('Accuracy')\n",
    "    ax2.set_ylabel('Accuracy')\n",
    "    ax2.set_xlabel('Epoch')\n",
    "    ax2.set_ylim(ymin=0, ymax=1)\n",
    "    ax2.legend(['Train', 'Validation'], loc='best')\n",
    "    ax2.grid(axis=\"x\",linewidth=0.2)\n",
    "    ax2.grid(axis=\"y\",linewidth=0.2)    \n",
    "\n",
    "    plt.show()    "
   ]
  },
  {
   "cell_type": "code",
   "execution_count": 11,
   "metadata": {},
   "outputs": [
    {
     "data": {
      "image/png": "[encoded data removed]",
      "text/plain": [
       "<Figure size 1300x400 with 2 Axes>"
      ]
     },
     "metadata": {},
     "output_type": "display_data"
    }
   ],
   "source": [
    "plot_loss(history)"
   ]
  },
  {
   "cell_type": "code",
   "execution_count": 14,
   "metadata": {},
   "outputs": [
    {
     "ename": "",
     "evalue": "",
     "output_type": "error",
     "traceback": [
      "\u001b[1;31mCanceled future for execute_request message before replies were done"
     ]
    },
    {
     "ename": "",
     "evalue": "",
     "output_type": "error",
     "traceback": [
      "\u001b[1;31mThe Kernel crashed while executing code in the the current cell or a previous cell. Please review the code in the cell(s) to identify a possible cause of the failure. Click <a href='https://aka.ms/vscodeJupyterKernelCrash'>here</a> for more info. View Jupyter <a href='command:jupyter.viewOutput'>log</a> for further details."
     ]
    }
   ],
   "source": [
    "# predictions = (sim_model.predict(X_test) > 0.5).astype(\"int32\")\n",
    "# predictions = pd.DataFrame(predictions)\n",
    "\n",
    "# from sklearn.metrics import classification_report\n",
    "\n",
    "# target_names = ['class 0', 'class 1', 'class 2]\n",
    "# print(classification_report(y_test, predictions, target_names=target_names))"
   ]
  },
  {
   "cell_type": "code",
   "execution_count": 12,
   "metadata": {},
   "outputs": [
    {
     "data": {
      "text/plain": [
       "(48, 190, 190, 128, 1)"
      ]
     },
     "execution_count": 12,
     "metadata": {},
     "output_type": "execute_result"
    }
   ],
   "source": [
    "X_test.shape"
   ]
  },
  {
   "cell_type": "code",
   "execution_count": 13,
   "metadata": {},
   "outputs": [
    {
     "data": {
      "text/plain": [
       "(48,)"
      ]
     },
     "execution_count": 13,
     "metadata": {},
     "output_type": "execute_result"
    }
   ],
   "source": [
    "y_test.shape"
   ]
  },
  {
   "cell_type": "code",
   "execution_count": 16,
   "metadata": {},
   "outputs": [],
   "source": [
    "X_test_small = X_test[:5,:,:,:]\n",
    "y_test_small = y_test[:5]"
   ]
  },
  {
   "cell_type": "code",
   "execution_count": 17,
   "metadata": {},
   "outputs": [],
   "source": [
    "predictions = sim_model.predict(X_test_small)\n"
   ]
  },
  {
   "cell_type": "code",
   "execution_count": 18,
   "metadata": {},
   "outputs": [
    {
     "data": {
      "text/plain": [
       "(5, 1)"
      ]
     },
     "execution_count": 18,
     "metadata": {},
     "output_type": "execute_result"
    }
   ],
   "source": [
    "predictions.shape"
   ]
  },
  {
   "cell_type": "code",
   "execution_count": 19,
   "metadata": {},
   "outputs": [
    {
     "data": {
      "text/plain": [
       "array([[1.6064037e-02],\n",
       "       [2.9425246e-03],\n",
       "       [6.1563319e-01],\n",
       "       [4.5544009e-08],\n",
       "       [3.4500004e-03]], dtype=float32)"
      ]
     },
     "execution_count": 19,
     "metadata": {},
     "output_type": "execute_result"
    }
   ],
   "source": [
    "predictions"
   ]
  },
  {
   "cell_type": "code",
   "execution_count": 21,
   "metadata": {},
   "outputs": [
    {
     "data": {
      "text/plain": [
       "memmap([0, 0, 0, 0, 1])"
      ]
     },
     "execution_count": 21,
     "metadata": {},
     "output_type": "execute_result"
    }
   ],
   "source": [
    "y_test_small"
   ]
  },
  {
   "cell_type": "code",
   "execution_count": 24,
   "metadata": {},
   "outputs": [
    {
     "name": "stdout",
     "output_type": "stream",
     "text": [
      "              precision    recall  f1-score   support\n",
      "\n",
      "     class 0       0.75      0.75      0.75         4\n",
      "     class 1       0.00      0.00      0.00         1\n",
      "\n",
      "    accuracy                           0.60         5\n",
      "   macro avg       0.38      0.38      0.38         5\n",
      "weighted avg       0.60      0.60      0.60         5\n",
      "\n"
     ]
    }
   ],
   "source": [
    "predictions = (sim_model.predict(X_test_small) > 0.5).astype(\"int32\")\n",
    "predictions = pd.DataFrame(predictions)\n",
    "\n",
    "from sklearn.metrics import classification_report\n",
    "\n",
    "target_names = ['class 0', 'class 1']\n",
    "print(classification_report(y_test_small, predictions, target_names=target_names))"
   ]
  },
  {
   "cell_type": "code",
   "execution_count": 25,
   "metadata": {},
   "outputs": [
    {
     "name": "stdout",
     "output_type": "stream",
     "text": [
      "              precision    recall  f1-score   support\n",
      "\n",
      "     class 0       0.75      0.75      0.75         4\n",
      "     class 1       0.00      0.00      0.00         1\n",
      "\n",
      "    accuracy                           0.60         5\n",
      "   macro avg       0.38      0.38      0.38         5\n",
      "weighted avg       0.60      0.60      0.60         5\n",
      "\n",
      "              precision    recall  f1-score   support\n",
      "\n",
      "     class 0       0.67      1.00      0.80         2\n",
      "     class 1       1.00      0.67      0.80         3\n",
      "\n",
      "    accuracy                           0.80         5\n",
      "   macro avg       0.83      0.83      0.80         5\n",
      "weighted avg       0.87      0.80      0.80         5\n",
      "\n"
     ]
    },
    {
     "name": "stderr",
     "output_type": "stream",
     "text": [
      "/home/svetlana.s.averina/miniconda3/envs/gpu-venv/lib/python3.9/site-packages/sklearn/metrics/_classification.py:1344: UndefinedMetricWarning: Precision and F-score are ill-defined and being set to 0.0 in labels with no predicted samples. Use `zero_division` parameter to control this behavior.\n",
      "  _warn_prf(average, modifier, msg_start, len(result))\n",
      "/home/svetlana.s.averina/miniconda3/envs/gpu-venv/lib/python3.9/site-packages/sklearn/metrics/_classification.py:1344: UndefinedMetricWarning: Precision and F-score are ill-defined and being set to 0.0 in labels with no predicted samples. Use `zero_division` parameter to control this behavior.\n",
      "  _warn_prf(average, modifier, msg_start, len(result))\n",
      "/home/svetlana.s.averina/miniconda3/envs/gpu-venv/lib/python3.9/site-packages/sklearn/metrics/_classification.py:1344: UndefinedMetricWarning: Precision and F-score are ill-defined and being set to 0.0 in labels with no predicted samples. Use `zero_division` parameter to control this behavior.\n",
      "  _warn_prf(average, modifier, msg_start, len(result))\n"
     ]
    },
    {
     "name": "stdout",
     "output_type": "stream",
     "text": [
      "              precision    recall  f1-score   support\n",
      "\n",
      "     class 0       0.40      1.00      0.57         2\n",
      "     class 1       0.00      0.00      0.00         3\n",
      "\n",
      "    accuracy                           0.40         5\n",
      "   macro avg       0.20      0.50      0.29         5\n",
      "weighted avg       0.16      0.40      0.23         5\n",
      "\n"
     ]
    },
    {
     "name": "stderr",
     "output_type": "stream",
     "text": [
      "/home/svetlana.s.averina/miniconda3/envs/gpu-venv/lib/python3.9/site-packages/sklearn/metrics/_classification.py:1344: UndefinedMetricWarning: Precision and F-score are ill-defined and being set to 0.0 in labels with no predicted samples. Use `zero_division` parameter to control this behavior.\n",
      "  _warn_prf(average, modifier, msg_start, len(result))\n",
      "/home/svetlana.s.averina/miniconda3/envs/gpu-venv/lib/python3.9/site-packages/sklearn/metrics/_classification.py:1344: UndefinedMetricWarning: Precision and F-score are ill-defined and being set to 0.0 in labels with no predicted samples. Use `zero_division` parameter to control this behavior.\n",
      "  _warn_prf(average, modifier, msg_start, len(result))\n",
      "/home/svetlana.s.averina/miniconda3/envs/gpu-venv/lib/python3.9/site-packages/sklearn/metrics/_classification.py:1344: UndefinedMetricWarning: Precision and F-score are ill-defined and being set to 0.0 in labels with no predicted samples. Use `zero_division` parameter to control this behavior.\n",
      "  _warn_prf(average, modifier, msg_start, len(result))\n"
     ]
    },
    {
     "name": "stdout",
     "output_type": "stream",
     "text": [
      "              precision    recall  f1-score   support\n",
      "\n",
      "     class 0       0.60      1.00      0.75         3\n",
      "     class 1       0.00      0.00      0.00         2\n",
      "\n",
      "    accuracy                           0.60         5\n",
      "   macro avg       0.30      0.50      0.37         5\n",
      "weighted avg       0.36      0.60      0.45         5\n",
      "\n",
      "              precision    recall  f1-score   support\n",
      "\n",
      "     class 0       0.33      1.00      0.50         1\n",
      "     class 1       1.00      0.50      0.67         4\n",
      "\n",
      "    accuracy                           0.60         5\n",
      "   macro avg       0.67      0.75      0.58         5\n",
      "weighted avg       0.87      0.60      0.63         5\n",
      "\n"
     ]
    },
    {
     "name": "stderr",
     "output_type": "stream",
     "text": [
      "/home/svetlana.s.averina/miniconda3/envs/gpu-venv/lib/python3.9/site-packages/sklearn/metrics/_classification.py:1344: UndefinedMetricWarning: Recall and F-score are ill-defined and being set to 0.0 in labels with no true samples. Use `zero_division` parameter to control this behavior.\n",
      "  _warn_prf(average, modifier, msg_start, len(result))\n",
      "/home/svetlana.s.averina/miniconda3/envs/gpu-venv/lib/python3.9/site-packages/sklearn/metrics/_classification.py:1344: UndefinedMetricWarning: Recall and F-score are ill-defined and being set to 0.0 in labels with no true samples. Use `zero_division` parameter to control this behavior.\n",
      "  _warn_prf(average, modifier, msg_start, len(result))\n",
      "/home/svetlana.s.averina/miniconda3/envs/gpu-venv/lib/python3.9/site-packages/sklearn/metrics/_classification.py:1344: UndefinedMetricWarning: Recall and F-score are ill-defined and being set to 0.0 in labels with no true samples. Use `zero_division` parameter to control this behavior.\n",
      "  _warn_prf(average, modifier, msg_start, len(result))\n"
     ]
    },
    {
     "name": "stdout",
     "output_type": "stream",
     "text": [
      "              precision    recall  f1-score   support\n",
      "\n",
      "     class 0       0.00      0.00      0.00         0\n",
      "     class 1       1.00      0.20      0.33         5\n",
      "\n",
      "    accuracy                           0.20         5\n",
      "   macro avg       0.50      0.10      0.17         5\n",
      "weighted avg       1.00      0.20      0.33         5\n",
      "\n",
      "              precision    recall  f1-score   support\n",
      "\n",
      "     class 0       0.67      0.67      0.67         3\n",
      "     class 1       0.50      0.50      0.50         2\n",
      "\n",
      "    accuracy                           0.60         5\n",
      "   macro avg       0.58      0.58      0.58         5\n",
      "weighted avg       0.60      0.60      0.60         5\n",
      "\n",
      "              precision    recall  f1-score   support\n",
      "\n",
      "     class 0       0.00      0.00      0.00         2\n",
      "     class 1       0.33      0.33      0.33         3\n",
      "\n",
      "    accuracy                           0.20         5\n",
      "   macro avg       0.17      0.17      0.17         5\n",
      "weighted avg       0.20      0.20      0.20         5\n",
      "\n",
      "              precision    recall  f1-score   support\n",
      "\n",
      "     class 0       0.75      0.75      0.75         4\n",
      "     class 1       0.00      0.00      0.00         1\n",
      "\n",
      "    accuracy                           0.60         5\n",
      "   macro avg       0.38      0.38      0.38         5\n",
      "weighted avg       0.60      0.60      0.60         5\n",
      "\n",
      "              precision    recall  f1-score   support\n",
      "\n",
      "     class 0       1.00      0.67      0.80         3\n",
      "     class 1       0.00      0.00      0.00         0\n",
      "\n",
      "    accuracy                           0.67         3\n",
      "   macro avg       0.50      0.33      0.40         3\n",
      "weighted avg       1.00      0.67      0.80         3\n",
      "\n"
     ]
    },
    {
     "name": "stderr",
     "output_type": "stream",
     "text": [
      "/home/svetlana.s.averina/miniconda3/envs/gpu-venv/lib/python3.9/site-packages/sklearn/metrics/_classification.py:1344: UndefinedMetricWarning: Recall and F-score are ill-defined and being set to 0.0 in labels with no true samples. Use `zero_division` parameter to control this behavior.\n",
      "  _warn_prf(average, modifier, msg_start, len(result))\n",
      "/home/svetlana.s.averina/miniconda3/envs/gpu-venv/lib/python3.9/site-packages/sklearn/metrics/_classification.py:1344: UndefinedMetricWarning: Recall and F-score are ill-defined and being set to 0.0 in labels with no true samples. Use `zero_division` parameter to control this behavior.\n",
      "  _warn_prf(average, modifier, msg_start, len(result))\n",
      "/home/svetlana.s.averina/miniconda3/envs/gpu-venv/lib/python3.9/site-packages/sklearn/metrics/_classification.py:1344: UndefinedMetricWarning: Recall and F-score are ill-defined and being set to 0.0 in labels with no true samples. Use `zero_division` parameter to control this behavior.\n",
      "  _warn_prf(average, modifier, msg_start, len(result))\n"
     ]
    }
   ],
   "source": [
    "split_start = 0\n",
    "split_size = 5\n",
    "split_end = split_start + split_size\n",
    "predictions_raw = []\n",
    "predictins_filtered = []\n",
    "\n",
    "target_names = ['class 0', 'class 1']\n",
    "PREDICTION_THRESHOLD = 0.5\n",
    "for _ in range(0, X_test.shape[0], split_size):\n",
    "\n",
    "    X_test_split = X_test[split_start:split_end,:,:,:]\n",
    "    y_test_split = y_test[split_start:split_end]\n",
    "    predictions_raw.extend(sim_model.predict(X_test_split).flatten().tolist())\n",
    "    predictions = (sim_model.predict(X_test_split) > PREDICTION_THRESHOLD).astype(\"int32\")\n",
    "    predictins_filtered.extend(predictions.flatten().tolist())\n",
    "    predictions = pd.DataFrame(predictions)\n",
    "    \n",
    "    split_start+=5\n",
    "    split_end+=5\n",
    "    \n",
    "    try:\n",
    "        print(classification_report(y_test_split, predictions, target_names=target_names))\n",
    "    except:\n",
    "        pass"
   ]
  },
  {
   "cell_type": "code",
   "execution_count": 26,
   "metadata": {},
   "outputs": [],
   "source": [
    "results_pred = pd.DataFrame(\n",
    "    {'predictions': predictins_filtered,\n",
    "     'true_data': y_test.flatten().tolist()\n",
    "    })"
   ]
  },
  {
   "cell_type": "code",
   "execution_count": 27,
   "metadata": {},
   "outputs": [
    {
     "data": {
      "image/png": "[encoded data removed]",
      "text/plain": [
       "<Figure size 640x480 with 2 Axes>"
      ]
     },
     "metadata": {},
     "output_type": "display_data"
    }
   ],
   "source": [
    "import matplotlib.pyplot as plt\n",
    "import numpy\n",
    "from sklearn import metrics\n",
    "\n",
    "confusion_matrix = metrics.confusion_matrix(results_pred['true_data'], results_pred['predictions'])\n",
    "\n",
    "cm_display = metrics.ConfusionMatrixDisplay(confusion_matrix = confusion_matrix, display_labels = [False, True])\n",
    "\n",
    "cm_display.plot()\n",
    "plt.show()"
   ]
  }
 ],
 "metadata": {
  "kernelspec": {
   "display_name": "Python 3",
   "language": "python",
   "name": "python3"
  },
  "language_info": {
   "codemirror_mode": {
    "name": "ipython",
    "version": 3
   },
   "file_extension": ".py",
   "mimetype": "text/x-python",
   "name": "python",
   "nbconvert_exporter": "python",
   "pygments_lexer": "ipython3",
   "version": "3.9.16"
  },
  "orig_nbformat": 4
 },
 "nbformat": 4,
 "nbformat_minor": 2
}
