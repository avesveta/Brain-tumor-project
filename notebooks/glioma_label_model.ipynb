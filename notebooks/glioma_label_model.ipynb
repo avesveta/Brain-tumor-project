{
 "cells": [
  {
   "attachments": {},
   "cell_type": "markdown",
   "metadata": {},
   "source": [
    "# Developing a model architecture for glioma classification"
   ]
  },
  {
   "attachments": {},
   "cell_type": "markdown",
   "metadata": {},
   "source": [
    "## Packages to use"
   ]
  },
  {
   "cell_type": "code",
   "execution_count": 1,
   "metadata": {},
   "outputs": [
    {
     "name": "stderr",
     "output_type": "stream",
     "text": [
      "2023-03-10 14:42:16.105149: I tensorflow/core/platform/cpu_feature_guard.cc:193] This TensorFlow binary is optimized with oneAPI Deep Neural Network Library (oneDNN) to use the following CPU instructions in performance-critical operations:  AVX2 AVX512F AVX512_VNNI FMA\n",
      "To enable them in other operations, rebuild TensorFlow with the appropriate compiler flags.\n",
      "2023-03-10 14:42:16.233520: I tensorflow/core/util/port.cc:104] oneDNN custom operations are on. You may see slightly different numerical results due to floating-point round-off errors from different computation orders. To turn them off, set the environment variable `TF_ENABLE_ONEDNN_OPTS=0`.\n",
      "2023-03-10 14:42:16.238232: W tensorflow/compiler/xla/stream_executor/platform/default/dso_loader.cc:64] Could not load dynamic library 'libcudart.so.11.0'; dlerror: libcudart.so.11.0: cannot open shared object file: No such file or directory\n",
      "2023-03-10 14:42:16.238247: I tensorflow/compiler/xla/stream_executor/cuda/cudart_stub.cc:29] Ignore above cudart dlerror if you do not have a GPU set up on your machine.\n",
      "2023-03-10 14:42:16.978255: W tensorflow/compiler/xla/stream_executor/platform/default/dso_loader.cc:64] Could not load dynamic library 'libnvinfer.so.7'; dlerror: libnvinfer.so.7: cannot open shared object file: No such file or directory\n",
      "2023-03-10 14:42:16.978320: W tensorflow/compiler/xla/stream_executor/platform/default/dso_loader.cc:64] Could not load dynamic library 'libnvinfer_plugin.so.7'; dlerror: libnvinfer_plugin.so.7: cannot open shared object file: No such file or directory\n",
      "2023-03-10 14:42:16.978327: W tensorflow/compiler/tf2tensorrt/utils/py_utils.cc:38] TF-TRT Warning: Cannot dlopen some TensorRT libraries. If you would like to use Nvidia GPU with TensorRT, please make sure the missing libraries mentioned above are installed properly.\n"
     ]
    }
   ],
   "source": [
    "## Imports go here\n",
    "import pandas as pd\n",
    "import numpy as np\n",
    "import matplotlib.pyplot as plt\n",
    "%matplotlib inline\n",
    "from tensorflow.keras.layers import Conv3D, MaxPooling3D, Flatten, Dense, Dropout\n",
    "from tensorflow.keras.models import Sequential\n",
    "from tensorflow.keras.callbacks import EarlyStopping\n",
    "from tensorflow.keras.optimizers import Adam\n",
    "from tensorflow.keras.wrappers.scikit_learn import KerasClassifier\n",
    "from sklearn.pipeline import Pipeline\n",
    "from sklearn.model_selection import GridSearchCV\n",
    "import nibabel as nib\n",
    "import scikeras\n",
    "\n",
    "from sklearn.model_selection import train_test_split\n",
    "\n",
    "import tensorflow as tf\n",
    "from imblearn.over_sampling import RandomOverSampler\n",
    "from sklearn.metrics import classification_report"
   ]
  },
  {
   "attachments": {},
   "cell_type": "markdown",
   "metadata": {},
   "source": [
    "## Working with data"
   ]
  },
  {
   "cell_type": "code",
   "execution_count": 2,
   "metadata": {},
   "outputs": [],
   "source": [
    "#load the dataframe\n",
    "df = pd.read_pickle(\"../raw_data/Grade_ID_nii.pkl\")\n",
    "\n",
    "# the target columns have to be updated, it's only the fremework\n",
    "df['Grade'] = df['Grade'].apply(lambda x: 0 if x == 'HGG' else 1)\n",
    "\n",
    "# cut the image to smaller to match the location of brain\n",
    "df['nii']= df['nii'].apply(lambda x: np.array(x[40:195,35:225,1:145]))\n",
    "\n",
    "# split the Train and test\n",
    "X_train, X_test, y_train, y_test = train_test_split(df['nii'], df['Grade'], test_size=0.2, random_state=42)\n"
   ]
  },
  {
   "cell_type": "code",
   "execution_count": 3,
   "metadata": {},
   "outputs": [
    {
     "data": {
      "text/plain": [
       "(460, 155, 190, 144, 1)"
      ]
     },
     "execution_count": 3,
     "metadata": {},
     "output_type": "execute_result"
    }
   ],
   "source": [
    "# banlance the X_train\n",
    "over_sampler = RandomOverSampler(random_state=42)\n",
    "X_res, y_res = over_sampler.fit_resample(pd.DataFrame(X_train), y_train)\n",
    "# change the X_train to match the input of tensorfolw\n",
    "X_res = X_res['nii']\n",
    "X_res = np.array([np.array(val) for val in X_res])\n",
    "X_res = X_res.reshape(len(X_res), 155, 190, 144, 1)\n",
    "X_res.shape"
   ]
  },
  {
   "attachments": {},
   "cell_type": "markdown",
   "metadata": {},
   "source": [
    "## Model architecture - CNN"
   ]
  },
  {
   "cell_type": "code",
   "execution_count": 4,
   "metadata": {},
   "outputs": [],
   "source": [
    "input_shape = (155, 190, 144, 1)\n",
    "#around 295 observations"
   ]
  },
  {
   "cell_type": "code",
   "execution_count": 5,
   "metadata": {},
   "outputs": [],
   "source": [
    "#we need 1 kernel as we have 1 label for segmentation, kernel size = 3x3x3?\n",
    "\n",
    "#initialize model\n",
    "def initialize_model(dropout = 0.5, dense_1 = 50, \\\n",
    "    learning_rate = 0.1, kernel_size=(8,8,8), pool_size = (2,2,2)):\n",
    "    model = Sequential()\n",
    "    \n",
    "    #Add convo layers to the model\n",
    "    model.add(Conv3D(16, kernel_size=kernel_size, activation='relu', input_shape=input_shape))\n",
    "    # model.add(MaxPooling3D(pool_size=pool_size))\n",
    "    # model.add(Conv3D(64, kernel_size=kernel_size, activation='relu'))\n",
    "    # model.add(MaxPooling3D(pool_size=pool_size))\n",
    "    # model.add(Conv3D(128, kernel_size=kernel_size, activation='relu'))\n",
    "    # model.add(MaxPooling3D(pool_size=pool_size))\n",
    "    \n",
    "    #Add a flatten layer\n",
    "    model.add(Flatten())\n",
    "    \n",
    "    #maybe add age here for the second model\n",
    "     \n",
    "    #Add dense levels\n",
    "    # model.add(Dense(dense_1, activation='relu'))\n",
    "    # model.add(Dropout(dropout))\n",
    "\n",
    "    \n",
    "    #Add layer with activation\n",
    "    model.add(Dense(16, activation='relu'))\n",
    "    model.add(Dense(1, activation='sigmoid'))\n",
    "    \n",
    "    #Model compilation\n",
    "    optim=Adam(learning_rate=learning_rate)\n",
    "    model.compile(loss = 'binary_crossentropy',\n",
    "                  optimizer = optim,\n",
    "                  metrics = ['accuracy'])\n",
    "    return model\n"
   ]
  },
  {
   "cell_type": "code",
   "execution_count": 6,
   "metadata": {},
   "outputs": [
    {
     "name": "stderr",
     "output_type": "stream",
     "text": [
      "2023-03-10 14:42:42.224208: W tensorflow/compiler/xla/stream_executor/platform/default/dso_loader.cc:64] Could not load dynamic library 'libcuda.so.1'; dlerror: libcuda.so.1: cannot open shared object file: No such file or directory\n",
      "2023-03-10 14:42:42.224229: W tensorflow/compiler/xla/stream_executor/cuda/cuda_driver.cc:265] failed call to cuInit: UNKNOWN ERROR (303)\n",
      "2023-03-10 14:42:42.224246: I tensorflow/compiler/xla/stream_executor/cuda/cuda_diagnostics.cc:156] kernel driver does not appear to be running on this host (brain-project-cpu): /proc/driver/nvidia/version does not exist\n",
      "2023-03-10 14:42:42.224527: I tensorflow/core/platform/cpu_feature_guard.cc:193] This TensorFlow binary is optimized with oneAPI Deep Neural Network Library (oneDNN) to use the following CPU instructions in performance-critical operations:  AVX2 AVX512F AVX512_VNNI FMA\n",
      "To enable them in other operations, rebuild TensorFlow with the appropriate compiler flags.\n"
     ]
    },
    {
     "name": "stdout",
     "output_type": "stream",
     "text": [
      "Model: \"sequential\"\n",
      "_________________________________________________________________\n",
      " Layer (type)                Output Shape              Param #   \n",
      "=================================================================\n",
      " conv3d (Conv3D)             (None, 148, 183, 137, 16  8208      \n",
      "                             )                                   \n",
      "                                                                 \n",
      " flatten (Flatten)           (None, 59368128)          0         \n",
      "                                                                 \n",
      " dense (Dense)               (None, 16)                949890064 \n",
      "                                                                 \n",
      " dense_1 (Dense)             (None, 1)                 17        \n",
      "                                                                 \n",
      "=================================================================\n",
      "Total params: 949,898,289\n",
      "Trainable params: 949,898,289\n",
      "Non-trainable params: 0\n",
      "_________________________________________________________________\n"
     ]
    }
   ],
   "source": [
    "#instantiate a model\n",
    "model_seg = initialize_model()\n",
    "model_seg.summary()"
   ]
  },
  {
   "cell_type": "code",
   "execution_count": null,
   "metadata": {},
   "outputs": [],
   "source": [
    "# with using GPU if you have one\n",
    "with tf.device('/device:gpu:1'):\n",
    "    # Do something"
   ]
  },
  {
   "cell_type": "code",
   "execution_count": 7,
   "metadata": {},
   "outputs": [
    {
     "name": "stdout",
     "output_type": "stream",
     "text": [
      "Epoch 1/12\n",
      "12/12 [==============================] - 91s 7s/step - loss: 108005.4688 - accuracy: 0.6332 - val_loss: 50.6157 - val_accuracy: 0.6196\n",
      "Epoch 2/12\n",
      "12/12 [==============================] - 83s 7s/step - loss: 5.0358 - accuracy: 0.7391 - val_loss: 0.5473 - val_accuracy: 0.5217\n",
      "Epoch 3/12\n",
      "12/12 [==============================] - 82s 7s/step - loss: 0.3197 - accuracy: 0.8342 - val_loss: 0.3188 - val_accuracy: 0.7065\n",
      "Epoch 4/12\n",
      "12/12 [==============================] - 82s 7s/step - loss: 0.1425 - accuracy: 0.8913 - val_loss: 0.2229 - val_accuracy: 0.7826\n",
      "Epoch 5/12\n",
      "12/12 [==============================] - 81s 7s/step - loss: 0.0988 - accuracy: 0.9293 - val_loss: 0.4418 - val_accuracy: 0.8478\n",
      "Epoch 6/12\n",
      "12/12 [==============================] - 83s 7s/step - loss: 0.0947 - accuracy: 0.9266 - val_loss: 0.0670 - val_accuracy: 0.9348\n",
      "Epoch 7/12\n",
      "12/12 [==============================] - 82s 7s/step - loss: 0.0549 - accuracy: 0.9701 - val_loss: 0.0534 - val_accuracy: 1.0000\n",
      "Epoch 8/12\n",
      "12/12 [==============================] - 83s 7s/step - loss: 0.0437 - accuracy: 0.9810 - val_loss: 0.0456 - val_accuracy: 1.0000\n",
      "Epoch 9/12\n",
      "12/12 [==============================] - 82s 7s/step - loss: 0.0404 - accuracy: 0.9837 - val_loss: 0.0410 - val_accuracy: 1.0000\n",
      "Epoch 10/12\n",
      "12/12 [==============================] - 83s 7s/step - loss: 0.0360 - accuracy: 0.9864 - val_loss: 0.0370 - val_accuracy: 1.0000\n",
      "Epoch 11/12\n",
      "12/12 [==============================] - 82s 7s/step - loss: 0.0314 - accuracy: 0.9891 - val_loss: 0.0336 - val_accuracy: 1.0000\n",
      "Epoch 12/12\n",
      "12/12 [==============================] - 82s 7s/step - loss: 0.0303 - accuracy: 0.9891 - val_loss: 0.0309 - val_accuracy: 1.0000\n"
     ]
    }
   ],
   "source": [
    "#baseline model score\n",
    "\n",
    "es = EarlyStopping(patience=3, restore_best_weights = True)\n",
    "history = model_seg.fit(X_res, y_res,\n",
    "                        epochs = 12,\n",
    "                        batch_size = 32,\n",
    "                        callbacks = [es],\n",
    "                        validation_split = 0.2,\n",
    "                        shuffle =True,\n",
    "                        verbose = 1 \n",
    "                        )"
   ]
  },
  {
   "cell_type": "code",
   "execution_count": 8,
   "metadata": {},
   "outputs": [],
   "source": [
    "#plot the learning curve\n",
    "def plot_loss(history):\n",
    "    fig, (ax1, ax2) = plt.subplots(1,2, figsize=(13,4))\n",
    "    ax1.plot(history.history['loss'])\n",
    "    ax1.plot(history.history['val_loss'])\n",
    "    ax1.set_title('Model loss')\n",
    "    ax1.set_ylabel('Loss')\n",
    "    ax1.set_xlabel('Epoch')\n",
    "    ax1.set_ylim(ymin=0, ymax=1)\n",
    "    ax1.legend(['Train', 'Validation'], loc='best')\n",
    "    ax1.grid(axis=\"x\",linewidth=0.5)\n",
    "    ax1.grid(axis=\"y\",linewidth=0.5)    \n",
    "    \n",
    "    ax2.plot(history.history['accuracy'])\n",
    "    ax2.plot(history.history['val_accuracy'])\n",
    "    ax2.set_title('Accuracy')\n",
    "    ax2.set_ylabel('Accuracy')\n",
    "    ax2.set_xlabel('Epoch')\n",
    "    ax2.set_ylim(ymin=0, ymax=1)\n",
    "    ax2.legend(['Train', 'Validation'], loc='best')\n",
    "    ax2.grid(axis=\"x\",linewidth=0.5)\n",
    "    ax2.grid(axis=\"y\",linewidth=0.5)    \n",
    "\n",
    "    plt.show()    "
   ]
  },
  {
   "cell_type": "code",
   "execution_count": 9,
   "metadata": {},
   "outputs": [
    {
     "data": {
      "image/png": "[encoded data removed]",
      "text/plain": [
       "<Figure size 1300x400 with 2 Axes>"
      ]
     },
     "metadata": {},
     "output_type": "display_data"
    }
   ],
   "source": [
    "plot_loss(history)"
   ]
  },
  {
   "cell_type": "code",
   "execution_count": 10,
   "metadata": {},
   "outputs": [
    {
     "data": {
      "text/plain": [
       "(74, 155, 190, 144, 1)"
      ]
     },
     "execution_count": 10,
     "metadata": {},
     "output_type": "execute_result"
    }
   ],
   "source": [
    "X_test = np.array([np.array(val) for val in X_test])\n",
    "X_test = X_test.reshape(len(X_test), 155, 190, 144, 1)\n",
    "X_test.shape"
   ]
  },
  {
   "cell_type": "code",
   "execution_count": 11,
   "metadata": {},
   "outputs": [
    {
     "name": "stdout",
     "output_type": "stream",
     "text": [
      "3/3 [==============================] - 6s 2s/step\n"
     ]
    }
   ],
   "source": [
    "y_pred = model_seg.predict(X_test)"
   ]
  },
  {
   "cell_type": "code",
   "execution_count": 28,
   "metadata": {},
   "outputs": [
    {
     "name": "stdout",
     "output_type": "stream",
     "text": [
      "3/3 [==============================] - 6s 2s/step\n"
     ]
    }
   ],
   "source": [
    "predictions = (model_seg.predict(X_test) > 0.5).astype(\"int32\")"
   ]
  },
  {
   "cell_type": "code",
   "execution_count": 30,
   "metadata": {},
   "outputs": [
    {
     "data": {
      "text/plain": [
       "(74, 1)"
      ]
     },
     "execution_count": 30,
     "metadata": {},
     "output_type": "execute_result"
    }
   ],
   "source": [
    "predictions.shape"
   ]
  },
  {
   "cell_type": "code",
   "execution_count": 34,
   "metadata": {},
   "outputs": [
    {
     "data": {
      "text/plain": [
       "0    63\n",
       "1    11\n",
       "Name: Grade, dtype: int64"
      ]
     },
     "execution_count": 34,
     "metadata": {},
     "output_type": "execute_result"
    },
    {
     "ename": "",
     "evalue": "",
     "output_type": "error",
     "traceback": [
      "\u001b[1;31mThe Kernel crashed while executing code in the the current cell or a previous cell. Please review the code in the cell(s) to identify a possible cause of the failure. Click <a href='https://aka.ms/vscodeJupyterKernelCrash'>here</a> for more info. View Jupyter <a href='command:jupyter.viewOutput'>log</a> for further details."
     ]
    }
   ],
   "source": [
    "y_pred.shape\n",
    "y_test.value_counts()"
   ]
  },
  {
   "cell_type": "code",
   "execution_count": 12,
   "metadata": {},
   "outputs": [
    {
     "name": "stdout",
     "output_type": "stream",
     "text": [
      "3/3 [==============================] - 6s 2s/step - loss: 2.0148 - accuracy: 0.7162\n"
     ]
    },
    {
     "data": {
      "text/plain": [
       "[2.014842987060547, 0.7162162065505981]"
      ]
     },
     "execution_count": 12,
     "metadata": {},
     "output_type": "execute_result"
    }
   ],
   "source": [
    "model_seg.evaluate(X_test, y_test)"
   ]
  },
  {
   "cell_type": "code",
   "execution_count": 32,
   "metadata": {},
   "outputs": [
    {
     "data": {
      "text/plain": [
       "0    58\n",
       "1    16\n",
       "dtype: int64"
      ]
     },
     "execution_count": 32,
     "metadata": {},
     "output_type": "execute_result"
    }
   ],
   "source": [
    "predictions=pd.DataFrame(predictions)\n",
    "predictions.value_counts()"
   ]
  },
  {
   "cell_type": "code",
   "execution_count": 33,
   "metadata": {},
   "outputs": [
    {
     "name": "stdout",
     "output_type": "stream",
     "text": [
      "              precision    recall  f1-score   support\n",
      "\n",
      "     class 0       0.86      0.79      0.83        63\n",
      "     class 1       0.19      0.27      0.22        11\n",
      "\n",
      "    accuracy                           0.72        74\n",
      "   macro avg       0.52      0.53      0.52        74\n",
      "weighted avg       0.76      0.72      0.74        74\n",
      "\n"
     ]
    }
   ],
   "source": [
    "from sklearn.metrics import classification_report\n",
    "\n",
    "target_names = ['class 0', 'class 1']\n",
    "print(classification_report(y_test, predictions, target_names=target_names))"
   ]
  },
  {
   "cell_type": "code",
   "execution_count": 36,
   "metadata": {},
   "outputs": [
    {
     "name": "stderr",
     "output_type": "stream",
     "text": [
      "/var/folders/mz/tl4yflb54ks27kzvc57r1qvw0000gn/T/ipykernel_99831/1004603991.py:1: DeprecationWarning: KerasClassifier is deprecated, use Sci-Keras (https://github.com/adriangb/scikeras) instead. See https://www.adriangb.com/scikeras/stable/migration.html for help migrating.\n",
      "  keras_estimator = KerasClassifier(build_fn = initialize_model, verbose = 1)\n"
     ]
    }
   ],
   "source": [
    "keras_estimator = KerasClassifier(build_fn = initialize_model, verbose = 1)"
   ]
  },
  {
   "cell_type": "code",
   "execution_count": 37,
   "metadata": {},
   "outputs": [],
   "source": [
    "estimator = Pipeline([('kc', keras_estimator)])"
   ]
  },
  {
   "cell_type": "code",
   "execution_count": 53,
   "metadata": {},
   "outputs": [
    {
     "data": {
      "text/plain": [
       "{'verbose': 1,\n",
       " 'build_fn': <function __main__.initialize_model(dropout=0.5, dense_1=50, learning_rate=0.01, kernel_size=(3, 3, 3), pool_size=(2, 2, 2))>}"
      ]
     },
     "execution_count": 53,
     "metadata": {},
     "output_type": "execute_result"
    }
   ],
   "source": [
    "keras_estimator"
   ]
  },
  {
   "cell_type": "code",
   "execution_count": 54,
   "metadata": {},
   "outputs": [
    {
     "data": {
      "text/plain": [
       "{'memory': None,\n",
       " 'steps': [('kc',\n",
       "   <keras.wrappers.scikit_learn.KerasClassifier at 0x15feb1bd0>)],\n",
       " 'verbose': False,\n",
       " 'kc': <keras.wrappers.scikit_learn.KerasClassifier at 0x15feb1bd0>,\n",
       " 'kc__verbose': 1,\n",
       " 'kc__build_fn': <function __main__.initialize_model(dropout=0.5, dense_1=50, learning_rate=0.01, kernel_size=(3, 3, 3), pool_size=(2, 2, 2))>}"
      ]
     },
     "execution_count": 54,
     "metadata": {},
     "output_type": "execute_result"
    }
   ],
   "source": [
    "estimator.get_params()#.get(\"kc__verbose\")\n"
   ]
  },
  {
   "cell_type": "code",
   "execution_count": 39,
   "metadata": {},
   "outputs": [],
   "source": [
    "#hyperparameters tuning\n",
    "# Define the hyperparameters\n",
    "param_grid = {\n",
    "    'kc__dense_1': [20, 30, 50, 100],\n",
    "    'kc__kernel_size': [(2,2,2),(3,3,3), (5,5,5), (7,7,7)],\n",
    "    'kc__pool_size': [(2,2,2),(3,3,3)],\n",
    "    'kc__batch_size':[8, 16, 32],\n",
    "    'kc__dropout': [0.5, 0.4, 0.3, 0.2, 0.1, 0],\n",
    "    'kc__learning_rate': [0.001, 0.01, 0.1]\n",
    "}\n"
   ]
  },
  {
   "cell_type": "code",
   "execution_count": 40,
   "metadata": {},
   "outputs": [],
   "source": [
    "kfold_splits = 5\n",
    "grid = GridSearchCV(estimator=estimator,  \n",
    "                    n_jobs=-1, \n",
    "                    verbose=1,\n",
    "                    return_train_score=True,\n",
    "                    cv=kfold_splits,  #StratifiedKFold(n_splits=kfold_splits, shuffle=True)\n",
    "                    param_grid=param_grid,)"
   ]
  },
  {
   "cell_type": "code",
   "execution_count": null,
   "metadata": {},
   "outputs": [],
   "source": [
    "grid_result = grid.fit(X, y) #callbacks=[tbCallBack]\n",
    "\n",
    "# summarize results\n",
    "print(\"Best: %f using %s\" % (grid_result.best_score_, grid_result.best_params_))\n",
    "means = grid_result.cv_results_['mean_test_score']\n",
    "stds = grid_result.cv_results_['std_test_score']\n",
    "params = grid_result.cv_results_['params']\n",
    "for mean, stdev, param in zip(means, stds, params):\n",
    "    print(\"%f (%f) with: %r\" % (mean, stdev, param))"
   ]
  },
  {
   "cell_type": "code",
   "execution_count": null,
   "metadata": {},
   "outputs": [],
   "source": [
    "y_pred = model_seg.predict(X_test)"
   ]
  },
  {
   "cell_type": "code",
   "execution_count": null,
   "metadata": {},
   "outputs": [],
   "source": [
    "#prediction with the final model \n",
    "model_seg.evaluate(X_test, y_test)"
   ]
  },
  {
   "cell_type": "code",
   "execution_count": null,
   "metadata": {},
   "outputs": [],
   "source": []
  },
  {
   "attachments": {},
   "cell_type": "markdown",
   "metadata": {},
   "source": [
    "## Model acrhitecture - UNET"
   ]
  },
  {
   "cell_type": "code",
   "execution_count": null,
   "metadata": {},
   "outputs": [],
   "source": [
    "#maybe we don't need it for now, will check later"
   ]
  },
  {
   "attachments": {},
   "cell_type": "markdown",
   "metadata": {},
   "source": [
    "## Model architecture - 2D CNN"
   ]
  },
  {
   "cell_type": "code",
   "execution_count": null,
   "metadata": {},
   "outputs": [],
   "source": [
    "#maybe we don't need it for now, will check later"
   ]
  }
 ],
 "metadata": {
  "kernelspec": {
   "display_name": "brain-tumor-project",
   "language": "python",
   "name": "python3"
  },
  "language_info": {
   "codemirror_mode": {
    "name": "ipython",
    "version": 3
   },
   "file_extension": ".py",
   "mimetype": "text/x-python",
   "name": "python",
   "nbconvert_exporter": "python",
   "pygments_lexer": "ipython3",
   "version": "3.10.6"
  },
  "orig_nbformat": 4
 },
 "nbformat": 4,
 "nbformat_minor": 2
}
