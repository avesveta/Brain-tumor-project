{
 "cells": [
  {
   "attachments": {},
   "cell_type": "markdown",
   "metadata": {},
   "source": [
    "# Developing a model architecture for glioma classification"
   ]
  },
  {
   "attachments": {},
   "cell_type": "markdown",
   "metadata": {},
   "source": [
    "## Packages to use"
   ]
  },
  {
   "cell_type": "code",
   "execution_count": 21,
   "metadata": {},
   "outputs": [],
   "source": [
    "## Imports go here\n",
    "import pandas as pd\n",
    "import numpy as np\n",
    "import matplotlib.pyplot as plt\n",
    "%matplotlib inline\n",
    "from tensorflow.keras.layers import Conv3D, MaxPooling3D, Flatten, Dense, Dropout\n",
    "from tensorflow.keras.models import Sequential\n",
    "from tensorflow.keras.callbacks import EarlyStopping\n",
    "from tensorflow.keras.optimizers import Adam\n",
    "from tensorflow.keras.wrappers.scikit_learn import KerasClassifier\n",
    "from sklearn.pipeline import Pipeline\n",
    "from sklearn.model_selection import GridSearchCV\n",
    "import nibabel as nib\n",
    "import scikeras"
   ]
  },
  {
   "attachments": {},
   "cell_type": "markdown",
   "metadata": {},
   "source": [
    "## Working with data"
   ]
  },
  {
   "cell_type": "code",
   "execution_count": 22,
   "metadata": {},
   "outputs": [],
   "source": [
    "## empty for now for data import or whatever"
   ]
  },
  {
   "attachments": {},
   "cell_type": "markdown",
   "metadata": {},
   "source": [
    "## Model architecture - CNN"
   ]
  },
  {
   "cell_type": "code",
   "execution_count": 31,
   "metadata": {},
   "outputs": [],
   "source": [
    "input_shape = (240, 240, 155, 1)\n",
    "#around 270 observations"
   ]
  },
  {
   "cell_type": "code",
   "execution_count": 41,
   "metadata": {},
   "outputs": [],
   "source": [
    "#we need 1 kernel as we have 1 label for segmentation, kernel size = 3x3x3?\n",
    "\n",
    "#initialize model\n",
    "def initialize_model(dropout = 0.5, dense_1 = 50, \\\n",
    "    learning_rate = 0.01, kernel_size=(3,3,3), pool_size = (2,2,2)):\n",
    "    model = Sequential()\n",
    "    \n",
    "    #Add convo layers to the model\n",
    "    model.add(Conv3D(32, kernel_size=kernel_size, activation='relu', input_shape=input_shape))\n",
    "    model.add(MaxPooling3D(pool_size=pool_size))\n",
    "    model.add(Conv3D(64, kernel_size=kernel_size, activation='relu'))\n",
    "    model.add(MaxPooling3D(pool_size=pool_size))\n",
    "    model.add(Conv3D(128, kernel_size=kernel_size, activation='relu'))\n",
    "    model.add(MaxPooling3D(pool_size=pool_size))\n",
    "    \n",
    "    #Add a flatten layer\n",
    "    model.add(Flatten())\n",
    "    \n",
    "    #maybe add age here for the second model\n",
    "     \n",
    "    #Add dense levels\n",
    "    model.add(Dense(dense_1, activation='relu'))\n",
    "    model.add(Dropout(dropout))\n",
    "\n",
    "    \n",
    "    #Add layer with activation\n",
    "    model.add(Dense(16, activation='relu'))\n",
    "    model.add(Dense(1, activation='sigmoid'))\n",
    "    \n",
    "    #Model compilation\n",
    "    optim=Adam(learning_rate=learning_rate)\n",
    "    model.compile(loss = 'binary_crossentropy',\n",
    "                  optimizer = optim,\n",
    "                  metrics = ['accuracy'])\n",
    "    return model\n"
   ]
  },
  {
   "cell_type": "code",
   "execution_count": 33,
   "metadata": {},
   "outputs": [
    {
     "name": "stdout",
     "output_type": "stream",
     "text": [
      "Model: \"sequential_2\"\n",
      "_________________________________________________________________\n",
      " Layer (type)                Output Shape              Param #   \n",
      "=================================================================\n",
      " conv3d_6 (Conv3D)           (None, 238, 238, 153, 32  896       \n",
      "                             )                                   \n",
      "                                                                 \n",
      " max_pooling3d_6 (MaxPooling  (None, 119, 119, 76, 32)  0        \n",
      " 3D)                                                             \n",
      "                                                                 \n",
      " conv3d_7 (Conv3D)           (None, 117, 117, 74, 64)  55360     \n",
      "                                                                 \n",
      " max_pooling3d_7 (MaxPooling  (None, 58, 58, 37, 64)   0         \n",
      " 3D)                                                             \n",
      "                                                                 \n",
      " conv3d_8 (Conv3D)           (None, 56, 56, 35, 128)   221312    \n",
      "                                                                 \n",
      " max_pooling3d_8 (MaxPooling  (None, 28, 28, 17, 128)  0         \n",
      " 3D)                                                             \n",
      "                                                                 \n",
      " flatten_2 (Flatten)         (None, 1705984)           0         \n",
      "                                                                 \n",
      " dense_5 (Dense)             (None, 50)                85299250  \n",
      "                                                                 \n",
      " dropout_3 (Dropout)         (None, 50)                0         \n",
      "                                                                 \n",
      " dense_6 (Dense)             (None, 1)                 51        \n",
      "                                                                 \n",
      "=================================================================\n",
      "Total params: 85,576,869\n",
      "Trainable params: 85,576,869\n",
      "Non-trainable params: 0\n",
      "_________________________________________________________________\n"
     ]
    }
   ],
   "source": [
    "#instantiate a model\n",
    "model_seg = initialize_model()\n",
    "model_seg.summary()"
   ]
  },
  {
   "cell_type": "code",
   "execution_count": 26,
   "metadata": {},
   "outputs": [],
   "source": [
    "#better to write it down as a function"
   ]
  },
  {
   "cell_type": "code",
   "execution_count": 34,
   "metadata": {},
   "outputs": [
    {
     "ename": "NameError",
     "evalue": "name 'X_train' is not defined",
     "output_type": "error",
     "traceback": [
      "\u001b[0;31m---------------------------------------------------------------------------\u001b[0m",
      "\u001b[0;31mNameError\u001b[0m                                 Traceback (most recent call last)",
      "Cell \u001b[0;32mIn[34], line 4\u001b[0m\n\u001b[1;32m      1\u001b[0m \u001b[39m#baseline model score\u001b[39;00m\n\u001b[1;32m      3\u001b[0m es \u001b[39m=\u001b[39m EarlyStopping(patience\u001b[39m=\u001b[39m\u001b[39m3\u001b[39m, restore_best_weights \u001b[39m=\u001b[39m \u001b[39mTrue\u001b[39;00m)\n\u001b[0;32m----> 4\u001b[0m history \u001b[39m=\u001b[39m model_seg\u001b[39m.\u001b[39mfit(X_train, y_train,\n\u001b[1;32m      5\u001b[0m                         epochs \u001b[39m=\u001b[39m \u001b[39m30\u001b[39m,\n\u001b[1;32m      6\u001b[0m                         batch_size \u001b[39m=\u001b[39m \u001b[39m16\u001b[39m,\n\u001b[1;32m      7\u001b[0m                         callbacks \u001b[39m=\u001b[39m [es],\n\u001b[1;32m      8\u001b[0m                         validation_split \u001b[39m=\u001b[39m \u001b[39m0.2\u001b[39m,\n\u001b[1;32m      9\u001b[0m                         shuffle \u001b[39m=\u001b[39m\u001b[39mTrue\u001b[39;00m,\n\u001b[1;32m     10\u001b[0m                         verbose \u001b[39m=\u001b[39m \u001b[39m1\u001b[39m)\n",
      "\u001b[0;31mNameError\u001b[0m: name 'X_train' is not defined"
     ]
    }
   ],
   "source": [
    "#baseline model score\n",
    "\n",
    "es = EarlyStopping(patience=3, restore_best_weights = True)\n",
    "history = model_seg.fit(X_train, y_train,\n",
    "                        epochs = 30,\n",
    "                        batch_size = 16,\n",
    "                        callbacks = [es],\n",
    "                        validation_split = 0.2,\n",
    "                        shuffle =True,\n",
    "                        verbose = 1)"
   ]
  },
  {
   "cell_type": "code",
   "execution_count": 35,
   "metadata": {},
   "outputs": [],
   "source": [
    "#plot the learning curve\n",
    "def plot_loss(history):\n",
    "    fig, (ax1, ax2) = plt.subplots(1,2, figsize=(13,4))\n",
    "    ax1.plot(history.history['loss'])\n",
    "    ax1.plot(history.history['val_loss'])\n",
    "    ax1.set_title('Model loss')\n",
    "    ax1.set_ylabel('Loss')\n",
    "    ax1.set_xlabel('Epoch')\n",
    "    ax1.set_ylim(ymin=0, ymax=200)\n",
    "    ax1.legend(['Train', 'Validation'], loc='best')\n",
    "    ax1.grid(axis=\"x\",linewidth=0.5)\n",
    "    ax1.grid(axis=\"y\",linewidth=0.5)    \n",
    "    \n",
    "    ax2.plot(history.history['accuracy'])\n",
    "    ax2.plot(history.history['val_accuracy'])\n",
    "    ax2.set_title('Accuracy')\n",
    "    ax2.set_ylabel('Accuracy')\n",
    "    ax2.set_xlabel('Epoch')\n",
    "    ax2.set_ylim(ymin=0, ymax=20)\n",
    "    ax2.legend(['Train', 'Validation'], loc='best')\n",
    "    ax2.grid(axis=\"x\",linewidth=0.5)\n",
    "    ax2.grid(axis=\"y\",linewidth=0.5)    \n",
    "\n",
    "    plt.show()    "
   ]
  },
  {
   "cell_type": "code",
   "execution_count": 36,
   "metadata": {},
   "outputs": [
    {
     "name": "stderr",
     "output_type": "stream",
     "text": [
      "/var/folders/mz/tl4yflb54ks27kzvc57r1qvw0000gn/T/ipykernel_99831/1004603991.py:1: DeprecationWarning: KerasClassifier is deprecated, use Sci-Keras (https://github.com/adriangb/scikeras) instead. See https://www.adriangb.com/scikeras/stable/migration.html for help migrating.\n",
      "  keras_estimator = KerasClassifier(build_fn = initialize_model, verbose = 1)\n"
     ]
    }
   ],
   "source": [
    "keras_estimator = KerasClassifier(build_fn = initialize_model, verbose = 1)"
   ]
  },
  {
   "cell_type": "code",
   "execution_count": 37,
   "metadata": {},
   "outputs": [],
   "source": [
    "estimator = Pipeline([('kc', keras_estimator)])"
   ]
  },
  {
   "cell_type": "code",
   "execution_count": 53,
   "metadata": {},
   "outputs": [
    {
     "data": {
      "text/plain": [
       "{'verbose': 1,\n",
       " 'build_fn': <function __main__.initialize_model(dropout=0.5, dense_1=50, learning_rate=0.01, kernel_size=(3, 3, 3), pool_size=(2, 2, 2))>}"
      ]
     },
     "execution_count": 53,
     "metadata": {},
     "output_type": "execute_result"
    }
   ],
   "source": [
    "keras_estimator"
   ]
  },
  {
   "cell_type": "code",
   "execution_count": 54,
   "metadata": {},
   "outputs": [
    {
     "data": {
      "text/plain": [
       "{'memory': None,\n",
       " 'steps': [('kc',\n",
       "   <keras.wrappers.scikit_learn.KerasClassifier at 0x15feb1bd0>)],\n",
       " 'verbose': False,\n",
       " 'kc': <keras.wrappers.scikit_learn.KerasClassifier at 0x15feb1bd0>,\n",
       " 'kc__verbose': 1,\n",
       " 'kc__build_fn': <function __main__.initialize_model(dropout=0.5, dense_1=50, learning_rate=0.01, kernel_size=(3, 3, 3), pool_size=(2, 2, 2))>}"
      ]
     },
     "execution_count": 54,
     "metadata": {},
     "output_type": "execute_result"
    }
   ],
   "source": [
    "estimator.get_params()#.get(\"kc__verbose\")\n"
   ]
  },
  {
   "cell_type": "code",
   "execution_count": 39,
   "metadata": {},
   "outputs": [],
   "source": [
    "#hyperparameters tuning\n",
    "# Define the hyperparameters\n",
    "param_grid = {\n",
    "    'kc__dense_1': [20, 30, 50, 100],\n",
    "    'kc__kernel_size': [(2,2,2),(3,3,3), (5,5,5), (7,7,7)],\n",
    "    'kc__pool_size': [(2,2,2),(3,3,3)],\n",
    "    'kc__batch_size':[8, 16, 32],\n",
    "    'kc__dropout': [0.5, 0.4, 0.3, 0.2, 0.1, 0],\n",
    "    'kc__learning_rate': [0.001, 0.01, 0.1]\n",
    "}\n"
   ]
  },
  {
   "cell_type": "code",
   "execution_count": 40,
   "metadata": {},
   "outputs": [],
   "source": [
    "kfold_splits = 5\n",
    "grid = GridSearchCV(estimator=estimator,  \n",
    "                    n_jobs=-1, \n",
    "                    verbose=1,\n",
    "                    return_train_score=True,\n",
    "                    cv=kfold_splits,  #StratifiedKFold(n_splits=kfold_splits, shuffle=True)\n",
    "                    param_grid=param_grid,)"
   ]
  },
  {
   "cell_type": "code",
   "execution_count": null,
   "metadata": {},
   "outputs": [],
   "source": [
    "grid_result = grid.fit(X, y) #callbacks=[tbCallBack]\n",
    "\n",
    "# summarize results\n",
    "print(\"Best: %f using %s\" % (grid_result.best_score_, grid_result.best_params_))\n",
    "means = grid_result.cv_results_['mean_test_score']\n",
    "stds = grid_result.cv_results_['std_test_score']\n",
    "params = grid_result.cv_results_['params']\n",
    "for mean, stdev, param in zip(means, stds, params):\n",
    "    print(\"%f (%f) with: %r\" % (mean, stdev, param))"
   ]
  },
  {
   "cell_type": "code",
   "execution_count": null,
   "metadata": {},
   "outputs": [],
   "source": [
    "y_pred = model.predict(X_test)"
   ]
  },
  {
   "cell_type": "code",
   "execution_count": null,
   "metadata": {},
   "outputs": [],
   "source": [
    "#prediction with the final model \n",
    "model_seg.evaluate(X_test, y_test)"
   ]
  },
  {
   "cell_type": "code",
   "execution_count": null,
   "metadata": {},
   "outputs": [],
   "source": []
  },
  {
   "attachments": {},
   "cell_type": "markdown",
   "metadata": {},
   "source": [
    "## Model acrhitecture - UNET"
   ]
  },
  {
   "cell_type": "code",
   "execution_count": null,
   "metadata": {},
   "outputs": [],
   "source": [
    "#maybe we don't need it for now, will check later"
   ]
  },
  {
   "attachments": {},
   "cell_type": "markdown",
   "metadata": {},
   "source": [
    "## Model architecture - 2D CNN"
   ]
  },
  {
   "cell_type": "code",
   "execution_count": null,
   "metadata": {},
   "outputs": [],
   "source": [
    "#maybe we don't need it for now, will check later"
   ]
  }
 ],
 "metadata": {
  "kernelspec": {
   "display_name": "brain-tumor-project",
   "language": "python",
   "name": "python3"
  },
  "language_info": {
   "codemirror_mode": {
    "name": "ipython",
    "version": 3
   },
   "file_extension": ".py",
   "mimetype": "text/x-python",
   "name": "python",
   "nbconvert_exporter": "python",
   "pygments_lexer": "ipython3",
   "version": "3.10.6"
  },
  "orig_nbformat": 4
 },
 "nbformat": 4,
 "nbformat_minor": 2
}
