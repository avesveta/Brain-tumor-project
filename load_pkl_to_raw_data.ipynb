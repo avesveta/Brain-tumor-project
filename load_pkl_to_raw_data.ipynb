{
 "cells": [
  {
   "cell_type": "code",
   "execution_count": 2,
   "metadata": {},
   "outputs": [],
   "source": [
    "%load_ext autoreload\n",
    "%autoreload 2\n",
    "import os\n",
    "import numpy as np\n",
    "\n",
    "import pandas as pd\n",
    "\n",
    "from google.cloud import storage"
   ]
  },
  {
   "cell_type": "code",
   "execution_count": 4,
   "metadata": {},
   "outputs": [],
   "source": [
    "#need to change the '/home/yaoyx001/code/' to your folder location\n",
    "parent_dir = \"/home/yaoyx001/code/avesveta/brain-tumor-project\" \n",
    "#change to the channel that you need\n",
    "channel = 't1' \n",
    "\n",
    "directory = \"raw_data\" \n",
    "\n",
    "# Path\n",
    "path = os.path.join(parent_dir, directory)\n",
    "  \n",
    "# Create the directory\n",
    "if not os.path.exists(path):\n",
    "    os.makedirs(path)\n",
    "    print(\"Directory '% s' created\" % directory)\n",
    "\n",
    "#check the connection to GCP\n",
    "client = storage.Client()\n",
    "\n",
    "#get the Bucket Name from .env\n",
    "bucket_name = 'row_data_bucket'\n",
    "bucket = client.get_bucket(bucket_name)\n",
    "\n",
    "blob_name=f\"Grade_ID_{channel}_nii.pkl\"\n",
    "#get the blob(file)\n",
    "blob = bucket.blob(blob_name)\n",
    "\n",
    "cache_file = os.path.join(path, blob_name)\n",
    "#save the file in cache_folder\n",
    "\n",
    "if not os.path.isfile(cache_file):\n",
    "    blob.download_to_filename(cache_file)\n",
    "    print('f\"Grade_ID_{channel}_nii.pkl\" is loaded into raw_data')\n"
   ]
  }
 ],
 "metadata": {
  "kernelspec": {
   "display_name": "brain-tumor-project",
   "language": "python",
   "name": "python3"
  },
  "language_info": {
   "codemirror_mode": {
    "name": "ipython",
    "version": 3
   },
   "file_extension": ".py",
   "mimetype": "text/x-python",
   "name": "python",
   "nbconvert_exporter": "python",
   "pygments_lexer": "ipython3",
   "version": "3.10.6"
  },
  "orig_nbformat": 4
 },
 "nbformat": 4,
 "nbformat_minor": 2
}
